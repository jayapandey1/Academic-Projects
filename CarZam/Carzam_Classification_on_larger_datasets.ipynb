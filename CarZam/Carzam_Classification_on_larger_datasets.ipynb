{
  "cells": [
    {
      "cell_type": "code",
      "source": [
        "import os.path as osp\n",
        "import os, glob, shutil"
      ],
      "metadata": {
        "id": "xpJmMAbcphHc"
      },
      "execution_count": null,
      "outputs": []
    },
    {
      "cell_type": "code",
      "source": [
        "from google.colab import drive\n",
        "drive.mount('/content/drive', force_remount=True)"
      ],
      "metadata": {
        "colab": {
          "base_uri": "https://localhost:8080/"
        },
        "id": "1xOrwCqjpr9r",
        "outputId": "608cbfbd-a034-46ba-f36e-ab1f9df97afb"
      },
      "execution_count": null,
      "outputs": [
        {
          "output_type": "stream",
          "name": "stdout",
          "text": [
            "Mounted at /content/drive\n"
          ]
        }
      ]
    },
    {
      "cell_type": "markdown",
      "metadata": {
        "id": "IIvMmyor1zCa"
      },
      "source": [
        "# Downloading the data\n",
        "\n",
        "Note: you should fill in `source_name` and `source_path` based on the correct name and URL for the larger dataset(s). `original_tool_image.zip` is done for you."
      ]
    },
    {
      "cell_type": "code",
      "execution_count": null,
      "metadata": {
        "id": "SklaW9LpKAke"
      },
      "outputs": [],
      "source": [
        "source_name = \"convertible_images.zip\"\n",
        "source_path = \"https://www.dropbox.com/s/0voxu5htke3v6ip/Convertible.zip\""
      ]
    },
    {
      "cell_type": "code",
      "execution_count": 5,
      "metadata": {
        "id": "X2MfjyJ2rHy2"
      },
      "outputs": [],
      "source": [
        "import os\n",
        "if not os.path.exists('./original_tool_image.zip'):\n",
        "  ! wget -O original_tool_image.zip https://www.dropbox.com/s/pha9yzdfkmzoqob/original_tool_images.zip?dl=0\n",
        "if not os.path.exists(source_name):\n",
        "  ! wget -O $source_name $source_path"
      ]
    },
    {
      "cell_type": "markdown",
      "metadata": {
        "id": "_mtMC8V8r43T"
      },
      "source": [
        "# 0. Setup"
      ]
    },
    {
      "cell_type": "markdown",
      "metadata": {
        "id": "TqJoyEW1f_a1"
      },
      "source": [
        "## Git Clone"
      ]
    },
    {
      "cell_type": "markdown",
      "metadata": {
        "id": "oisq4kE8IMHi"
      },
      "source": [
        "### From Source"
      ]
    },
    {
      "cell_type": "code",
      "execution_count": 6,
      "metadata": {
        "id": "bJfycQTLVkEj"
      },
      "outputs": [],
      "source": [
        "! rm -rf -- GLAMOR"
      ]
    },
    {
      "cell_type": "code",
      "execution_count": 7,
      "metadata": {
        "colab": {
          "base_uri": "https://localhost:8080/"
        },
        "id": "goBMKUmagBIx",
        "outputId": "4db4377a-2777-47f3-848d-6dc94bb43e06"
      },
      "outputs": [
        {
          "output_type": "stream",
          "name": "stdout",
          "text": [
            "Cloning into 'GLAMOR'...\n",
            "remote: Enumerating objects: 8032, done.\u001b[K\n",
            "remote: Counting objects: 100% (2519/2519), done.\u001b[K\n",
            "remote: Compressing objects: 100% (801/801), done.\u001b[K\n",
            "remote: Total 8032 (delta 1573), reused 2349 (delta 1447), pack-reused 5513\u001b[K\n",
            "Receiving objects: 100% (8032/8032), 2.18 MiB | 16.29 MiB/s, done.\n",
            "Resolving deltas: 100% (5274/5274), done.\n"
          ]
        }
      ],
      "source": [
        "! git clone -b master https://github.com/asuprem/GLAMOR"
      ]
    },
    {
      "cell_type": "code",
      "execution_count": 8,
      "metadata": {
        "colab": {
          "base_uri": "https://localhost:8080/"
        },
        "id": "T80AC-kx4v4Y",
        "outputId": "9c7cf3fe-32b5-4935-ab78-3f28852b65d1"
      },
      "outputs": [
        {
          "output_type": "stream",
          "name": "stdout",
          "text": [
            "Looking in indexes: https://pypi.org/simple, https://us-python.pkg.dev/colab-wheels/public/simple/\n",
            "Obtaining file:///content/GLAMOR\n",
            "Requirement already satisfied: scikit-learn>=1.0.2 in /usr/local/lib/python3.7/dist-packages (from ednaml==0.1.5) (1.0.2)\n",
            "Requirement already satisfied: torch>=1.10.* in /usr/local/lib/python3.7/dist-packages (from ednaml==0.1.5) (1.12.1+cu113)\n",
            "Collecting torchinfo>=1.6.5\n",
            "  Downloading torchinfo-1.7.1-py3-none-any.whl (22 kB)\n",
            "Requirement already satisfied: torchvision>=0.11.* in /usr/local/lib/python3.7/dist-packages (from ednaml==0.1.5) (0.13.1+cu113)\n",
            "Requirement already satisfied: Pillow>=7.1.2 in /usr/local/lib/python3.7/dist-packages (from ednaml==0.1.5) (7.1.2)\n",
            "Requirement already satisfied: tqdm>=4.63.* in /usr/local/lib/python3.7/dist-packages (from ednaml==0.1.5) (4.64.1)\n",
            "Collecting sentencepiece>=0.1.96\n",
            "  Downloading sentencepiece-0.1.97-cp37-cp37m-manylinux_2_17_x86_64.manylinux2014_x86_64.whl (1.3 MB)\n",
            "\u001b[K     |████████████████████████████████| 1.3 MB 30.8 MB/s \n",
            "\u001b[?25hRequirement already satisfied: sortedcontainers>=2.4.0 in /usr/local/lib/python3.7/dist-packages (from ednaml==0.1.5) (2.4.0)\n",
            "Requirement already satisfied: pyyaml>=6.0 in /usr/local/lib/python3.7/dist-packages (from ednaml==0.1.5) (6.0)\n",
            "Requirement already satisfied: numpy>=1.14.6 in /usr/local/lib/python3.7/dist-packages (from scikit-learn>=1.0.2->ednaml==0.1.5) (1.21.6)\n",
            "Requirement already satisfied: scipy>=1.1.0 in /usr/local/lib/python3.7/dist-packages (from scikit-learn>=1.0.2->ednaml==0.1.5) (1.7.3)\n",
            "Requirement already satisfied: threadpoolctl>=2.0.0 in /usr/local/lib/python3.7/dist-packages (from scikit-learn>=1.0.2->ednaml==0.1.5) (3.1.0)\n",
            "Requirement already satisfied: joblib>=0.11 in /usr/local/lib/python3.7/dist-packages (from scikit-learn>=1.0.2->ednaml==0.1.5) (1.2.0)\n",
            "Requirement already satisfied: typing-extensions in /usr/local/lib/python3.7/dist-packages (from torch>=1.10.*->ednaml==0.1.5) (4.1.1)\n",
            "Requirement already satisfied: requests in /usr/local/lib/python3.7/dist-packages (from torchvision>=0.11.*->ednaml==0.1.5) (2.23.0)\n",
            "Requirement already satisfied: chardet<4,>=3.0.2 in /usr/local/lib/python3.7/dist-packages (from requests->torchvision>=0.11.*->ednaml==0.1.5) (3.0.4)\n",
            "Requirement already satisfied: urllib3!=1.25.0,!=1.25.1,<1.26,>=1.21.1 in /usr/local/lib/python3.7/dist-packages (from requests->torchvision>=0.11.*->ednaml==0.1.5) (1.24.3)\n",
            "Requirement already satisfied: certifi>=2017.4.17 in /usr/local/lib/python3.7/dist-packages (from requests->torchvision>=0.11.*->ednaml==0.1.5) (2022.9.24)\n",
            "Requirement already satisfied: idna<3,>=2.5 in /usr/local/lib/python3.7/dist-packages (from requests->torchvision>=0.11.*->ednaml==0.1.5) (2.10)\n",
            "Installing collected packages: torchinfo, sentencepiece, ednaml\n",
            "  Running setup.py develop for ednaml\n",
            "Successfully installed ednaml-0.1.5 sentencepiece-0.1.97 torchinfo-1.7.1\n"
          ]
        }
      ],
      "source": [
        "!pip install -e GLAMOR/"
      ]
    },
    {
      "cell_type": "markdown",
      "metadata": {
        "id": "d5j3WfN0fpIT"
      },
      "source": [
        "###  From PyPi"
      ]
    },
    {
      "cell_type": "code",
      "execution_count": 9,
      "metadata": {
        "id": "f7dkOhZi08dU"
      },
      "outputs": [],
      "source": [
        "#! python -V"
      ]
    },
    {
      "cell_type": "code",
      "execution_count": 10,
      "metadata": {
        "id": "FwqgjiZ331ik"
      },
      "outputs": [],
      "source": [
        "#! pip3 install --pre ednaml==0.1.4"
      ]
    },
    {
      "cell_type": "markdown",
      "metadata": {
        "id": "a1xpKp49RM4i"
      },
      "source": []
    },
    {
      "cell_type": "markdown",
      "metadata": {
        "id": "84c7mTxBr7Sz"
      },
      "source": [
        "# ----------- Restart Notebook to Finish EdnaML Installation ----------------"
      ]
    },
    {
      "cell_type": "markdown",
      "metadata": {
        "id": "j6-WuaR3sX5m"
      },
      "source": [
        "# 1 Building the Crawler"
      ]
    },
    {
      "cell_type": "code",
      "execution_count": 1,
      "metadata": {
        "id": "rW5_Xxhvr7IT"
      },
      "outputs": [],
      "source": [
        "%load_ext autoreload\n",
        "%autoreload 2"
      ]
    },
    {
      "cell_type": "code",
      "execution_count": 2,
      "metadata": {
        "colab": {
          "base_uri": "https://localhost:8080/",
          "height": 35
        },
        "id": "zXxdpMEtr7GG",
        "outputId": "48ad8676-8e21-4de8-dfbc-2b2b917306b1"
      },
      "outputs": [
        {
          "output_type": "execute_result",
          "data": {
            "text/plain": [
              "'1.12.1+cu113'"
            ],
            "application/vnd.google.colaboratory.intrinsic+json": {
              "type": "string"
            }
          },
          "metadata": {},
          "execution_count": 2
        }
      ],
      "source": [
        "import torch\n",
        "import ednaml\n",
        "import glob, os\n",
        "import pandas as pd\n",
        "import re\n",
        "from ednaml.core import EdnaDeploy, EdnaML\n",
        "torch.__version__"
      ]
    },
    {
      "cell_type": "markdown",
      "metadata": {
        "id": "VcZQxeQmT9qf"
      },
      "source": [
        "## 1.1 Crawler Extractors"
      ]
    },
    {
      "cell_type": "code",
      "execution_count": 3,
      "metadata": {
        "id": "cvK69cyrUD_y"
      },
      "outputs": [],
      "source": [
        "class VehicleInfo:\n",
        "  def __init__(self, vehicle_type=None, color=None, year=None, make=None, model=None, img_path=None):\n",
        "    self.vehicle_type = vehicle_type\n",
        "    self.color = color\n",
        "    self.year = year\n",
        "    self.make = make\n",
        "    self.model = model\n",
        "    self.img_path = img_path\n",
        "  \n",
        "\n",
        "  def get_info_tuple(self):\n",
        "    return [self.vehicle_type, self.color, self.year, self.make, self.model, self.img_path]\n",
        "  \n",
        "  def to_dict(self):\n",
        "    return {\n",
        "        \"type\": self.vehicle_type,\n",
        "        \"color\": self.color,\n",
        "        \"year\": self.year,\n",
        "        \"make\": self.make,\n",
        "        \"model\": self.model,\n",
        "        \"img_path\": self.img_path\n",
        "    }  "
      ]
    },
    {
      "cell_type": "code",
      "execution_count": 4,
      "metadata": {
        "id": "ITRD7pMLUGRk"
      },
      "outputs": [],
      "source": [
        "class ModelExtractor:\n",
        "  IMG_EXTENSIONS = [\n",
        "      \".jpeg\", \".jpg\", \".png\"\n",
        "  ]\n",
        "  @classmethod\n",
        "  def extract(cls, vehicle_type, year, make, string):\n",
        "    \n",
        "    for extension in cls.IMG_EXTENSIONS:\n",
        "      string = string.replace(extension, \"\")\n",
        "\n",
        "    model_splits = string.split(\"__\")[0].split(\"_\")\n",
        "    model = []\n",
        "    for idx, model_split in enumerate(model_splits):\n",
        "      if idx == len(model_splits) - 1 and model_split.isnumeric() and \"__\" not in string:\n",
        "        continue\n",
        "      \n",
        "      model.append(model_split)\n",
        "    \n",
        "    return vehicle_type, year, make, \" \".join(model)\n",
        "\n",
        "class MakeExtractor:\n",
        "\n",
        "  @classmethod\n",
        "  def split_based_on_caps(cls, string):\n",
        "    return re.findall('[A-Z][^A-Z0-9_]*', string)\n",
        "\n",
        "  @classmethod\n",
        "  def extract(cls, vehicle_type, year, string):\n",
        "    split_on_capitalized_letters = cls.split_based_on_caps(string)\n",
        "\n",
        "    multiword_makes = {\n",
        "        \"LandRover\": \"Land Rover\", \n",
        "        \"Mercedes-Benz\": \"Mercedes Benz\",\n",
        "        \"BMW\": \"BMW\"\n",
        "    }\n",
        "\n",
        "    for multiword_make, mapped_make in multiword_makes.items():\n",
        "      if string.startswith(multiword_make):\n",
        "        make = mapped_make\n",
        "        remaining_str = string.replace(multiword_make, \"\").lstrip()\n",
        "        break\n",
        "\n",
        "    else:\n",
        "      make = split_on_capitalized_letters[0]\n",
        "      remaining_str = string.replace(make, \"\").lstrip()\n",
        "\n",
        "    return vehicle_type, year, make, remaining_str\n",
        "\n",
        "class YearExtractor:\n",
        "\n",
        "  @classmethod\n",
        "  def extract(cls, vehicle_type, string):\n",
        "    year, remaining_str = string.split(\"_\", 1)\n",
        "    return vehicle_type, year, remaining_str\n",
        "\n",
        "\n",
        "class TypeExtractor:\n",
        "\n",
        "  @classmethod\n",
        "  def extract(cls, string):\n",
        "    vehicle_type, remaining_str = string.split(\"_\", 1)\n",
        "    return vehicle_type, remaining_str\n",
        "\n",
        "\n",
        "class Extractor:\n",
        "\n",
        "  @classmethod\n",
        "  def extract(cls, string):\n",
        "    extracted_parts = []\n",
        "    remaining_string = string\n",
        "\n",
        "    for extractor_cls in [TypeExtractor, YearExtractor, MakeExtractor, ModelExtractor]:\n",
        "      output = extractor_cls.extract(*extracted_parts, remaining_string)\n",
        "      remaining_string = output[-1]\n",
        "      extracted_parts = output[ : -1]\n",
        "    \n",
        "    vehicle_type, year, make, model = output\n",
        "    return VehicleInfo(vehicle_type=vehicle_type, year=year, make=make, model=model)\n"
      ]
    },
    {
      "cell_type": "markdown",
      "metadata": {
        "id": "9PfHu-KZsQ9x"
      },
      "source": [
        "## 1.2 Crawler class definition"
      ]
    },
    {
      "cell_type": "code",
      "execution_count": 5,
      "metadata": {
        "id": "CtFMkIEdS34j"
      },
      "outputs": [],
      "source": [
        "# Here we define our custom model class\n",
        "from ednaml.crawlers import Crawler\n",
        "from zipfile import ZipFile # might be useful in unzipping!\n",
        "import traceback\n",
        "\n",
        "class CarZamCrawler(Crawler):\n",
        "  DATASET_EXTRACTION_DIR = \"/Users/deepakchalliyil/PycharmProjects/carzam/images\"\n",
        "\n",
        "  def __init__(self, logger, file_name = \"original_tool_images.zip\", **kwargs): # Add your own arguments if needed!\n",
        "    self.metadata = {}\n",
        "    self.log_level = kwargs.get(\"log_level\", \"info\")\n",
        "    self.random_seed = kwargs.get(\"seed\", 2321412)\n",
        "    self.train_split_frac = kwargs.get(\"train_split_frac\", 0.8)\n",
        "    self.test_split_frac = kwargs.get(\"test_split_frac\", 0.1)\n",
        "    self.validation_split_frac = kwargs.get(\"validation_split_frac\", 0.1)\n",
        "    \n",
        "    if self.train_split_frac + self.test_split_frac + self.validation_split_frac != 1:\n",
        "      raise AssertionError(f'Train/Split/Validation split fractions should sum upto 1!')\n",
        "\n",
        "    self.metadata[\"train\"] = {}\n",
        "    self.metadata[\"test\"] = {}\n",
        "    self.metadata[\"val\"] = {}\n",
        "    self.metadata[\"train\"][\"crawl\"] = []  # <------ THIS NEEDS TO BE POPULATED\n",
        "    self.metadata[\"test\"][\"crawl\"] = []   # <------ THIS NEEDS TO BE POPULATED\n",
        "    self.metadata[\"val\"][\"crawl\"] = []    # <------ THIS NEEDS TO BE POPULATED\n",
        "    \n",
        "    # YOUR CODE HERE ------ POPULATE self.classes and self.metadata's empty lists ---\n",
        "    self.file_name = file_name\n",
        "\n",
        "    self.vehicle_info_list, self.vehicle_df = self.parse_data()\n",
        "    self.encoded_df, self.reverse_lookup_dict = self.factorize_labels(self.vehicle_df)\n",
        "    \n",
        "    self.shuffled_df = self.encoded_df.sample(frac=1, random_state=self.random_seed)\n",
        "    \n",
        "    num_train_rec = int(len(self.shuffled_df) * self.train_split_frac)\n",
        "    num_test_rec = int(len(self.shuffled_df) * self.test_split_frac)\n",
        "    num_val_rec = int(len(self.shuffled_df) * self.validation_split_frac)\n",
        "\n",
        "    train_samples = self.shuffled_df[: num_train_rec]\n",
        "    test_samples = self.shuffled_df[num_train_rec: num_train_rec + num_test_rec]\n",
        "    validation_samples = self.shuffled_df[num_train_rec + num_test_rec: ]\n",
        "\n",
        "    self.metadata[\"train\"][\"crawl\"] = list(train_samples.itertuples(index=False, name=None))\n",
        "    self.metadata[\"test\"][\"crawl\"] = list(test_samples.itertuples(index=False, name=None))\n",
        "    self.metadata[\"val\"][\"crawl\"] = list(validation_samples.itertuples(index=False, name=None))\n",
        "\n",
        "\n",
        "    # -------------------------------------------------------------------------------\n",
        "\n",
        "    self.metadata[\"train\"][\"classes\"] = self.compute_classes(train_samples)\n",
        "    self.metadata[\"test\"][\"classes\"] = self.compute_classes(test_samples)\n",
        "    self.metadata[\"val\"][\"classes\"] = self.compute_classes(validation_samples)\n",
        "\n",
        "    self.classes = self.compute_classes(self.vehicle_df)\n",
        "    \n",
        "  def factorize_labels(self, df, cols=[\"type\", \"color\", \"year\", \"make\", \"model\"]):\n",
        "    encoded_df = df.copy()\n",
        "    reverse_lookup_dict = {}\n",
        "\n",
        "    for col in cols:\n",
        "      col_dict = {}\n",
        "\n",
        "      labels, levels = pd.factorize(df[col])\n",
        "      encoded_df[col] = labels\n",
        "      for idx, val in enumerate(levels):\n",
        "        col_dict[val] = idx\n",
        "      \n",
        "      reverse_lookup_dict[col] = col_dict\n",
        "\n",
        "    return encoded_df, reverse_lookup_dict\n",
        "\n",
        "  def parse_data(self):\n",
        "    results = []\n",
        "    \n",
        "    with ZipFile(self.file_name, 'r') as zipObj:\n",
        "      filenames = zipObj.namelist()\n",
        "\n",
        "      for filepath in filenames:\n",
        "        if not any([filepath.endswith(\"jpg\"), filepath.endswith(\"jpeg\")]):\n",
        "          continue\n",
        "        \n",
        "        filename = filepath.split(\"/\")[-1]\n",
        "        if filename.startswith(\".\"):\n",
        "          # Ignore hidden files\n",
        "          continue\n",
        "        \n",
        "        try:\n",
        "          vehicle_info = Extractor.extract(filename)\n",
        "          vehicle_info.img_path = os.path.join(self.DATASET_EXTRACTION_DIR, filepath)\n",
        "          vehicle_info_dict = vehicle_info.to_dict()\n",
        "\n",
        "          if self.log_level == \"debug\":\n",
        "            print(vehicle_info_dict)\n",
        "\n",
        "          results.append(vehicle_info_dict)\n",
        "\n",
        "        except Exception as e:\n",
        "          # Log and build an extractor to capture these with custom extraction logic\n",
        "          print(f'Exception while processing filepath: {filepath}')\n",
        "          print(traceback.format_exc())\n",
        "\n",
        "        if not os.path.exists(self.DATASET_EXTRACTION_DIR):\n",
        "          zipObj.extractall(self.DATASET_EXTRACTION_DIR)\n",
        "      \n",
        "      return results, pd.DataFrame(results)\n",
        "\n",
        "\n",
        "  def compute_classes(self, df, dimensions=[\"type\", \"make\", \"year\", \"color\", \"model\"]):\n",
        "    class_dict = {}\n",
        "\n",
        "    for dimension in dimensions:\n",
        "      num_items = df[dimension].nunique()\n",
        "      class_dict[dimension] = num_items\n",
        "    \n",
        "    return class_dict"
      ]
    },
    {
      "cell_type": "markdown",
      "metadata": {
        "id": "_GzkE8ymuUj7"
      },
      "source": [
        "## 1.2 Testing the Crawler"
      ]
    },
    {
      "cell_type": "code",
      "execution_count": 6,
      "metadata": {
        "id": "x0GIxddZuarz"
      },
      "outputs": [],
      "source": [
        "kwargs = {\n",
        "    \"logger\" : None,\n",
        "    \"log_level\": \"info\",\n",
        "    \"seed\": 21312411,\n",
        "    \"file_name\" : \"/content/convertible_images.zip\",\n",
        "    \"train_split_frac\": 0.8,\n",
        "    \"test_split_frac\": 0.1,\n",
        "    \"validation_split_frac\": 0.1\n",
        "    # add any other kwargs here...\n",
        "}"
      ]
    },
    {
      "cell_type": "code",
      "execution_count": 7,
      "metadata": {
        "id": "BIGL8tGzuWs7"
      },
      "outputs": [],
      "source": [
        "crawler = CarZamCrawler(**kwargs)"
      ]
    },
    {
      "cell_type": "code",
      "execution_count": 8,
      "metadata": {
        "colab": {
          "base_uri": "https://localhost:8080/"
        },
        "id": "bf3QLBgWuouh",
        "outputId": "bae4625a-6d5c-4b0d-995d-1d0a38b3a2b0"
      },
      "outputs": [
        {
          "output_type": "execute_result",
          "data": {
            "text/plain": [
              "{'type': 1, 'make': 14, 'year': 11, 'color': 0, 'model': 58}"
            ]
          },
          "metadata": {},
          "execution_count": 8
        }
      ],
      "source": [
        "crawler.classes # You should get the classes here"
      ]
    },
    {
      "cell_type": "code",
      "execution_count": 9,
      "metadata": {
        "colab": {
          "base_uri": "https://localhost:8080/"
        },
        "id": "Aud7dfjGunhE",
        "outputId": "d125da24-4e42-4d59-c0df-7d8af4fb4dd3"
      },
      "outputs": [
        {
          "output_type": "stream",
          "name": "stdout",
          "text": [
            "[(0, -1, 1, 3, 3, '/Users/deepakchalliyil/PycharmProjects/carzam/images/Convertible/Convertible_2012_VolkswagenEos_Komfort_12.jpg'), (0, -1, 5, 9, 30, '/Users/deepakchalliyil/PycharmProjects/carzam/images/Convertible/Convertible_2016_MazdaMX-5_Miata_Grand_Touring_15.jpg'), (0, -1, 7, 11, 43, '/Users/deepakchalliyil/PycharmProjects/carzam/images/Convertible/Convertible_2018_AudiTT__57.jpg'), (0, -1, 2, 8, 10, '/Users/deepakchalliyil/PycharmProjects/carzam/images/Convertible/Convertible_2013_Porsche911_Carrera_S_21.jpg'), (0, -1, 2, 1, 4, '/Users/deepakchalliyil/PycharmProjects/carzam/images/Convertible/Convertible_2013_BMW328_I_28.jpg')]\n"
          ]
        }
      ],
      "source": [
        "print(crawler.metadata[\"test\"][\"crawl\"][:5])  # You should get the list of tuples here"
      ]
    },
    {
      "cell_type": "code",
      "source": [
        "print(crawler.vehicle_df)"
      ],
      "metadata": {
        "colab": {
          "base_uri": "https://localhost:8080/"
        },
        "id": "GEQORz95TTBF",
        "outputId": "b8bceb9f-ef6c-4c9e-8848-76bbd35b63ba"
      },
      "execution_count": 10,
      "outputs": [
        {
          "output_type": "stream",
          "name": "stdout",
          "text": [
            "             type color  year   make             model  \\\n",
            "0     Convertible  None  2011   Mini          Cooper S   \n",
            "1     Convertible  None  2011   Mini          Cooper S   \n",
            "2     Convertible  None  2011   Mini          Cooper S   \n",
            "3     Convertible  None  2011   Mini          Cooper S   \n",
            "4     Convertible  None  2011   Mini          Cooper S   \n",
            "...           ...   ...   ...    ...               ...   \n",
            "5485  Convertible  None  2021  Mazda  MX-5 Miata Sport   \n",
            "5486  Convertible  None  2021  Mazda  MX-5 Miata Sport   \n",
            "5487  Convertible  None  2021  Mazda  MX-5 Miata Sport   \n",
            "5488  Convertible  None  2021  Mazda  MX-5 Miata Sport   \n",
            "5489  Convertible  None  2021  Mazda  MX-5 Miata Sport   \n",
            "\n",
            "                                               img_path  \n",
            "0     /Users/deepakchalliyil/PycharmProjects/carzam/...  \n",
            "1     /Users/deepakchalliyil/PycharmProjects/carzam/...  \n",
            "2     /Users/deepakchalliyil/PycharmProjects/carzam/...  \n",
            "3     /Users/deepakchalliyil/PycharmProjects/carzam/...  \n",
            "4     /Users/deepakchalliyil/PycharmProjects/carzam/...  \n",
            "...                                                 ...  \n",
            "5485  /Users/deepakchalliyil/PycharmProjects/carzam/...  \n",
            "5486  /Users/deepakchalliyil/PycharmProjects/carzam/...  \n",
            "5487  /Users/deepakchalliyil/PycharmProjects/carzam/...  \n",
            "5488  /Users/deepakchalliyil/PycharmProjects/carzam/...  \n",
            "5489  /Users/deepakchalliyil/PycharmProjects/carzam/...  \n",
            "\n",
            "[5490 rows x 6 columns]\n"
          ]
        }
      ]
    },
    {
      "cell_type": "markdown",
      "metadata": {
        "id": "l6_TufwByRmh"
      },
      "source": [
        "# 2 Statistics\n",
        "\n",
        "Here, you can add your code to explore the data and obtain whatever plots you need. If you already have the code somewhere else, then you can keep it as is, and leave this blank. If you want everything in one place, feel free to use this section!"
      ]
    },
    {
      "cell_type": "code",
      "execution_count": null,
      "metadata": {
        "id": "dO9dJ0R-1Io0"
      },
      "outputs": [],
      "source": [
        "import matplotlib.pyplot as plt"
      ]
    },
    {
      "cell_type": "code",
      "execution_count": null,
      "metadata": {
        "id": "7yRF6u3MySi2"
      },
      "outputs": [],
      "source": [
        "# Write code to collect info on # makes, models, year, type"
      ]
    },
    {
      "cell_type": "code",
      "execution_count": null,
      "metadata": {
        "id": "hXeyEUkyRs1J"
      },
      "outputs": [],
      "source": [
        "import os\n",
        "import matplotlib.pyplot as plt"
      ]
    },
    {
      "cell_type": "code",
      "execution_count": null,
      "metadata": {
        "id": "nSBZCtdORuqc"
      },
      "outputs": [],
      "source": [
        "STATS_DIR = '/content/drive/MyDrive/Colab Notebooks/CarZam/notebook2/stats'\n",
        "CSV_DIR = os.path.join(STATS_DIR, \"csv\")\n",
        "PLOTS_DIR = os.path.join(STATS_DIR, \"plots\")\n",
        "\n",
        "for directory in [STATS_DIR, CSV_DIR, PLOTS_DIR]:\n",
        "  if not os.path.isdir(directory):\n",
        "    os.makedirs(directory)\n"
      ]
    },
    {
      "cell_type": "code",
      "execution_count": null,
      "metadata": {
        "colab": {
          "base_uri": "https://localhost:8080/"
        },
        "id": "SeYWhvKJRxFt",
        "outputId": "f39afb0f-da01-412a-be7f-1c4f541a577b"
      },
      "outputs": [
        {
          "output_type": "display_data",
          "data": {
            "text/plain": [
              "<Figure size 2160x720 with 1 Axes>"
            ],
            "image/png": "[encoded data removed]"
          },
          "metadata": {
            "needs_background": "light"
          }
        },
        {
          "output_type": "display_data",
          "data": {
            "text/plain": [
              "<Figure size 2160x720 with 1 Axes>"
            ],
            "image/png": "[encoded data removed]"
          },
          "metadata": {
            "needs_background": "light"
          }
        },
        {
          "output_type": "display_data",
          "data": {
            "text/plain": [
              "<Figure size 2160x720 with 1 Axes>"
            ],
            "image/png": "[encoded data removed]"
          },
          "metadata": {
            "needs_background": "light"
          }
        },
        {
          "output_type": "display_data",
          "data": {
            "text/plain": [
              "<Figure size 2160x720 with 1 Axes>"
            ],
            "image/png": "[encoded data removed]"
          },
          "metadata": {
            "needs_background": "light"
          }
        },
        {
          "output_type": "display_data",
          "data": {
            "text/plain": [
              "<Figure size 2160x720 with 1 Axes>"
            ],
            "image/png": "[encoded data removed]"
          },
          "metadata": {
            "needs_background": "light"
          }
        }
      ],
      "source": [
        "PLOT_LIMIT_SIZE = 20\n",
        "\n",
        "dimensions = [\"type\", \"model\", \"year\", \"make\", \"color\"]\n",
        "for dimension in dimensions:\n",
        "  grouped_df = crawler.vehicle_df.groupby(dimension).size().reset_index(name='count').sort_values(['count'], ascending=False).reset_index(drop=True)\n",
        "  grouped_csv_data_output_filename = os.path.join(CSV_DIR, f'grouped-by-{dimension}')\n",
        "  output_csv_filename = grouped_csv_data_output_filename + \".csv\"\n",
        "\n",
        "  grouped_df.to_csv(output_csv_filename)\n",
        "  \n",
        "  fig = plt.figure(figsize = (30, 10))\n",
        "\n",
        "  x_data = grouped_df[dimension]\n",
        "  y_data = grouped_df[\"count\"]\n",
        "\n",
        "  if dimension == \"model\":\n",
        "    x_data = x_data[: PLOT_LIMIT_SIZE]\n",
        "    y_data = y_data[: PLOT_LIMIT_SIZE]\n",
        "\n",
        "  plt.bar(x_data, y_data)\n",
        "  plt.xticks(rotation = 45) # Rotates X-Axis Ticks by 45-degrees\n",
        "  grouped_plots_data_output_filename = os.path.join(PLOTS_DIR, f'grouped-by-{dimension}')\n",
        "  output_png_filename = grouped_plots_data_output_filename + \".png\"\n",
        "  fig.savefig(output_png_filename)"
      ]
    },
    {
      "cell_type": "code",
      "execution_count": null,
      "metadata": {
        "colab": {
          "base_uri": "https://localhost:8080/"
        },
        "id": "ZU7oAmTtRz1m",
        "outputId": "1dc89323-6508-4dc9-e8da-826f27632429"
      },
      "outputs": [
        {
          "output_type": "display_data",
          "data": {
            "text/plain": [
              "<Figure size 2160x2160 with 1 Axes>"
            ],
            "image/png": "[encoded data removed]"
          },
          "metadata": {
            "needs_background": "light"
          }
        },
        {
          "output_type": "display_data",
          "data": {
            "text/plain": [
              "<Figure size 2160x2160 with 1 Axes>"
            ],
            "image/png": "[encoded data removed]"
          },
          "metadata": {
            "needs_background": "light"
          }
        },
        {
          "output_type": "display_data",
          "data": {
            "text/plain": [
              "<Figure size 2160x2160 with 1 Axes>"
            ],
            "image/png": "[encoded data removed]"
          },
          "metadata": {
            "needs_background": "light"
          }
        },
        {
          "output_type": "display_data",
          "data": {
            "text/plain": [
              "<Figure size 2160x2160 with 1 Axes>"
            ],
            "image/png": "[encoded data removed]"
          },
          "metadata": {
            "needs_background": "light"
          }
        }
      ],
      "source": [
        "MAKE_PLOT_LIMIT_SIZE = 20\n",
        "pairwise_dimensions = [\n",
        "    [\"make\", \"model\"],\n",
        "    [\"make\", \"year\"],\n",
        "    [\"type\", \"year\"],\n",
        "    [\"make\", \"color\"]\n",
        "]\n",
        "\n",
        "for pairwise_dimension in pairwise_dimensions:\n",
        "\n",
        "  grouped_df = crawler.vehicle_df.groupby(pairwise_dimension).size().reset_index(name='count').sort_values(['count'], ascending=False).reset_index(drop=True)\n",
        "  grouped_csv_data_output_filename = os.path.join(CSV_DIR, f'grouped-by-{\"-\".join(pairwise_dimension)}')\n",
        "  output_csv_filename = grouped_csv_data_output_filename + \".csv\"\n",
        "\n",
        "  grouped_df.to_csv(output_csv_filename)\n",
        "  if \"make\" in pairwise_dimension:\n",
        "      x_data = grouped_df[pairwise_dimension[0]][: MAKE_PLOT_LIMIT_SIZE]\n",
        "      y_data = grouped_df[pairwise_dimension[1]][: MAKE_PLOT_LIMIT_SIZE]\n",
        "      s_data = grouped_df[\"count\"][: MAKE_PLOT_LIMIT_SIZE] ** 2\n",
        "    \n",
        "  else:\n",
        "    x_data = grouped_df[pairwise_dimension[0]]\n",
        "    y_data = grouped_df[pairwise_dimension[1]]\n",
        "    s_data = grouped_df[\"count\"] ** 2\n",
        "    \n",
        "\n",
        "  fig = plt.figure(figsize = (30, 30))\n",
        "  plt.scatter(\n",
        "    x=x_data, \n",
        "    y=y_data, \n",
        "    s=s_data,\n",
        "    cmap=\"Accent\", \n",
        "    alpha=0.6, \n",
        "    edgecolors=\"white\", \n",
        "    linewidth=2\n",
        "  );\n",
        "\n",
        "  grouped_plots_data_output_filename = os.path.join(PLOTS_DIR, f'grouped-by-{\"-\".join(pairwise_dimension)}')\n",
        "  output_png_filename = grouped_plots_data_output_filename + \".png\"\n",
        "  fig.savefig(output_png_filename)"
      ]
    },
    {
      "cell_type": "markdown",
      "metadata": {
        "id": "fqAy4iLxK0Z8"
      },
      "source": [
        "# 3 Building a simple, single classification model for `original_tool_images.zip`\n",
        "\n",
        "Here, we will built a simple model to classify a subset of original_tool_images.zip. Then we will expand to multiple labels. Finally, we will tackle the larger-scale datasets problem."
      ]
    },
    {
      "cell_type": "markdown",
      "metadata": {
        "id": "XScfC4oALNFe"
      },
      "source": [
        "## 3.1 Single classification (Vehicle Type)\n",
        "\n",
        "We will try with the vehicle type classifier first. Our architecture looks like:\n",
        "\n",
        "\n",
        "[<img src=\"https://i.redd.it/cvjvsdlq4yx91.png\" width=\"550\"/>]"
      ]
    },
    {
      "cell_type": "code",
      "execution_count": null,
      "metadata": {
        "id": "lqoXW_VoK0LC"
      },
      "outputs": [],
      "source": [
        "class_name = \"type\"  # Make sure to change this to whatever name you used for make in your `original_tool_images` crawler\n",
        "class_idx = 0         # Make sure to change this to whetever index `type` is in your Crawler's tuple!\n",
        "path_idx = 5          # Change this to whichever index in tuple has path\n",
        "crawler_args = {\n",
        "    \"log_level\": \"info\",\n",
        "    \"seed\": 21312411,\n",
        "    \"file_name\" : \"/content/convertible_images.zip\",\n",
        "    \"train_split_frac\": 0.8,\n",
        "    \"test_split_frac\": 0.1,\n",
        "    \"validation_split_frac\": 0.1\n",
        "    # add any other kwargs here...\n",
        "}"
      ]
    },
    {
      "cell_type": "code",
      "execution_count": null,
      "metadata": {
        "colab": {
          "base_uri": "https://localhost:8080/"
        },
        "id": "f3KHo9SZQ07r",
        "outputId": "be942165-377f-4a9e-8039-ee059114543b"
      },
      "outputs": [
        {
          "output_type": "stream",
          "name": "stdout",
          "text": [
            "The autoreload extension is already loaded. To reload it, use:\n",
            "  %reload_ext autoreload\n"
          ]
        }
      ],
      "source": [
        "%load_ext autoreload\n",
        "%autoreload 2"
      ]
    },
    {
      "cell_type": "code",
      "execution_count": null,
      "metadata": {
        "colab": {
          "base_uri": "https://localhost:8080/"
        },
        "id": "RYAiLHiGQ4Sj",
        "outputId": "e398439c-9553-48ae-f7da-8d369adf8b24"
      },
      "outputs": [
        {
          "output_type": "stream",
          "name": "stdout",
          "text": [
            "Injected key-value pair:  SAVE.MODEL_QUALIFIER, type\n"
          ]
        }
      ],
      "source": [
        "from ednaml.core import EdnaML\n",
        "from ednaml.generators import ClassificationGenerator\n",
        "\n",
        "eml = EdnaML(config = \"./GLAMOR/profiles/CarZam/base_config_with_backup.yml\", config_inject=[\n",
        "    (\"SAVE.MODEL_QUALIFIER\", class_name)\n",
        "])\n",
        "\n",
        "eml.cfg.EXECUTION.DATAREADER.CRAWLER_ARGS = crawler_args\n",
        "eml.cfg.EXECUTION.DATAREADER.DATASET_ARGS[\"pathidx\"] = path_idx\n",
        "eml.cfg.EXECUTION.DATAREADER.DATASET_ARGS[\"annotationidx\"] = class_idx\n",
        "eml.cfg.EXECUTION.DATAREADER.DATASET_ARGS[\"classificationclass\"] = class_name\n",
        "eml.cfg.TRAIN_TRANSFORMATION.BATCH_SIZE = 256\n",
        "\n",
        "eml.addGeneratorClass(ClassificationGenerator)\n",
        "eml.addCrawlerClass(CarZamCrawler)"
      ]
    },
    {
      "cell_type": "code",
      "execution_count": null,
      "metadata": {
        "colab": {
          "base_uri": "https://localhost:8080/"
        },
        "id": "RBYrjfZNSjdo",
        "outputId": "8e71228f-9b97-418f-d730-31f9a3341c9c"
      },
      "outputs": [
        {
          "output_type": "stream",
          "name": "stderr",
          "text": [
            "23:36:51 ****************************************\n",
            "23:36:51 \n",
            "23:36:51 \n",
            "23:36:51 Using the following configuration:\n",
            "23:36:51 DEPLOYMENT:\n",
            "  DATAREADER:\n",
            "    CRAWLER_ARGS: {}\n",
            "    DATAREADER: DataReader\n",
            "    DATASET_ARGS: {}\n",
            "    GENERATOR: null\n",
            "    GENERATOR_ARGS: {}\n",
            "  DEPLOY: BaseDeploy\n",
            "  DEPLOYMENT_ARGS: {}\n",
            "  EPOCHS: 1\n",
            "  OUTPUT_ARGS: {}\n",
            "  PLUGIN:\n",
            "    HOOKS: always\n",
            "    RESET: false\n",
            "EXECUTION:\n",
            "  DATAREADER:\n",
            "    CRAWLER_ARGS:\n",
            "      file_name: /content/convertible_images.zip\n",
            "      log_level: info\n",
            "      seed: 21312411\n",
            "      test_split_frac: 0.1\n",
            "      train_split_frac: 0.8\n",
            "      validation_split_frac: 0.1\n",
            "    DATAREADER: DataReader\n",
            "    DATASET_ARGS:\n",
            "      annotationidx: 0\n",
            "      classificationclass: type\n",
            "      pathidx: 5\n",
            "    GENERATOR: null\n",
            "    GENERATOR_ARGS: {}\n",
            "  EPOCHS: 10\n",
            "  FP16: false\n",
            "  MODEL_SERVING: Unused\n",
            "  OPTIMIZER_BUILDER: ClassificationOptimizer\n",
            "  PLUGIN:\n",
            "    HOOKS: always\n",
            "    RESET: false\n",
            "  SKIPEVAL: false\n",
            "  TEST_FREQUENCY: 1\n",
            "  TRAINER: ClassificationTrainer\n",
            "  TRAINER_ARGS:\n",
            "    accumulation_steps: 4\n",
            "LOGGING:\n",
            "  INPUT_SIZE: null\n",
            "  STEP_VERBOSE: 100\n",
            "LOSS:\n",
            "- KWARGS:\n",
            "  - {}\n",
            "  LABEL: ''\n",
            "  LAMBDAS:\n",
            "  - 1.0\n",
            "  LOSSES:\n",
            "  - SoftmaxLogitsLoss\n",
            "  NAME: out1\n",
            "LOSS_OPTIMIZER:\n",
            "- BASE_LR: 0.001\n",
            "  LR_BIAS_FACTOR: 1.0\n",
            "  OPTIMIZER: Adam\n",
            "  OPTIMIZER_KWARGS: {}\n",
            "  OPTIMIZER_NAME: opt-1\n",
            "  WEIGHT_BIAS_FACTOR: 0.0005\n",
            "  WEIGHT_DECAY: 0.0005\n",
            "LOSS_SCHEDULER:\n",
            "- LR_KWARGS:\n",
            "    step_size: 20\n",
            "  LR_SCHEDULER: StepLR\n",
            "  SCHEDULER_NAME: opt-1\n",
            "MODEL:\n",
            "  BUILDER: classification_model_builder\n",
            "  MODEL_ARCH: ClassificationResnet\n",
            "  MODEL_BASE: resnet18\n",
            "  MODEL_KWARGS: {}\n",
            "  MODEL_NORMALIZATION: bn\n",
            "  PARAMETER_GROUPS:\n",
            "  - opt-1\n",
            "MODEL_PLUGIN: {}\n",
            "OPTIMIZER:\n",
            "- BASE_LR: 0.001\n",
            "  LR_BIAS_FACTOR: 1.0\n",
            "  OPTIMIZER: Adam\n",
            "  OPTIMIZER_KWARGS: {}\n",
            "  OPTIMIZER_NAME: opt-1\n",
            "  WEIGHT_BIAS_FACTOR: 0.0005\n",
            "  WEIGHT_DECAY: 0.0005\n",
            "SAVE:\n",
            "  CHECKPOINT_DIRECTORY: checkpoint\n",
            "  DRIVE_BACKUP: true\n",
            "  LOG_BACKUP: true\n",
            "  MODEL_BACKBONE: singleclass\n",
            "  MODEL_CORE_NAME: origtoolimgs\n",
            "  MODEL_QUALIFIER: type\n",
            "  MODEL_VERSION: 1\n",
            "  SAVE_FREQUENCY: 1\n",
            "  STEP_SAVE_FREQUENCY: 0\n",
            "SCHEDULER:\n",
            "- LR_KWARGS:\n",
            "    gamma: 0.1\n",
            "    step_size: 3\n",
            "  LR_SCHEDULER: StepLR\n",
            "  SCHEDULER_NAME: opt-1\n",
            "STORAGE:\n",
            "  STORAGE_ARGS: {}\n",
            "  TYPE: BaseStorage\n",
            "  URL: ./\n",
            "TEST_TRANSFORMATION:\n",
            "  ARGS:\n",
            "    channels: 3\n",
            "    i_shape:\n",
            "    - 200\n",
            "    - 200\n",
            "    normalization_mean: 0.5\n",
            "    normalization_scale: 0.5\n",
            "    normalization_std: 0.5\n",
            "  BATCH_SIZE: 32\n",
            "  WORKERS: 2\n",
            "TRAIN_TRANSFORMATION:\n",
            "  ARGS:\n",
            "    channels: 3\n",
            "    h_flip: 0.5\n",
            "    i_shape:\n",
            "    - 200\n",
            "    - 200\n",
            "    normalization_mean: 0.5\n",
            "    normalization_scale: 0.5\n",
            "    normalization_std: 0.5\n",
            "    random_erase: true\n",
            "    random_erase_value: 0.3\n",
            "    t_crop: true\n",
            "  BATCH_SIZE: 256\n",
            "  WORKERS: 2\n",
            "extensions:\n",
            "- EXECUTION\n",
            "- SAVE\n",
            "- STORAGE\n",
            "- TRANSFORMATION\n",
            "- MODEL\n",
            "- LOSS\n",
            "- OPTIMIZER\n",
            "- SCHEDULER\n",
            "- LOSS_OPTIMIZER\n",
            "- LOSS_SCHEDULER\n",
            "- LOGGING\n",
            "- DEPLOYMENT\n",
            "- MODEL_PLUGIN\n",
            "\n",
            "23:36:51 \n",
            "23:36:51 \n",
            "23:36:51 ****************************************\n",
            "23:36:51 No previous stop detected. Will start from epoch 0\n",
            "23:36:51 Loaded BaseStorage from ednaml.storage to build Storage\n",
            "23:36:51 Reading data with DataReader DataReader\n",
            "23:36:51 Default CRAWLER is <class 'ednaml.crawlers.Crawler'>\n",
            "23:36:51 Default DATASET is <class 'torch.utils.data.dataset.Dataset'>\n",
            "23:36:51 Default GENERATOR is <class 'ednaml.generators.ImageGenerator.ImageGenerator'>\n",
            "23:36:51 Updating GENERATOR to queued class ClassificationGenerator\n",
            "23:36:51 Updating CRAWLER to CarZamCrawler\n",
            "23:36:51 Generated training data generator with 4392 training data points\n",
            "23:36:51 Running classification model with classes: {'type': {'classes': 1}}\n",
            "23:36:51 Generated test data/query generator\n",
            "23:36:51 Loaded classification_model_builder from ednaml.models to build model\n",
            "23:36:52 Finished instantiating model with ClassificationResnet architecture\n",
            "23:36:52 Adding plugins after constructing model\n",
            "23:36:52 No saved model weights provided.\n"
          ]
        },
        {
          "output_type": "error",
          "ename": "KeyboardInterrupt",
          "evalue": "ignored",
          "traceback": [
            "\u001b[0;31m---------------------------------------------------------------------------\u001b[0m",
            "\u001b[0;31mKeyboardInterrupt\u001b[0m                         Traceback (most recent call last)",
            "\u001b[0;32m<ipython-input-18-3700b4155951>\u001b[0m in \u001b[0;36m<module>\u001b[0;34m\u001b[0m\n\u001b[0;32m----> 1\u001b[0;31m \u001b[0meml\u001b[0m\u001b[0;34m.\u001b[0m\u001b[0mapply\u001b[0m\u001b[0;34m(\u001b[0m\u001b[0;34m)\u001b[0m\u001b[0;34m\u001b[0m\u001b[0;34m\u001b[0m\u001b[0m\n\u001b[0m",
            "\u001b[0;32m/content/GLAMOR/src/ednaml/core/EdnaML.py\u001b[0m in \u001b[0;36mapply\u001b[0;34m(self, **kwargs)\u001b[0m\n\u001b[1;32m    268\u001b[0m                 \u001b[0;32mif\u001b[0m \u001b[0mkwargs\u001b[0m\u001b[0;34m.\u001b[0m\u001b[0mget\u001b[0m\u001b[0;34m(\u001b[0m\u001b[0;34m\"input_size\"\u001b[0m\u001b[0;34m,\u001b[0m \u001b[0;32mNone\u001b[0m\u001b[0;34m)\u001b[0m \u001b[0;32mis\u001b[0m \u001b[0;32mNone\u001b[0m\u001b[0;34m:\u001b[0m\u001b[0;34m\u001b[0m\u001b[0;34m\u001b[0m\u001b[0m\n\u001b[1;32m    269\u001b[0m                     \u001b[0mkwargs\u001b[0m\u001b[0;34m[\u001b[0m\u001b[0;34m\"input_size\"\u001b[0m\u001b[0;34m]\u001b[0m \u001b[0;34m=\u001b[0m \u001b[0mself\u001b[0m\u001b[0;34m.\u001b[0m\u001b[0mcfg\u001b[0m\u001b[0;34m.\u001b[0m\u001b[0mLOGGING\u001b[0m\u001b[0;34m.\u001b[0m\u001b[0mINPUT_SIZE\u001b[0m\u001b[0;34m\u001b[0m\u001b[0;34m\u001b[0m\u001b[0m\n\u001b[0;32m--> 270\u001b[0;31m             \u001b[0mself\u001b[0m\u001b[0;34m.\u001b[0m\u001b[0mgetModelSummary\u001b[0m\u001b[0;34m(\u001b[0m\u001b[0;34m**\u001b[0m\u001b[0mkwargs\u001b[0m\u001b[0;34m)\u001b[0m\u001b[0;34m\u001b[0m\u001b[0;34m\u001b[0m\u001b[0m\n\u001b[0m\u001b[1;32m    271\u001b[0m         \u001b[0mself\u001b[0m\u001b[0;34m.\u001b[0m\u001b[0mbuildOptimizer\u001b[0m\u001b[0;34m(\u001b[0m\u001b[0;34m)\u001b[0m\u001b[0;34m\u001b[0m\u001b[0;34m\u001b[0m\u001b[0m\n\u001b[1;32m    272\u001b[0m         \u001b[0mself\u001b[0m\u001b[0;34m.\u001b[0m\u001b[0mbuildScheduler\u001b[0m\u001b[0;34m(\u001b[0m\u001b[0;34m)\u001b[0m\u001b[0;34m\u001b[0m\u001b[0;34m\u001b[0m\u001b[0m\n",
            "\u001b[0;32m/content/GLAMOR/src/ednaml/core/EdnaML.py\u001b[0m in \u001b[0;36mgetModelSummary\u001b[0;34m(self, input_size, dtypes, **kwargs)\u001b[0m\n\u001b[1;32m    879\u001b[0m         \u001b[0;31m# or at least deal with potential mlti-gpu scenario...\u001b[0m\u001b[0;34m\u001b[0m\u001b[0;34m\u001b[0m\u001b[0;34m\u001b[0m\u001b[0m\n\u001b[1;32m    880\u001b[0m         \u001b[0mdevice\u001b[0m \u001b[0;34m=\u001b[0m \u001b[0mtorch\u001b[0m\u001b[0;34m.\u001b[0m\u001b[0mdevice\u001b[0m\u001b[0;34m(\u001b[0m\u001b[0;34m'cuda'\u001b[0m \u001b[0;32mif\u001b[0m \u001b[0mtorch\u001b[0m\u001b[0;34m.\u001b[0m\u001b[0mcuda\u001b[0m\u001b[0;34m.\u001b[0m\u001b[0mis_available\u001b[0m\u001b[0;34m(\u001b[0m\u001b[0;34m)\u001b[0m \u001b[0;32melse\u001b[0m \u001b[0;34m'cpu'\u001b[0m\u001b[0;34m)\u001b[0m\u001b[0;34m\u001b[0m\u001b[0;34m\u001b[0m\u001b[0m\n\u001b[0;32m--> 881\u001b[0;31m         \u001b[0mself\u001b[0m\u001b[0;34m.\u001b[0m\u001b[0mmodel\u001b[0m\u001b[0;34m.\u001b[0m\u001b[0mto\u001b[0m\u001b[0;34m(\u001b[0m\u001b[0mdevice\u001b[0m\u001b[0;34m)\u001b[0m\u001b[0;34m\u001b[0m\u001b[0;34m\u001b[0m\u001b[0m\n\u001b[0m\u001b[1;32m    882\u001b[0m         \u001b[0;31m# change below statement according to line 722\u001b[0m\u001b[0;34m\u001b[0m\u001b[0;34m\u001b[0m\u001b[0;34m\u001b[0m\u001b[0m\n\u001b[1;32m    883\u001b[0m         \u001b[0;31m# default for input size is None/null\u001b[0m\u001b[0;34m\u001b[0m\u001b[0;34m\u001b[0m\u001b[0;34m\u001b[0m\u001b[0m\n",
            "\u001b[0;32m/usr/local/lib/python3.7/dist-packages/torch/nn/modules/module.py\u001b[0m in \u001b[0;36mto\u001b[0;34m(self, *args, **kwargs)\u001b[0m\n\u001b[1;32m    925\u001b[0m             \u001b[0;32mreturn\u001b[0m \u001b[0mt\u001b[0m\u001b[0;34m.\u001b[0m\u001b[0mto\u001b[0m\u001b[0;34m(\u001b[0m\u001b[0mdevice\u001b[0m\u001b[0;34m,\u001b[0m \u001b[0mdtype\u001b[0m \u001b[0;32mif\u001b[0m \u001b[0mt\u001b[0m\u001b[0;34m.\u001b[0m\u001b[0mis_floating_point\u001b[0m\u001b[0;34m(\u001b[0m\u001b[0;34m)\u001b[0m \u001b[0;32mor\u001b[0m \u001b[0mt\u001b[0m\u001b[0;34m.\u001b[0m\u001b[0mis_complex\u001b[0m\u001b[0;34m(\u001b[0m\u001b[0;34m)\u001b[0m \u001b[0;32melse\u001b[0m \u001b[0;32mNone\u001b[0m\u001b[0;34m,\u001b[0m \u001b[0mnon_blocking\u001b[0m\u001b[0;34m)\u001b[0m\u001b[0;34m\u001b[0m\u001b[0;34m\u001b[0m\u001b[0m\n\u001b[1;32m    926\u001b[0m \u001b[0;34m\u001b[0m\u001b[0m\n\u001b[0;32m--> 927\u001b[0;31m         \u001b[0;32mreturn\u001b[0m \u001b[0mself\u001b[0m\u001b[0;34m.\u001b[0m\u001b[0m_apply\u001b[0m\u001b[0;34m(\u001b[0m\u001b[0mconvert\u001b[0m\u001b[0;34m)\u001b[0m\u001b[0;34m\u001b[0m\u001b[0;34m\u001b[0m\u001b[0m\n\u001b[0m\u001b[1;32m    928\u001b[0m \u001b[0;34m\u001b[0m\u001b[0m\n\u001b[1;32m    929\u001b[0m     def register_backward_hook(\n",
            "\u001b[0;32m/usr/local/lib/python3.7/dist-packages/torch/nn/modules/module.py\u001b[0m in \u001b[0;36m_apply\u001b[0;34m(self, fn)\u001b[0m\n\u001b[1;32m    577\u001b[0m     \u001b[0;32mdef\u001b[0m \u001b[0m_apply\u001b[0m\u001b[0;34m(\u001b[0m\u001b[0mself\u001b[0m\u001b[0;34m,\u001b[0m \u001b[0mfn\u001b[0m\u001b[0;34m)\u001b[0m\u001b[0;34m:\u001b[0m\u001b[0;34m\u001b[0m\u001b[0;34m\u001b[0m\u001b[0m\n\u001b[1;32m    578\u001b[0m         \u001b[0;32mfor\u001b[0m \u001b[0mmodule\u001b[0m \u001b[0;32min\u001b[0m \u001b[0mself\u001b[0m\u001b[0;34m.\u001b[0m\u001b[0mchildren\u001b[0m\u001b[0;34m(\u001b[0m\u001b[0;34m)\u001b[0m\u001b[0;34m:\u001b[0m\u001b[0;34m\u001b[0m\u001b[0;34m\u001b[0m\u001b[0m\n\u001b[0;32m--> 579\u001b[0;31m             \u001b[0mmodule\u001b[0m\u001b[0;34m.\u001b[0m\u001b[0m_apply\u001b[0m\u001b[0;34m(\u001b[0m\u001b[0mfn\u001b[0m\u001b[0;34m)\u001b[0m\u001b[0;34m\u001b[0m\u001b[0;34m\u001b[0m\u001b[0m\n\u001b[0m\u001b[1;32m    580\u001b[0m \u001b[0;34m\u001b[0m\u001b[0m\n\u001b[1;32m    581\u001b[0m         \u001b[0;32mdef\u001b[0m \u001b[0mcompute_should_use_set_data\u001b[0m\u001b[0;34m(\u001b[0m\u001b[0mtensor\u001b[0m\u001b[0;34m,\u001b[0m \u001b[0mtensor_applied\u001b[0m\u001b[0;34m)\u001b[0m\u001b[0;34m:\u001b[0m\u001b[0;34m\u001b[0m\u001b[0;34m\u001b[0m\u001b[0m\n",
            "\u001b[0;32m/usr/local/lib/python3.7/dist-packages/torch/nn/modules/module.py\u001b[0m in \u001b[0;36m_apply\u001b[0;34m(self, fn)\u001b[0m\n\u001b[1;32m    577\u001b[0m     \u001b[0;32mdef\u001b[0m \u001b[0m_apply\u001b[0m\u001b[0;34m(\u001b[0m\u001b[0mself\u001b[0m\u001b[0;34m,\u001b[0m \u001b[0mfn\u001b[0m\u001b[0;34m)\u001b[0m\u001b[0;34m:\u001b[0m\u001b[0;34m\u001b[0m\u001b[0;34m\u001b[0m\u001b[0m\n\u001b[1;32m    578\u001b[0m         \u001b[0;32mfor\u001b[0m \u001b[0mmodule\u001b[0m \u001b[0;32min\u001b[0m \u001b[0mself\u001b[0m\u001b[0;34m.\u001b[0m\u001b[0mchildren\u001b[0m\u001b[0;34m(\u001b[0m\u001b[0;34m)\u001b[0m\u001b[0;34m:\u001b[0m\u001b[0;34m\u001b[0m\u001b[0;34m\u001b[0m\u001b[0m\n\u001b[0;32m--> 579\u001b[0;31m             \u001b[0mmodule\u001b[0m\u001b[0;34m.\u001b[0m\u001b[0m_apply\u001b[0m\u001b[0;34m(\u001b[0m\u001b[0mfn\u001b[0m\u001b[0;34m)\u001b[0m\u001b[0;34m\u001b[0m\u001b[0;34m\u001b[0m\u001b[0m\n\u001b[0m\u001b[1;32m    580\u001b[0m \u001b[0;34m\u001b[0m\u001b[0m\n\u001b[1;32m    581\u001b[0m         \u001b[0;32mdef\u001b[0m \u001b[0mcompute_should_use_set_data\u001b[0m\u001b[0;34m(\u001b[0m\u001b[0mtensor\u001b[0m\u001b[0;34m,\u001b[0m \u001b[0mtensor_applied\u001b[0m\u001b[0;34m)\u001b[0m\u001b[0;34m:\u001b[0m\u001b[0;34m\u001b[0m\u001b[0;34m\u001b[0m\u001b[0m\n",
            "\u001b[0;32m/usr/local/lib/python3.7/dist-packages/torch/nn/modules/module.py\u001b[0m in \u001b[0;36m_apply\u001b[0;34m(self, fn)\u001b[0m\n\u001b[1;32m    600\u001b[0m             \u001b[0;31m# `with torch.no_grad():`\u001b[0m\u001b[0;34m\u001b[0m\u001b[0;34m\u001b[0m\u001b[0;34m\u001b[0m\u001b[0m\n\u001b[1;32m    601\u001b[0m             \u001b[0;32mwith\u001b[0m \u001b[0mtorch\u001b[0m\u001b[0;34m.\u001b[0m\u001b[0mno_grad\u001b[0m\u001b[0;34m(\u001b[0m\u001b[0;34m)\u001b[0m\u001b[0;34m:\u001b[0m\u001b[0;34m\u001b[0m\u001b[0;34m\u001b[0m\u001b[0m\n\u001b[0;32m--> 602\u001b[0;31m                 \u001b[0mparam_applied\u001b[0m \u001b[0;34m=\u001b[0m \u001b[0mfn\u001b[0m\u001b[0;34m(\u001b[0m\u001b[0mparam\u001b[0m\u001b[0;34m)\u001b[0m\u001b[0;34m\u001b[0m\u001b[0;34m\u001b[0m\u001b[0m\n\u001b[0m\u001b[1;32m    603\u001b[0m             \u001b[0mshould_use_set_data\u001b[0m \u001b[0;34m=\u001b[0m \u001b[0mcompute_should_use_set_data\u001b[0m\u001b[0;34m(\u001b[0m\u001b[0mparam\u001b[0m\u001b[0;34m,\u001b[0m \u001b[0mparam_applied\u001b[0m\u001b[0;34m)\u001b[0m\u001b[0;34m\u001b[0m\u001b[0;34m\u001b[0m\u001b[0m\n\u001b[1;32m    604\u001b[0m             \u001b[0;32mif\u001b[0m \u001b[0mshould_use_set_data\u001b[0m\u001b[0;34m:\u001b[0m\u001b[0;34m\u001b[0m\u001b[0;34m\u001b[0m\u001b[0m\n",
            "\u001b[0;32m/usr/local/lib/python3.7/dist-packages/torch/nn/modules/module.py\u001b[0m in \u001b[0;36mconvert\u001b[0;34m(t)\u001b[0m\n\u001b[1;32m    923\u001b[0m                 return t.to(device, dtype if t.is_floating_point() or t.is_complex() else None,\n\u001b[1;32m    924\u001b[0m                             non_blocking, memory_format=convert_to_format)\n\u001b[0;32m--> 925\u001b[0;31m             \u001b[0;32mreturn\u001b[0m \u001b[0mt\u001b[0m\u001b[0;34m.\u001b[0m\u001b[0mto\u001b[0m\u001b[0;34m(\u001b[0m\u001b[0mdevice\u001b[0m\u001b[0;34m,\u001b[0m \u001b[0mdtype\u001b[0m \u001b[0;32mif\u001b[0m \u001b[0mt\u001b[0m\u001b[0;34m.\u001b[0m\u001b[0mis_floating_point\u001b[0m\u001b[0;34m(\u001b[0m\u001b[0;34m)\u001b[0m \u001b[0;32mor\u001b[0m \u001b[0mt\u001b[0m\u001b[0;34m.\u001b[0m\u001b[0mis_complex\u001b[0m\u001b[0;34m(\u001b[0m\u001b[0;34m)\u001b[0m \u001b[0;32melse\u001b[0m \u001b[0;32mNone\u001b[0m\u001b[0;34m,\u001b[0m \u001b[0mnon_blocking\u001b[0m\u001b[0;34m)\u001b[0m\u001b[0;34m\u001b[0m\u001b[0;34m\u001b[0m\u001b[0m\n\u001b[0m\u001b[1;32m    926\u001b[0m \u001b[0;34m\u001b[0m\u001b[0m\n\u001b[1;32m    927\u001b[0m         \u001b[0;32mreturn\u001b[0m \u001b[0mself\u001b[0m\u001b[0;34m.\u001b[0m\u001b[0m_apply\u001b[0m\u001b[0;34m(\u001b[0m\u001b[0mconvert\u001b[0m\u001b[0;34m)\u001b[0m\u001b[0;34m\u001b[0m\u001b[0;34m\u001b[0m\u001b[0m\n",
            "\u001b[0;31mKeyboardInterrupt\u001b[0m: "
          ]
        }
      ],
      "source": [
        "eml.apply()"
      ]
    },
    {
      "cell_type": "code",
      "execution_count": null,
      "metadata": {
        "id": "Tq72FT1WSkRN"
      },
      "outputs": [],
      "source": [
        "eml.train()"
      ]
    },
    {
      "cell_type": "code",
      "execution_count": null,
      "metadata": {
        "id": "mn8MWacMdFAj"
      },
      "outputs": [],
      "source": [
        "resp = eml.eval()"
      ]
    },
    {
      "cell_type": "markdown",
      "metadata": {
        "id": "fOEDZklBdwYu"
      },
      "source": [
        "## 3.2 Single classification (Vehicle Color)\n",
        "\n",
        "Next, let's do vehicle color. Architecture remains the same, but we now focus on color features."
      ]
    },
    {
      "cell_type": "code",
      "execution_count": null,
      "metadata": {
        "id": "F4jU3B9PdwYz"
      },
      "outputs": [],
      "source": [
        "class_name = \"year\"   # Make sure to change this to whatever name you used for make in your `original_tool_images` crawler\n",
        "class_idx = 2         # Make sure to change this to whetever index `color` is in your Crawler's tuple!\n",
        "path_idx = 5          # Change this to whichever index in tuple has path\n",
        "crawler_args = {\n",
        "    \n",
        "    \"log_level\": \"info\",\n",
        "    \"seed\": 21312411,\n",
        "    \"file_name\" : \"/content/convertible_images.zip\",\n",
        "    \"train_split_frac\": 0.8,\n",
        "    \"test_split_frac\": 0.1,\n",
        "    \"validation_split_frac\": 0.1\n",
        "    # add any other kwargs here...\n",
        "}"
      ]
    },
    {
      "cell_type": "code",
      "execution_count": null,
      "metadata": {
        "colab": {
          "base_uri": "https://localhost:8080/"
        },
        "id": "UAl5Q_f2dwYz",
        "outputId": "1543f2af-3edb-4c4d-fdf5-10a3e4a7bbf9"
      },
      "outputs": [
        {
          "output_type": "stream",
          "name": "stdout",
          "text": [
            "The autoreload extension is already loaded. To reload it, use:\n",
            "  %reload_ext autoreload\n"
          ]
        }
      ],
      "source": [
        "%load_ext autoreload\n",
        "%autoreload 2"
      ]
    },
    {
      "cell_type": "code",
      "execution_count": null,
      "metadata": {
        "colab": {
          "base_uri": "https://localhost:8080/"
        },
        "id": "MbNKQ0YXdwYz",
        "outputId": "5048dc8d-d0c0-474d-ba39-76a5d0772bc6"
      },
      "outputs": [
        {
          "output_type": "stream",
          "name": "stdout",
          "text": [
            "Injected key-value pair:  SAVE.MODEL_QUALIFIER, year\n",
            "Log file exists at origtoolimgs-v1-singleclass-year/origtoolimgs-v1-singleclass-year-logger.log. Will attempt to append there.\n"
          ]
        }
      ],
      "source": [
        "from ednaml.core import EdnaML\n",
        "from ednaml.generators import ClassificationGenerator\n",
        "\n",
        "eml = EdnaML(config = \"./GLAMOR/profiles/CarZam/base_config_with_backup.yml\", config_inject=[\n",
        "    (\"SAVE.MODEL_QUALIFIER\", class_name)\n",
        "])\n",
        "\n",
        "eml.cfg.EXECUTION.DATAREADER.CRAWLER_ARGS = crawler_args\n",
        "eml.cfg.EXECUTION.DATAREADER.DATASET_ARGS[\"pathidx\"] = path_idx\n",
        "eml.cfg.EXECUTION.DATAREADER.DATASET_ARGS[\"annotationidx\"] = class_idx\n",
        "eml.cfg.EXECUTION.DATAREADER.DATASET_ARGS[\"classificationclass\"] = class_name\n",
        "\n",
        "eml.addGeneratorClass(ClassificationGenerator)\n",
        "eml.addCrawlerClass(CarZamCrawler)"
      ]
    },
    {
      "cell_type": "code",
      "execution_count": null,
      "metadata": {
        "colab": {
          "base_uri": "https://localhost:8080/"
        },
        "id": "-29Pv8stdwYz",
        "outputId": "3be11568-184a-4ca9-b380-c3e2ba3b2f18"
      },
      "outputs": [
        {
          "output_type": "stream",
          "name": "stderr",
          "text": [
            "02:09:51 ****************************************\n",
            "02:09:51 \n",
            "02:09:51 \n",
            "02:09:51 Using the following configuration:\n",
            "02:09:51 DEPLOYMENT:\n",
            "  DATAREADER:\n",
            "    CRAWLER_ARGS: {}\n",
            "    DATAREADER: DataReader\n",
            "    DATASET_ARGS: {}\n",
            "    GENERATOR: null\n",
            "    GENERATOR_ARGS: {}\n",
            "  DEPLOY: BaseDeploy\n",
            "  DEPLOYMENT_ARGS: {}\n",
            "  EPOCHS: 1\n",
            "  OUTPUT_ARGS: {}\n",
            "  PLUGIN:\n",
            "    HOOKS: always\n",
            "    RESET: false\n",
            "EXECUTION:\n",
            "  DATAREADER:\n",
            "    CRAWLER_ARGS:\n",
            "      file_name: /content/convertible_images.zip\n",
            "      log_level: info\n",
            "      seed: 21312411\n",
            "      test_split_frac: 0.1\n",
            "      train_split_frac: 0.8\n",
            "      validation_split_frac: 0.1\n",
            "    DATAREADER: DataReader\n",
            "    DATASET_ARGS:\n",
            "      annotationidx: 2\n",
            "      classificationclass: year\n",
            "      pathidx: 5\n",
            "    GENERATOR: null\n",
            "    GENERATOR_ARGS: {}\n",
            "  EPOCHS: 10\n",
            "  FP16: false\n",
            "  MODEL_SERVING: Unused\n",
            "  OPTIMIZER_BUILDER: ClassificationOptimizer\n",
            "  PLUGIN:\n",
            "    HOOKS: always\n",
            "    RESET: false\n",
            "  SKIPEVAL: false\n",
            "  TEST_FREQUENCY: 1\n",
            "  TRAINER: ClassificationTrainer\n",
            "  TRAINER_ARGS:\n",
            "    accumulation_steps: 4\n",
            "LOGGING:\n",
            "  INPUT_SIZE: null\n",
            "  STEP_VERBOSE: 100\n",
            "LOSS:\n",
            "- KWARGS:\n",
            "  - {}\n",
            "  LABEL: ''\n",
            "  LAMBDAS:\n",
            "  - 1.0\n",
            "  LOSSES:\n",
            "  - SoftmaxLogitsLoss\n",
            "  NAME: out1\n",
            "LOSS_OPTIMIZER:\n",
            "- BASE_LR: 0.001\n",
            "  LR_BIAS_FACTOR: 1.0\n",
            "  OPTIMIZER: Adam\n",
            "  OPTIMIZER_KWARGS: {}\n",
            "  OPTIMIZER_NAME: opt-1\n",
            "  WEIGHT_BIAS_FACTOR: 0.0005\n",
            "  WEIGHT_DECAY: 0.0005\n",
            "LOSS_SCHEDULER:\n",
            "- LR_KWARGS:\n",
            "    step_size: 20\n",
            "  LR_SCHEDULER: StepLR\n",
            "  SCHEDULER_NAME: opt-1\n",
            "MODEL:\n",
            "  BUILDER: classification_model_builder\n",
            "  MODEL_ARCH: ClassificationResnet\n",
            "  MODEL_BASE: resnet18\n",
            "  MODEL_KWARGS: {}\n",
            "  MODEL_NORMALIZATION: bn\n",
            "  PARAMETER_GROUPS:\n",
            "  - opt-1\n",
            "MODEL_PLUGIN: {}\n",
            "OPTIMIZER:\n",
            "- BASE_LR: 0.001\n",
            "  LR_BIAS_FACTOR: 1.0\n",
            "  OPTIMIZER: Adam\n",
            "  OPTIMIZER_KWARGS: {}\n",
            "  OPTIMIZER_NAME: opt-1\n",
            "  WEIGHT_BIAS_FACTOR: 0.0005\n",
            "  WEIGHT_DECAY: 0.0005\n",
            "SAVE:\n",
            "  CHECKPOINT_DIRECTORY: checkpoint\n",
            "  DRIVE_BACKUP: true\n",
            "  LOG_BACKUP: true\n",
            "  MODEL_BACKBONE: singleclass\n",
            "  MODEL_CORE_NAME: origtoolimgs\n",
            "  MODEL_QUALIFIER: year\n",
            "  MODEL_VERSION: 1\n",
            "  SAVE_FREQUENCY: 1\n",
            "  STEP_SAVE_FREQUENCY: 0\n",
            "SCHEDULER:\n",
            "- LR_KWARGS:\n",
            "    gamma: 0.1\n",
            "    step_size: 3\n",
            "  LR_SCHEDULER: StepLR\n",
            "  SCHEDULER_NAME: opt-1\n",
            "STORAGE:\n",
            "  STORAGE_ARGS: {}\n",
            "  TYPE: BaseStorage\n",
            "  URL: ./\n",
            "TEST_TRANSFORMATION:\n",
            "  ARGS:\n",
            "    channels: 3\n",
            "    i_shape:\n",
            "    - 200\n",
            "    - 200\n",
            "    normalization_mean: 0.5\n",
            "    normalization_scale: 0.5\n",
            "    normalization_std: 0.5\n",
            "  BATCH_SIZE: 32\n",
            "  WORKERS: 2\n",
            "TRAIN_TRANSFORMATION:\n",
            "  ARGS:\n",
            "    channels: 3\n",
            "    h_flip: 0.5\n",
            "    i_shape:\n",
            "    - 200\n",
            "    - 200\n",
            "    normalization_mean: 0.5\n",
            "    normalization_scale: 0.5\n",
            "    normalization_std: 0.5\n",
            "    random_erase: true\n",
            "    random_erase_value: 0.3\n",
            "    t_crop: true\n",
            "  BATCH_SIZE: 32\n",
            "  WORKERS: 2\n",
            "extensions:\n",
            "- EXECUTION\n",
            "- SAVE\n",
            "- STORAGE\n",
            "- TRANSFORMATION\n",
            "- MODEL\n",
            "- LOSS\n",
            "- OPTIMIZER\n",
            "- SCHEDULER\n",
            "- LOSS_OPTIMIZER\n",
            "- LOSS_SCHEDULER\n",
            "- LOGGING\n",
            "- DEPLOYMENT\n",
            "- MODEL_PLUGIN\n",
            "\n",
            "02:09:51 \n",
            "02:09:51 \n",
            "02:09:51 ****************************************\n",
            "02:09:51 No previous stop detected. Will start from epoch 0\n",
            "02:09:51 Loaded BaseStorage from ednaml.storage to build Storage\n",
            "02:09:51 Reading data with DataReader DataReader\n",
            "02:09:51 Default CRAWLER is <class 'ednaml.crawlers.Crawler'>\n",
            "02:09:51 Default DATASET is <class 'torch.utils.data.dataset.Dataset'>\n",
            "02:09:51 Default GENERATOR is <class 'ednaml.generators.ImageGenerator.ImageGenerator'>\n",
            "02:09:51 Updating GENERATOR to queued class ClassificationGenerator\n",
            "02:09:51 Updating CRAWLER to CarZamCrawler\n",
            "02:09:51 Generated training data generator with 4392 training data points\n",
            "02:09:51 Running classification model with classes: {'year': {'classes': 11}}\n",
            "02:09:51 Generated test data/query generator\n",
            "02:09:51 Loaded classification_model_builder from ednaml.models to build model\n",
            "02:09:52 Finished instantiating model with ClassificationResnet architecture\n",
            "02:09:52 Adding plugins after constructing model\n",
            "02:09:52 No saved model weights provided.\n",
            "02:09:52 Model Summary retured the following error:\n",
            "02:09:52 Traceback (most recent call last):\n",
            "  File \"/content/GLAMOR/src/ednaml/core/EdnaML.py\", line 888, in getModelSummary\n",
            "    self.cfg.TRAIN_TRANSFORMATION.INPUT_SIZE,\n",
            "AttributeError: 'TransformationConfig' object has no attribute 'INPUT_SIZE'\n",
            "\n",
            "02:09:52 Loaded ClassificationOptimizer from ednaml.optimizer to build Optimizer model\n",
            "02:09:52 Built optimizer\n",
            "02:09:52 Built scheduler\n",
            "02:09:52 Added SoftmaxLogitsLoss with lambda = 1.0 and loss arguments {}\n",
            "02:09:52 Built loss function\n",
            "02:09:52 Built loss optimizer\n",
            "02:09:52 Built loss scheduler\n",
            "02:09:52 Loaded BaseStorage from ednaml.storage to build Storage\n",
            "02:09:52 Loaded ClassificationTrainer from ednaml.trainer to build Trainer\n",
            "02:09:52 Saving model metadata\n",
            "02:09:52 Backing up metadata\n",
            "02:09:52 Finished metadata backup\n",
            "02:09:52 1 GPUs available\n"
          ]
        }
      ],
      "source": [
        "eml.apply()"
      ]
    },
    {
      "cell_type": "code",
      "execution_count": null,
      "metadata": {
        "colab": {
          "base_uri": "https://localhost:8080/"
        },
        "id": "Mc44W4fndwY0",
        "outputId": "a4c9742d-c48b-4526-9b59-627278663a33"
      },
      "outputs": [
        {
          "output_type": "stream",
          "name": "stderr",
          "text": [
            "02:09:56 Starting training\n",
            "02:09:56 Logging to:\torigtoolimgs-v1-singleclass-year-logger.log\n",
            "02:09:56 Models will be saved to local directory:\torigtoolimgs-v1-singleclass-year\n",
            "02:09:56 Logs will be backed up to drive directory:\tcheckpoint/origtoolimgs-v1-singleclass-year\n",
            "02:09:56 Models will be backed up to drive directory:\tcheckpoint/origtoolimgs-v1-singleclass-year\n",
            "02:09:56 Models will be saved with base name:\torigtoolimgs-v1_epoch[].pth\n",
            "02:09:56 Optimizers will be saved with base name:\torigtoolimgs-v1_epoch[]_optimizer.pth\n",
            "02:09:56 Schedulers will be saved with base name:\torigtoolimgs-v1_epoch[]_scheduler.pth\n",
            "02:09:56 Performing initial evaluation...\n",
            "02:10:24 Obtained features, validation in progress\n",
            "02:10:24 Accuracy: 14.026%\n",
            "02:10:24 Micro F-score: 0.140\n",
            "02:10:24 Weighted F-score: 0.070\n",
            "02:10:24 Starting training from 0\n",
            "02:10:28 Parameter Group `opt-1`: Starting epoch 0 with 130 steps and learning rate 1.00000E-03\n",
            "02:13:06 Epoch0.99\tTotal Avg Loss: 1.550 Softmax: 0.510\n",
            "02:14:05 ********** Completed epoch 0 **********\n",
            "02:14:05 Model evaluation triggered, but gradients still need accumulation. Will evaluate after accumulation.\n",
            "02:14:05 Model save triggered, but gradients still need accumulation. Will save after accumulation.\n",
            "02:14:09 Parameter Group `opt-1`: Starting epoch 1 with 130 steps and learning rate 1.00000E-03\n",
            "02:14:09 Evaluating model at test-frequency\n",
            "02:14:43 Obtained features, validation in progress\n",
            "02:14:43 Accuracy: 49.180%\n",
            "02:14:43 Micro F-score: 0.492\n",
            "02:14:43 Weighted F-score: 0.467\n",
            "02:14:43 Saving model at save-frequency, at epoch 0, step 0\n",
            "02:14:43 Saving model, optimizer, and scheduler.\n",
            "02:14:44 Performing drive backup of model, optimizer, and scheduler.\n",
            "02:17:15 Epoch1.99\tTotal Avg Loss: 0.484 Softmax: 0.852\n",
            "02:18:14 ********** Completed epoch 1 **********\n",
            "02:18:14 Model evaluation triggered, but gradients still need accumulation. Will evaluate after accumulation.\n",
            "02:18:14 Model save triggered, but gradients still need accumulation. Will save after accumulation.\n",
            "02:18:17 Parameter Group `opt-1`: Starting epoch 2 with 130 steps and learning rate 1.00000E-03\n",
            "02:18:21 Evaluating model at test-frequency\n",
            "02:18:56 Obtained features, validation in progress\n",
            "02:18:56 Accuracy: 74.863%\n",
            "02:18:56 Micro F-score: 0.749\n",
            "02:18:56 Weighted F-score: 0.736\n",
            "02:18:56 Saving model at save-frequency, at epoch 1, step 0\n",
            "02:18:56 Saving model, optimizer, and scheduler.\n",
            "02:18:56 Performing drive backup of model, optimizer, and scheduler.\n",
            "02:21:27 Epoch2.99\tTotal Avg Loss: 0.246 Softmax: 0.927\n",
            "02:22:28 ********** Completed epoch 2 **********\n",
            "02:22:28 Model evaluation triggered, but gradients still need accumulation. Will evaluate after accumulation.\n",
            "02:22:28 Model save triggered, but gradients still need accumulation. Will save after accumulation.\n",
            "02:22:31 Parameter Group `opt-1`: Starting epoch 3 with 130 steps and learning rate 1.00000E-04\n",
            "02:22:32 Evaluating model at test-frequency\n",
            "02:23:06 Obtained features, validation in progress\n",
            "02:23:06 Accuracy: 92.168%\n",
            "02:23:06 Micro F-score: 0.922\n",
            "02:23:06 Weighted F-score: 0.924\n",
            "02:23:06 Saving model at save-frequency, at epoch 2, step 0\n",
            "02:23:06 Saving model, optimizer, and scheduler.\n",
            "02:23:07 Performing drive backup of model, optimizer, and scheduler.\n",
            "02:25:38 Epoch3.99\tTotal Avg Loss: 0.130 Softmax: 0.963\n",
            "02:26:38 ********** Completed epoch 3 **********\n",
            "02:26:38 Model evaluation triggered, but gradients still need accumulation. Will evaluate after accumulation.\n",
            "02:26:38 Model save triggered, but gradients still need accumulation. Will save after accumulation.\n",
            "02:26:41 Parameter Group `opt-1`: Starting epoch 4 with 130 steps and learning rate 1.00000E-04\n",
            "02:26:44 Evaluating model at test-frequency\n",
            "02:27:18 Obtained features, validation in progress\n",
            "02:27:18 Accuracy: 97.268%\n",
            "02:27:18 Micro F-score: 0.973\n",
            "02:27:18 Weighted F-score: 0.973\n",
            "02:27:18 Saving model at save-frequency, at epoch 3, step 0\n",
            "02:27:18 Saving model, optimizer, and scheduler.\n",
            "02:27:19 Performing drive backup of model, optimizer, and scheduler.\n",
            "02:29:48 Epoch4.99\tTotal Avg Loss: 0.095 Softmax: 0.971\n",
            "02:30:49 ********** Completed epoch 4 **********\n",
            "02:30:49 Model evaluation triggered, but gradients still need accumulation. Will evaluate after accumulation.\n",
            "02:30:49 Model save triggered, but gradients still need accumulation. Will save after accumulation.\n",
            "02:30:52 Parameter Group `opt-1`: Starting epoch 5 with 130 steps and learning rate 1.00000E-04\n",
            "02:30:53 Evaluating model at test-frequency\n",
            "02:31:27 Obtained features, validation in progress\n",
            "02:31:27 Accuracy: 97.450%\n",
            "02:31:27 Micro F-score: 0.974\n",
            "02:31:27 Weighted F-score: 0.975\n",
            "02:31:27 Saving model at save-frequency, at epoch 4, step 0\n",
            "02:31:27 Saving model, optimizer, and scheduler.\n",
            "02:31:28 Performing drive backup of model, optimizer, and scheduler.\n",
            "02:34:01 Epoch5.99\tTotal Avg Loss: 0.078 Softmax: 0.978\n",
            "02:35:01 ********** Completed epoch 5 **********\n",
            "02:35:01 Model evaluation triggered, but gradients still need accumulation. Will evaluate after accumulation.\n",
            "02:35:01 Model save triggered, but gradients still need accumulation. Will save after accumulation.\n",
            "02:35:04 Parameter Group `opt-1`: Starting epoch 6 with 130 steps and learning rate 1.00000E-05\n",
            "02:35:08 Evaluating model at test-frequency\n",
            "02:35:42 Obtained features, validation in progress\n",
            "02:35:42 Accuracy: 97.450%\n",
            "02:35:42 Micro F-score: 0.974\n",
            "02:35:42 Weighted F-score: 0.975\n",
            "02:35:42 Saving model at save-frequency, at epoch 5, step 0\n",
            "02:35:42 Saving model, optimizer, and scheduler.\n",
            "02:35:42 Performing drive backup of model, optimizer, and scheduler.\n",
            "02:38:13 Epoch6.99\tTotal Avg Loss: 0.093 Softmax: 0.971\n",
            "02:39:12 ********** Completed epoch 6 **********\n",
            "02:39:12 Model evaluation triggered, but gradients still need accumulation. Will evaluate after accumulation.\n",
            "02:39:12 Model save triggered, but gradients still need accumulation. Will save after accumulation.\n",
            "02:39:16 Parameter Group `opt-1`: Starting epoch 7 with 130 steps and learning rate 1.00000E-05\n",
            "02:39:16 Evaluating model at test-frequency\n",
            "02:39:49 Obtained features, validation in progress\n",
            "02:39:49 Accuracy: 97.450%\n",
            "02:39:49 Micro F-score: 0.974\n",
            "02:39:49 Weighted F-score: 0.975\n",
            "02:39:49 Saving model at save-frequency, at epoch 6, step 0\n",
            "02:39:49 Saving model, optimizer, and scheduler.\n",
            "02:39:49 Performing drive backup of model, optimizer, and scheduler.\n",
            "02:42:21 Epoch7.99\tTotal Avg Loss: 0.077 Softmax: 0.975\n",
            "02:43:20 ********** Completed epoch 7 **********\n",
            "02:43:20 Model evaluation triggered, but gradients still need accumulation. Will evaluate after accumulation.\n",
            "02:43:20 Model save triggered, but gradients still need accumulation. Will save after accumulation.\n",
            "02:43:25 Parameter Group `opt-1`: Starting epoch 8 with 130 steps and learning rate 1.00000E-05\n",
            "02:43:28 Evaluating model at test-frequency\n",
            "02:44:02 Obtained features, validation in progress\n",
            "02:44:02 Accuracy: 97.450%\n",
            "02:44:02 Micro F-score: 0.974\n",
            "02:44:02 Weighted F-score: 0.975\n",
            "02:44:02 Saving model at save-frequency, at epoch 7, step 0\n",
            "02:44:02 Saving model, optimizer, and scheduler.\n",
            "02:44:02 Performing drive backup of model, optimizer, and scheduler.\n",
            "02:46:29 Epoch8.99\tTotal Avg Loss: 0.091 Softmax: 0.972\n",
            "02:47:30 ********** Completed epoch 8 **********\n",
            "02:47:30 Model evaluation triggered, but gradients still need accumulation. Will evaluate after accumulation.\n",
            "02:47:30 Model save triggered, but gradients still need accumulation. Will save after accumulation.\n",
            "02:47:33 Parameter Group `opt-1`: Starting epoch 9 with 130 steps and learning rate 1.00000E-06\n",
            "02:47:33 Evaluating model at test-frequency\n",
            "02:48:07 Obtained features, validation in progress\n",
            "02:48:07 Accuracy: 97.450%\n",
            "02:48:07 Micro F-score: 0.974\n",
            "02:48:07 Weighted F-score: 0.975\n",
            "02:48:07 Saving model at save-frequency, at epoch 8, step 0\n",
            "02:48:07 Saving model, optimizer, and scheduler.\n",
            "02:48:08 Performing drive backup of model, optimizer, and scheduler.\n",
            "02:50:39 Epoch9.99\tTotal Avg Loss: 0.082 Softmax: 0.976\n",
            "02:51:37 ********** Completed epoch 9 **********\n",
            "02:51:37 Model evaluation triggered, but gradients still need accumulation. Will evaluate after accumulation.\n",
            "02:51:37 Model save triggered, but gradients still need accumulation. Will save after accumulation.\n",
            "02:51:40 Parameter Group `opt-1`: Starting epoch 10 with 130 steps and learning rate 1.00000E-06\n",
            "02:51:43 Evaluating model at test-frequency\n",
            "02:52:17 Obtained features, validation in progress\n",
            "02:52:17 Accuracy: 97.450%\n",
            "02:52:17 Micro F-score: 0.974\n",
            "02:52:17 Weighted F-score: 0.975\n",
            "02:52:17 Saving model at save-frequency, at epoch 9, step 0\n",
            "02:52:17 Saving model, optimizer, and scheduler.\n",
            "02:52:18 Performing drive backup of model, optimizer, and scheduler.\n",
            "02:54:47 Epoch10.99\tTotal Avg Loss: 0.080 Softmax: 0.976\n",
            "02:55:45 ********** Completed epoch 10 **********\n",
            "02:55:45 Model evaluation triggered, but gradients still need accumulation. Will evaluate after accumulation.\n",
            "02:55:45 Model save triggered, but gradients still need accumulation. Will save after accumulation.\n",
            "02:55:45 Final: Evaluating model at test-frequency\n",
            "02:56:14 Obtained features, validation in progress\n",
            "02:56:14 Accuracy: 97.450%\n",
            "02:56:14 Micro F-score: 0.974\n",
            "02:56:14 Weighted F-score: 0.975\n",
            "02:56:14 Final: Saving model at save-frequency\n",
            "02:56:14 Saving model, optimizer, and scheduler.\n",
            "02:56:15 Performing drive backup of model, optimizer, and scheduler.\n"
          ]
        }
      ],
      "source": [
        "eml.train()"
      ]
    },
    {
      "cell_type": "code",
      "execution_count": null,
      "metadata": {
        "colab": {
          "base_uri": "https://localhost:8080/"
        },
        "id": "cRvm2rq1OLMO",
        "outputId": "a61dcaee-5c22-42bb-94aa-499ebc4553fd"
      },
      "outputs": [
        {
          "output_type": "stream",
          "name": "stderr",
          "text": [
            "03:33:17 Obtained features, validation in progress\n",
            "03:33:17 Accuracy: 97.450%\n",
            "03:33:17 Micro F-score: 0.974\n",
            "03:33:17 Weighted F-score: 0.975\n"
          ]
        }
      ],
      "source": [
        "resp = eml.eval()"
      ]
    },
    {
      "cell_type": "markdown",
      "metadata": {
        "id": "STAXYyAi6_58"
      },
      "source": [
        "## 3.3 Single classification (Vehicle Make)\n",
        "\n",
        "And finally, a make classifier"
      ]
    },
    {
      "cell_type": "code",
      "execution_count": null,
      "metadata": {
        "id": "FnQGcJf96_58"
      },
      "outputs": [],
      "source": [
        "class_name = \"make\"   # Make sure to change this to whatever name you used for make in your `original_tool_images` crawler\n",
        "class_idx = 3         # Make sure to change this to whetever index `make` is in your Crawler's tuple!\n",
        "path_idx = 5          # Change this to whichever index in tuple has path\n",
        "crawler_args = {\n",
        "    \"log_level\": \"info\",\n",
        "    \"seed\": 21312411,\n",
        "    \"file_name\" : \"convertible_images.zip\",\n",
        "    \"train_split_frac\": 0.8,\n",
        "    \"test_split_frac\": 0.1,\n",
        "    \"validation_split_frac\": 0.1\n",
        "}"
      ]
    },
    {
      "cell_type": "code",
      "execution_count": null,
      "metadata": {
        "colab": {
          "base_uri": "https://localhost:8080/"
        },
        "id": "THXrRvUm6_58",
        "outputId": "972dbe00-a4e4-4bd4-b0bf-72e3dccd209e"
      },
      "outputs": [
        {
          "output_type": "stream",
          "name": "stdout",
          "text": [
            "The autoreload extension is already loaded. To reload it, use:\n",
            "  %reload_ext autoreload\n"
          ]
        }
      ],
      "source": [
        "%load_ext autoreload\n",
        "%autoreload 2"
      ]
    },
    {
      "cell_type": "code",
      "execution_count": null,
      "metadata": {
        "colab": {
          "base_uri": "https://localhost:8080/"
        },
        "id": "Jpn_wdIv6_58",
        "outputId": "8c9cf4bd-2d21-4f68-8ea7-991152046132"
      },
      "outputs": [
        {
          "output_type": "stream",
          "name": "stdout",
          "text": [
            "Injected key-value pair:  SAVE.MODEL_QUALIFIER, make\n"
          ]
        }
      ],
      "source": [
        "from ednaml.core import EdnaML\n",
        "from ednaml.generators import ClassificationGenerator\n",
        "\n",
        "eml = EdnaML(config = \"./GLAMOR/profiles/CarZam/base_config_with_backup.yml\", config_inject=[\n",
        "    (\"SAVE.MODEL_QUALIFIER\", class_name)\n",
        "])\n",
        "\n",
        "eml.cfg.EXECUTION.DATAREADER.CRAWLER_ARGS = crawler_args\n",
        "eml.cfg.EXECUTION.DATAREADER.DATASET_ARGS[\"pathidx\"] = path_idx\n",
        "eml.cfg.EXECUTION.DATAREADER.DATASET_ARGS[\"annotationidx\"] = class_idx\n",
        "eml.cfg.EXECUTION.DATAREADER.DATASET_ARGS[\"classificationclass\"] = class_name\n",
        "\n",
        "eml.addGeneratorClass(ClassificationGenerator)\n",
        "eml.addCrawlerClass(CarZamCrawler)"
      ]
    },
    {
      "cell_type": "code",
      "execution_count": null,
      "metadata": {
        "id": "r4fIyr3K6_59",
        "colab": {
          "base_uri": "https://localhost:8080/"
        },
        "outputId": "da6a1aa5-32be-4bb5-b0ae-276bd98ace71"
      },
      "outputs": [
        {
          "output_type": "stream",
          "name": "stderr",
          "text": [
            "01:17:29 ****************************************\n",
            "01:17:29 \n",
            "01:17:29 \n",
            "01:17:29 Using the following configuration:\n",
            "01:17:29 DEPLOYMENT:\n",
            "  DATAREADER:\n",
            "    CRAWLER_ARGS: {}\n",
            "    DATAREADER: DataReader\n",
            "    DATASET_ARGS: {}\n",
            "    GENERATOR: null\n",
            "    GENERATOR_ARGS: {}\n",
            "  DEPLOY: BaseDeploy\n",
            "  DEPLOYMENT_ARGS: {}\n",
            "  EPOCHS: 1\n",
            "  OUTPUT_ARGS: {}\n",
            "  PLUGIN:\n",
            "    HOOKS: always\n",
            "    RESET: false\n",
            "EXECUTION:\n",
            "  DATAREADER:\n",
            "    CRAWLER_ARGS:\n",
            "      file_name: convertible_images.zip\n",
            "      log_level: info\n",
            "      seed: 21312411\n",
            "      test_split_frac: 0.1\n",
            "      train_split_frac: 0.8\n",
            "      validation_split_frac: 0.1\n",
            "    DATAREADER: DataReader\n",
            "    DATASET_ARGS:\n",
            "      annotationidx: 3\n",
            "      classificationclass: make\n",
            "      pathidx: 5\n",
            "    GENERATOR: null\n",
            "    GENERATOR_ARGS: {}\n",
            "  EPOCHS: 10\n",
            "  FP16: false\n",
            "  MODEL_SERVING: Unused\n",
            "  OPTIMIZER_BUILDER: ClassificationOptimizer\n",
            "  PLUGIN:\n",
            "    HOOKS: always\n",
            "    RESET: false\n",
            "  SKIPEVAL: false\n",
            "  TEST_FREQUENCY: 1\n",
            "  TRAINER: ClassificationTrainer\n",
            "  TRAINER_ARGS:\n",
            "    accumulation_steps: 4\n",
            "LOGGING:\n",
            "  INPUT_SIZE: null\n",
            "  STEP_VERBOSE: 100\n",
            "LOSS:\n",
            "- KWARGS:\n",
            "  - {}\n",
            "  LABEL: ''\n",
            "  LAMBDAS:\n",
            "  - 1.0\n",
            "  LOSSES:\n",
            "  - SoftmaxLogitsLoss\n",
            "  NAME: out1\n",
            "LOSS_OPTIMIZER:\n",
            "- BASE_LR: 0.001\n",
            "  LR_BIAS_FACTOR: 1.0\n",
            "  OPTIMIZER: Adam\n",
            "  OPTIMIZER_KWARGS: {}\n",
            "  OPTIMIZER_NAME: opt-1\n",
            "  WEIGHT_BIAS_FACTOR: 0.0005\n",
            "  WEIGHT_DECAY: 0.0005\n",
            "LOSS_SCHEDULER:\n",
            "- LR_KWARGS:\n",
            "    step_size: 20\n",
            "  LR_SCHEDULER: StepLR\n",
            "  SCHEDULER_NAME: opt-1\n",
            "MODEL:\n",
            "  BUILDER: classification_model_builder\n",
            "  MODEL_ARCH: ClassificationResnet\n",
            "  MODEL_BASE: resnet18\n",
            "  MODEL_KWARGS: {}\n",
            "  MODEL_NORMALIZATION: bn\n",
            "  PARAMETER_GROUPS:\n",
            "  - opt-1\n",
            "MODEL_PLUGIN: {}\n",
            "OPTIMIZER:\n",
            "- BASE_LR: 0.001\n",
            "  LR_BIAS_FACTOR: 1.0\n",
            "  OPTIMIZER: Adam\n",
            "  OPTIMIZER_KWARGS: {}\n",
            "  OPTIMIZER_NAME: opt-1\n",
            "  WEIGHT_BIAS_FACTOR: 0.0005\n",
            "  WEIGHT_DECAY: 0.0005\n",
            "SAVE:\n",
            "  CHECKPOINT_DIRECTORY: checkpoint\n",
            "  DRIVE_BACKUP: true\n",
            "  LOG_BACKUP: true\n",
            "  MODEL_BACKBONE: singleclass\n",
            "  MODEL_CORE_NAME: origtoolimgs\n",
            "  MODEL_QUALIFIER: make\n",
            "  MODEL_VERSION: 1\n",
            "  SAVE_FREQUENCY: 1\n",
            "  STEP_SAVE_FREQUENCY: 0\n",
            "SCHEDULER:\n",
            "- LR_KWARGS:\n",
            "    gamma: 0.1\n",
            "    step_size: 3\n",
            "  LR_SCHEDULER: StepLR\n",
            "  SCHEDULER_NAME: opt-1\n",
            "STORAGE:\n",
            "  STORAGE_ARGS: {}\n",
            "  TYPE: BaseStorage\n",
            "  URL: ./\n",
            "TEST_TRANSFORMATION:\n",
            "  ARGS:\n",
            "    channels: 3\n",
            "    i_shape:\n",
            "    - 200\n",
            "    - 200\n",
            "    normalization_mean: 0.5\n",
            "    normalization_scale: 0.5\n",
            "    normalization_std: 0.5\n",
            "  BATCH_SIZE: 32\n",
            "  WORKERS: 2\n",
            "TRAIN_TRANSFORMATION:\n",
            "  ARGS:\n",
            "    channels: 3\n",
            "    h_flip: 0.5\n",
            "    i_shape:\n",
            "    - 200\n",
            "    - 200\n",
            "    normalization_mean: 0.5\n",
            "    normalization_scale: 0.5\n",
            "    normalization_std: 0.5\n",
            "    random_erase: true\n",
            "    random_erase_value: 0.3\n",
            "    t_crop: true\n",
            "  BATCH_SIZE: 32\n",
            "  WORKERS: 2\n",
            "extensions:\n",
            "- EXECUTION\n",
            "- SAVE\n",
            "- STORAGE\n",
            "- TRANSFORMATION\n",
            "- MODEL\n",
            "- LOSS\n",
            "- OPTIMIZER\n",
            "- SCHEDULER\n",
            "- LOSS_OPTIMIZER\n",
            "- LOSS_SCHEDULER\n",
            "- LOGGING\n",
            "- DEPLOYMENT\n",
            "- MODEL_PLUGIN\n",
            "\n",
            "01:17:29 \n",
            "01:17:29 \n",
            "01:17:29 ****************************************\n",
            "01:17:29 Model weights file resnet18-5c106cde.pth does not exist. Downloading.\n"
          ]
        },
        {
          "output_type": "stream",
          "name": "stdout",
          "text": [
            "46827520/46827520 bytes [████████████████████████████████████████████████████████████████████████████████████████████████████]\n",
            "Download of resnet18-5c106cde.pth to https://download.pytorch.org/models/resnet18-5c106cde.pth completed\n"
          ]
        },
        {
          "output_type": "stream",
          "name": "stderr",
          "text": [
            "01:17:30 No previous stop detected. Will start from epoch 0\n",
            "01:17:30 Loaded BaseStorage from ednaml.storage to build Storage\n",
            "01:17:30 Reading data with DataReader DataReader\n",
            "01:17:30 Default CRAWLER is <class 'ednaml.crawlers.Crawler'>\n",
            "01:17:30 Default DATASET is <class 'torch.utils.data.dataset.Dataset'>\n",
            "01:17:30 Default GENERATOR is <class 'ednaml.generators.ImageGenerator.ImageGenerator'>\n",
            "01:17:30 Updating GENERATOR to queued class ClassificationGenerator\n",
            "01:17:30 Updating CRAWLER to CarZamCrawler\n",
            "01:17:30 Generated training data generator with 4392 training data points\n",
            "01:17:30 Running classification model with classes: {'make': {'classes': 14}}\n",
            "01:17:30 Generated test data/query generator\n",
            "01:17:30 Loaded classification_model_builder from ednaml.models to build model\n",
            "01:17:30 Finished instantiating model with ClassificationResnet architecture\n",
            "01:17:30 Adding plugins after constructing model\n",
            "01:17:30 No saved model weights provided.\n",
            "01:17:34 Model Summary retured the following error:\n",
            "01:17:34 Traceback (most recent call last):\n",
            "  File \"/content/GLAMOR/src/ednaml/core/EdnaML.py\", line 888, in getModelSummary\n",
            "    self.cfg.TRAIN_TRANSFORMATION.INPUT_SIZE,\n",
            "AttributeError: 'TransformationConfig' object has no attribute 'INPUT_SIZE'\n",
            "\n",
            "01:17:34 Loaded ClassificationOptimizer from ednaml.optimizer to build Optimizer model\n",
            "01:17:34 Built optimizer\n",
            "01:17:34 Built scheduler\n",
            "01:17:34 Added SoftmaxLogitsLoss with lambda = 1.0 and loss arguments {}\n",
            "01:17:34 Built loss function\n",
            "01:17:34 Built loss optimizer\n",
            "01:17:34 Built loss scheduler\n",
            "01:17:34 Loaded BaseStorage from ednaml.storage to build Storage\n",
            "01:17:34 Loaded ClassificationTrainer from ednaml.trainer to build Trainer\n",
            "01:17:34 Saving model metadata\n",
            "01:17:34 Backing up metadata\n",
            "01:17:34 Finished metadata backup\n",
            "01:17:34 1 GPUs available\n"
          ]
        }
      ],
      "source": [
        "eml.apply()"
      ]
    },
    {
      "cell_type": "code",
      "execution_count": null,
      "metadata": {
        "colab": {
          "base_uri": "https://localhost:8080/"
        },
        "id": "H3As1f7w6_59",
        "outputId": "6fea60db-f6cc-491b-c0de-2bc9dc57e3c9"
      },
      "outputs": [
        {
          "output_type": "stream",
          "name": "stderr",
          "text": [
            "01:17:38 Starting training\n",
            "01:17:38 Logging to:\torigtoolimgs-v1-singleclass-make-logger.log\n",
            "01:17:38 Models will be saved to local directory:\torigtoolimgs-v1-singleclass-make\n",
            "01:17:38 Logs will be backed up to drive directory:\tcheckpoint/origtoolimgs-v1-singleclass-make\n",
            "01:17:38 Models will be backed up to drive directory:\tcheckpoint/origtoolimgs-v1-singleclass-make\n",
            "01:17:38 Models will be saved with base name:\torigtoolimgs-v1_epoch[].pth\n",
            "01:17:38 Optimizers will be saved with base name:\torigtoolimgs-v1_epoch[]_optimizer.pth\n",
            "01:17:38 Schedulers will be saved with base name:\torigtoolimgs-v1_epoch[]_scheduler.pth\n",
            "01:17:38 Performing initial evaluation...\n",
            "01:18:08 Obtained features, validation in progress\n",
            "01:18:08 Accuracy: 4.372%\n",
            "01:18:08 Micro F-score: 0.044\n",
            "01:18:08 Weighted F-score: 0.005\n",
            "01:18:08 Starting training from 0\n",
            "01:18:13 Parameter Group `opt-1`: Starting epoch 0 with 130 steps and learning rate 1.00000E-03\n",
            "01:20:49 Epoch0.99\tTotal Avg Loss: 1.177 Softmax: 0.702\n",
            "01:21:49 ********** Completed epoch 0 **********\n",
            "01:21:49 Model evaluation triggered, but gradients still need accumulation. Will evaluate after accumulation.\n",
            "01:21:49 Model save triggered, but gradients still need accumulation. Will save after accumulation.\n",
            "01:21:52 Parameter Group `opt-1`: Starting epoch 1 with 130 steps and learning rate 1.00000E-03\n",
            "01:21:53 Evaluating model at test-frequency\n",
            "01:22:26 Obtained features, validation in progress\n",
            "01:22:26 Accuracy: 76.138%\n",
            "01:22:26 Micro F-score: 0.761\n",
            "01:22:26 Weighted F-score: 0.767\n",
            "01:22:26 Saving model at save-frequency, at epoch 0, step 0\n",
            "01:22:26 Saving model, optimizer, and scheduler.\n",
            "01:22:27 Performing drive backup of model, optimizer, and scheduler.\n",
            "01:24:52 Epoch1.99\tTotal Avg Loss: 0.237 Softmax: 0.932\n",
            "01:25:53 ********** Completed epoch 1 **********\n",
            "01:25:53 Model evaluation triggered, but gradients still need accumulation. Will evaluate after accumulation.\n",
            "01:25:53 Model save triggered, but gradients still need accumulation. Will save after accumulation.\n",
            "01:25:56 Parameter Group `opt-1`: Starting epoch 2 with 130 steps and learning rate 1.00000E-03\n",
            "01:26:00 Evaluating model at test-frequency\n",
            "01:26:33 Obtained features, validation in progress\n",
            "01:26:33 Accuracy: 94.171%\n",
            "01:26:33 Micro F-score: 0.942\n",
            "01:26:33 Weighted F-score: 0.954\n",
            "01:26:33 Saving model at save-frequency, at epoch 1, step 0\n",
            "01:26:33 Saving model, optimizer, and scheduler.\n",
            "01:26:34 Performing drive backup of model, optimizer, and scheduler.\n",
            "01:28:59 Epoch2.99\tTotal Avg Loss: 0.144 Softmax: 0.955\n",
            "01:29:57 ********** Completed epoch 2 **********\n",
            "01:29:57 Model evaluation triggered, but gradients still need accumulation. Will evaluate after accumulation.\n",
            "01:29:57 Model save triggered, but gradients still need accumulation. Will save after accumulation.\n",
            "01:30:01 Parameter Group `opt-1`: Starting epoch 3 with 130 steps and learning rate 1.00000E-04\n",
            "01:30:01 Evaluating model at test-frequency\n",
            "01:30:35 Obtained features, validation in progress\n",
            "01:30:35 Accuracy: 95.082%\n",
            "01:30:35 Micro F-score: 0.951\n",
            "01:30:35 Weighted F-score: 0.961\n",
            "01:30:35 Saving model at save-frequency, at epoch 2, step 0\n",
            "01:30:35 Saving model, optimizer, and scheduler.\n",
            "01:30:35 Performing drive backup of model, optimizer, and scheduler.\n",
            "01:33:05 Epoch3.99\tTotal Avg Loss: 0.113 Softmax: 0.965\n",
            "01:34:06 ********** Completed epoch 3 **********\n",
            "01:34:06 Model evaluation triggered, but gradients still need accumulation. Will evaluate after accumulation.\n",
            "01:34:06 Model save triggered, but gradients still need accumulation. Will save after accumulation.\n",
            "01:34:10 Parameter Group `opt-1`: Starting epoch 4 with 130 steps and learning rate 1.00000E-04\n",
            "01:34:13 Evaluating model at test-frequency\n",
            "01:34:49 Obtained features, validation in progress\n",
            "01:34:49 Accuracy: 96.357%\n",
            "01:34:49 Micro F-score: 0.964\n",
            "01:34:49 Weighted F-score: 0.964\n",
            "01:34:49 Saving model at save-frequency, at epoch 3, step 0\n",
            "01:34:49 Saving model, optimizer, and scheduler.\n",
            "01:34:49 Performing drive backup of model, optimizer, and scheduler.\n",
            "01:37:21 Epoch4.99\tTotal Avg Loss: 0.100 Softmax: 0.964\n",
            "01:38:22 ********** Completed epoch 4 **********\n",
            "01:38:22 Model evaluation triggered, but gradients still need accumulation. Will evaluate after accumulation.\n",
            "01:38:22 Model save triggered, but gradients still need accumulation. Will save after accumulation.\n",
            "01:38:26 Parameter Group `opt-1`: Starting epoch 5 with 130 steps and learning rate 1.00000E-04\n",
            "01:38:26 Evaluating model at test-frequency\n",
            "01:39:03 Obtained features, validation in progress\n",
            "01:39:03 Accuracy: 96.539%\n",
            "01:39:03 Micro F-score: 0.965\n",
            "01:39:03 Weighted F-score: 0.966\n",
            "01:39:03 Saving model at save-frequency, at epoch 4, step 0\n",
            "01:39:03 Saving model, optimizer, and scheduler.\n",
            "01:39:04 Performing drive backup of model, optimizer, and scheduler.\n",
            "01:41:39 Epoch5.99\tTotal Avg Loss: 0.090 Softmax: 0.966\n",
            "01:42:42 ********** Completed epoch 5 **********\n",
            "01:42:42 Model evaluation triggered, but gradients still need accumulation. Will evaluate after accumulation.\n",
            "01:42:42 Model save triggered, but gradients still need accumulation. Will save after accumulation.\n",
            "01:42:47 Parameter Group `opt-1`: Starting epoch 6 with 130 steps and learning rate 1.00000E-05\n",
            "01:42:50 Evaluating model at test-frequency\n",
            "01:43:24 Obtained features, validation in progress\n",
            "01:43:24 Accuracy: 95.811%\n",
            "01:43:24 Micro F-score: 0.958\n",
            "01:43:24 Weighted F-score: 0.967\n",
            "01:43:24 Saving model at save-frequency, at epoch 5, step 0\n",
            "01:43:24 Saving model, optimizer, and scheduler.\n",
            "01:43:24 Performing drive backup of model, optimizer, and scheduler.\n",
            "01:45:55 Epoch6.99\tTotal Avg Loss: 0.098 Softmax: 0.961\n",
            "01:46:57 ********** Completed epoch 6 **********\n",
            "01:46:57 Model evaluation triggered, but gradients still need accumulation. Will evaluate after accumulation.\n",
            "01:46:57 Model save triggered, but gradients still need accumulation. Will save after accumulation.\n",
            "01:47:01 Parameter Group `opt-1`: Starting epoch 7 with 130 steps and learning rate 1.00000E-05\n",
            "01:47:01 Evaluating model at test-frequency\n",
            "01:47:36 Obtained features, validation in progress\n",
            "01:47:36 Accuracy: 96.539%\n",
            "01:47:36 Micro F-score: 0.965\n",
            "01:47:36 Weighted F-score: 0.966\n",
            "01:47:36 Saving model at save-frequency, at epoch 6, step 0\n",
            "01:47:36 Saving model, optimizer, and scheduler.\n",
            "01:47:37 Performing drive backup of model, optimizer, and scheduler.\n",
            "01:50:12 Epoch7.99\tTotal Avg Loss: 0.093 Softmax: 0.964\n",
            "01:51:14 ********** Completed epoch 7 **********\n",
            "01:51:14 Model evaluation triggered, but gradients still need accumulation. Will evaluate after accumulation.\n",
            "01:51:14 Model save triggered, but gradients still need accumulation. Will save after accumulation.\n",
            "01:51:19 Parameter Group `opt-1`: Starting epoch 8 with 130 steps and learning rate 1.00000E-05\n",
            "01:51:24 Evaluating model at test-frequency\n",
            "01:51:57 Obtained features, validation in progress\n",
            "01:51:57 Accuracy: 96.539%\n",
            "01:51:57 Micro F-score: 0.965\n",
            "01:51:57 Weighted F-score: 0.966\n",
            "01:51:57 Saving model at save-frequency, at epoch 7, step 0\n",
            "01:51:57 Saving model, optimizer, and scheduler.\n",
            "01:51:58 Performing drive backup of model, optimizer, and scheduler.\n",
            "01:54:29 Epoch8.99\tTotal Avg Loss: 0.091 Softmax: 0.962\n",
            "01:55:29 ********** Completed epoch 8 **********\n",
            "01:55:29 Model evaluation triggered, but gradients still need accumulation. Will evaluate after accumulation.\n",
            "01:55:29 Model save triggered, but gradients still need accumulation. Will save after accumulation.\n",
            "01:55:33 Parameter Group `opt-1`: Starting epoch 9 with 130 steps and learning rate 1.00000E-06\n",
            "01:55:33 Evaluating model at test-frequency\n",
            "01:56:08 Obtained features, validation in progress\n",
            "01:56:08 Accuracy: 96.539%\n",
            "01:56:08 Micro F-score: 0.965\n",
            "01:56:08 Weighted F-score: 0.966\n",
            "01:56:08 Saving model at save-frequency, at epoch 8, step 0\n",
            "01:56:08 Saving model, optimizer, and scheduler.\n",
            "01:56:08 Performing drive backup of model, optimizer, and scheduler.\n",
            "01:58:42 Epoch9.99\tTotal Avg Loss: 0.097 Softmax: 0.962\n",
            "01:59:42 ********** Completed epoch 9 **********\n",
            "01:59:42 Model evaluation triggered, but gradients still need accumulation. Will evaluate after accumulation.\n",
            "01:59:42 Model save triggered, but gradients still need accumulation. Will save after accumulation.\n",
            "01:59:46 Parameter Group `opt-1`: Starting epoch 10 with 130 steps and learning rate 1.00000E-06\n",
            "01:59:49 Evaluating model at test-frequency\n",
            "02:00:25 Obtained features, validation in progress\n",
            "02:00:25 Accuracy: 96.539%\n",
            "02:00:25 Micro F-score: 0.965\n",
            "02:00:25 Weighted F-score: 0.966\n",
            "02:00:25 Saving model at save-frequency, at epoch 9, step 0\n",
            "02:00:25 Saving model, optimizer, and scheduler.\n",
            "02:00:25 Performing drive backup of model, optimizer, and scheduler.\n",
            "02:02:54 Epoch10.99\tTotal Avg Loss: 0.081 Softmax: 0.969\n",
            "02:03:56 ********** Completed epoch 10 **********\n",
            "02:03:56 Model evaluation triggered, but gradients still need accumulation. Will evaluate after accumulation.\n",
            "02:03:56 Model save triggered, but gradients still need accumulation. Will save after accumulation.\n",
            "02:03:56 Final: Evaluating model at test-frequency\n",
            "02:04:24 Obtained features, validation in progress\n",
            "02:04:24 Accuracy: 96.539%\n",
            "02:04:24 Micro F-score: 0.965\n",
            "02:04:24 Weighted F-score: 0.966\n",
            "02:04:24 Final: Saving model at save-frequency\n",
            "02:04:24 Saving model, optimizer, and scheduler.\n",
            "02:04:25 Performing drive backup of model, optimizer, and scheduler.\n"
          ]
        }
      ],
      "source": [
        "eml.train()"
      ]
    },
    {
      "cell_type": "code",
      "execution_count": null,
      "metadata": {
        "colab": {
          "base_uri": "https://localhost:8080/"
        },
        "id": "JacLY1vFOJkn",
        "outputId": "ff5c7de7-7488-48ec-fc1e-eaa5cdee2866"
      },
      "outputs": [
        {
          "output_type": "stream",
          "name": "stderr",
          "text": [
            "02:05:10 Obtained features, validation in progress\n",
            "02:05:10 Accuracy: 96.539%\n",
            "02:05:10 Micro F-score: 0.965\n",
            "02:05:10 Weighted F-score: 0.966\n"
          ]
        }
      ],
      "source": [
        "resp = eml.eval()"
      ]
    },
    {
      "cell_type": "markdown",
      "metadata": {
        "id": "Evv2taNh-yur"
      },
      "source": [
        "# 4. Multiclass classifiers\n",
        "\n",
        "Multiclass classifiers try to classify multiple things at once, using the same features. Sometimes it works, if the features are colocated or have some overlap. Othertimes, it doesn't work very well. We can examine this in case of our small dataset first."
      ]
    },
    {
      "cell_type": "markdown",
      "metadata": {
        "id": "lzUnXtOsdffC"
      },
      "source": [
        "## 4.1 Multi-class classification (year-type)\n",
        "\n",
        "Now we will try a model that performs vehicle type AND vehicle color classification together. The config is already prepared for this in `profiles/color_type.yml`.\n",
        "\n",
        "Our architecture looks like:\n",
        "\n",
        "[<img src=\"https://i.redd.it/7ndvmdlq4yx91.png\" width=\"550\"/>]"
      ]
    },
    {
      "cell_type": "code",
      "source": [
        "DATASET = 'Convertible'"
      ],
      "metadata": {
        "id": "OMwpiEDq5a8A"
      },
      "execution_count": 11,
      "outputs": []
    },
    {
      "cell_type": "code",
      "execution_count": 12,
      "metadata": {
        "id": "z0VzCR36dffC"
      },
      "outputs": [],
      "source": [
        "path_idx = 5          # Change this to whichever index in tuple has path\n",
        "crawler_args = {\n",
        "    \"file_name\" : f\"/content/{DATASET.lower()}_images.zip\",\n",
        "    \"log_level\": \"info\",\n",
        "    \"seed\": 21312411,\n",
        "    \"train_split_frac\": 0.8,\n",
        "    \"test_split_frac\": 0.1,\n",
        "    \"validation_split_frac\": 0.1\n",
        "}"
      ]
    },
    {
      "cell_type": "code",
      "execution_count": 13,
      "metadata": {
        "id": "c47YhBlvdffC",
        "colab": {
          "base_uri": "https://localhost:8080/"
        },
        "outputId": "a47552ac-1f49-49a7-8cd2-dae82a80fe3f"
      },
      "outputs": [
        {
          "output_type": "stream",
          "name": "stdout",
          "text": [
            "The autoreload extension is already loaded. To reload it, use:\n",
            "  %reload_ext autoreload\n"
          ]
        }
      ],
      "source": [
        "%load_ext autoreload\n",
        "%autoreload 2"
      ]
    },
    {
      "cell_type": "code",
      "execution_count": 14,
      "metadata": {
        "id": "vaP7V7LadffD"
      },
      "outputs": [],
      "source": [
        "from ednaml.core import EdnaML\n",
        "from ednaml.generators import ClassificationGenerator\n",
        "\n",
        "eml = EdnaML(config = [\"./GLAMOR/profiles/CarZam/base_config_with_backup.yml\",\"./GLAMOR/profiles/CarZam/color_type.yml\"])\n",
        "\n",
        "eml.cfg.SAVE.MODEL_CORE_NAME = f'{DATASET}DatasetImgs'\n",
        "eml.cfg.SAVE.MODEL_QUALIFIER = f'year-type'\n",
        "\n",
        "eml.cfg.EXECUTION.DATAREADER.CRAWLER_ARGS = crawler_args\n",
        "eml.cfg.EXECUTION.DATAREADER.DATASET_ARGS[\"pathidx\"] = path_idx\n",
        "# We have already set these in config\n",
        "eml.cfg.EXECUTION.DATAREADER.DATASET_ARGS[\"annotationidx\"] = [2, 0]\n",
        "eml.cfg.EXECUTION.DATAREADER.DATASET_ARGS[\"classificationclass\"] = [\"year\", \"type\"]\n",
        "\n",
        "eml.cfg.MODEL.MODEL_KWARGS[\"outputs\"] = [\n",
        "    {\"name\": \"type\", \"label\": \"type\"},\n",
        "    {\"name\": \"out2\", \"label\": \"year\"},\n",
        "\n",
        "]\n",
        "eml.cfg.LOSS[0].LABEL = \"year\"\n",
        "eml.cfg.LOSS[0].NAME = \"yearloss\"\n",
        "\n",
        "eml.cfg.LOSS[1].LABEL = \"type\"\n",
        "eml.cfg.LOSS[1].NAME = \"typeloss\"\n",
        "# We have already set these in config\n",
        "#eml.cfg.EXECUTION.DATAREADER.DATASET_ARGS[\"annotationidx\"] = class_idx\n",
        "#eml.cfg.EXECUTION.DATAREADER.DATASET_ARGS[\"classificationclass\"] = class_name\n",
        "\n",
        "#eml.addGeneratorClass(MultiClassificationGenerator)\n",
        "eml.addCrawlerClass(CarZamCrawler)"
      ]
    },
    {
      "cell_type": "code",
      "execution_count": 15,
      "metadata": {
        "id": "hzSOceAQdffD",
        "colab": {
          "base_uri": "https://localhost:8080/"
        },
        "outputId": "3df9eb22-61c5-44d9-a8b1-926a46d27e6f"
      },
      "outputs": [
        {
          "output_type": "stream",
          "name": "stderr",
          "text": [
            "23:09:43 ****************************************\n",
            "23:09:43 \n",
            "23:09:43 \n",
            "23:09:43 Using the following configuration:\n",
            "23:09:43 DEPLOYMENT:\n",
            "  DATAREADER:\n",
            "    CRAWLER_ARGS: {}\n",
            "    DATAREADER: DataReader\n",
            "    DATASET_ARGS: {}\n",
            "    GENERATOR: null\n",
            "    GENERATOR_ARGS: {}\n",
            "  DEPLOY: BaseDeploy\n",
            "  DEPLOYMENT_ARGS: {}\n",
            "  EPOCHS: 1\n",
            "  OUTPUT_ARGS: {}\n",
            "  PLUGIN:\n",
            "    HOOKS: always\n",
            "    RESET: false\n",
            "EXECUTION:\n",
            "  DATAREADER:\n",
            "    CRAWLER_ARGS:\n",
            "      file_name: /content/convertible_images.zip\n",
            "      log_level: info\n",
            "      seed: 21312411\n",
            "      test_split_frac: 0.1\n",
            "      train_split_frac: 0.8\n",
            "      validation_split_frac: 0.1\n",
            "    DATAREADER: DataReader\n",
            "    DATASET_ARGS:\n",
            "      annotationidx:\n",
            "      - 2\n",
            "      - 0\n",
            "      classificationclass:\n",
            "      - year\n",
            "      - type\n",
            "      pathidx: 5\n",
            "    GENERATOR: MultiClassificationGenerator\n",
            "    GENERATOR_ARGS: {}\n",
            "  EPOCHS: 10\n",
            "  FP16: false\n",
            "  MODEL_SERVING: Unused\n",
            "  OPTIMIZER_BUILDER: ClassificationOptimizer\n",
            "  PLUGIN:\n",
            "    HOOKS: always\n",
            "    RESET: false\n",
            "  SKIPEVAL: false\n",
            "  TEST_FREQUENCY: 1\n",
            "  TRAINER: MultiClassificationTrainer\n",
            "  TRAINER_ARGS:\n",
            "    accumulation_steps: 4\n",
            "LOGGING:\n",
            "  INPUT_SIZE: null\n",
            "  STEP_VERBOSE: 100\n",
            "LOSS:\n",
            "- KWARGS:\n",
            "  - {}\n",
            "  LABEL: year\n",
            "  LAMBDAS:\n",
            "  - 1.0\n",
            "  LOSSES:\n",
            "  - SoftmaxLogitsLoss\n",
            "  NAME: yearloss\n",
            "- KWARGS:\n",
            "  - {}\n",
            "  LABEL: type\n",
            "  LAMBDAS:\n",
            "  - 1.0\n",
            "  LOSSES:\n",
            "  - SoftmaxLogitsLoss\n",
            "  NAME: typeloss\n",
            "LOSS_OPTIMIZER:\n",
            "- BASE_LR: 0.001\n",
            "  LR_BIAS_FACTOR: 1.0\n",
            "  OPTIMIZER: Adam\n",
            "  OPTIMIZER_KWARGS: {}\n",
            "  OPTIMIZER_NAME: opt-1\n",
            "  WEIGHT_BIAS_FACTOR: 0.0005\n",
            "  WEIGHT_DECAY: 0.0005\n",
            "LOSS_SCHEDULER:\n",
            "- LR_KWARGS:\n",
            "    step_size: 20\n",
            "  LR_SCHEDULER: StepLR\n",
            "  SCHEDULER_NAME: opt-1\n",
            "MODEL:\n",
            "  BUILDER: multiclassification_model_builder\n",
            "  MODEL_ARCH: MultiClassificationResnet\n",
            "  MODEL_BASE: resnet18\n",
            "  MODEL_KWARGS:\n",
            "    number_outputs: 2\n",
            "    outputs:\n",
            "    - label: type\n",
            "      name: type\n",
            "    - label: year\n",
            "      name: out2\n",
            "  MODEL_NORMALIZATION: bn\n",
            "  PARAMETER_GROUPS:\n",
            "  - opt-1\n",
            "MODEL_PLUGIN: {}\n",
            "OPTIMIZER:\n",
            "- BASE_LR: 0.001\n",
            "  LR_BIAS_FACTOR: 1.0\n",
            "  OPTIMIZER: Adam\n",
            "  OPTIMIZER_KWARGS: {}\n",
            "  OPTIMIZER_NAME: opt-1\n",
            "  WEIGHT_BIAS_FACTOR: 0.0005\n",
            "  WEIGHT_DECAY: 0.0005\n",
            "SAVE:\n",
            "  CHECKPOINT_DIRECTORY: checkpoint\n",
            "  DRIVE_BACKUP: false\n",
            "  LOG_BACKUP: false\n",
            "  MODEL_BACKBONE: multiclass\n",
            "  MODEL_CORE_NAME: ConvertibleDatasetImgs\n",
            "  MODEL_QUALIFIER: year-type\n",
            "  MODEL_VERSION: 1\n",
            "  SAVE_FREQUENCY: 1\n",
            "  STEP_SAVE_FREQUENCY: 0\n",
            "SCHEDULER:\n",
            "- LR_KWARGS:\n",
            "    gamma: 0.1\n",
            "    step_size: 3\n",
            "  LR_SCHEDULER: StepLR\n",
            "  SCHEDULER_NAME: opt-1\n",
            "STORAGE:\n",
            "  STORAGE_ARGS: {}\n",
            "  TYPE: BaseStorage\n",
            "  URL: ./\n",
            "TEST_TRANSFORMATION:\n",
            "  ARGS:\n",
            "    channels: 3\n",
            "    i_shape:\n",
            "    - 200\n",
            "    - 200\n",
            "    normalization_mean: 0.5\n",
            "    normalization_scale: 0.5\n",
            "    normalization_std: 0.5\n",
            "  BATCH_SIZE: 32\n",
            "  WORKERS: 2\n",
            "TRAIN_TRANSFORMATION:\n",
            "  ARGS:\n",
            "    channels: 3\n",
            "    h_flip: 0.5\n",
            "    i_shape:\n",
            "    - 200\n",
            "    - 200\n",
            "    normalization_mean: 0.5\n",
            "    normalization_scale: 0.5\n",
            "    normalization_std: 0.5\n",
            "    random_erase: true\n",
            "    random_erase_value: 0.3\n",
            "    t_crop: true\n",
            "  BATCH_SIZE: 32\n",
            "  WORKERS: 2\n",
            "extensions:\n",
            "- EXECUTION\n",
            "- SAVE\n",
            "- STORAGE\n",
            "- TRANSFORMATION\n",
            "- MODEL\n",
            "- LOSS\n",
            "- OPTIMIZER\n",
            "- SCHEDULER\n",
            "- LOSS_OPTIMIZER\n",
            "- LOSS_SCHEDULER\n",
            "- LOGGING\n",
            "- DEPLOYMENT\n",
            "- MODEL_PLUGIN\n",
            "\n",
            "23:09:43 \n",
            "23:09:43 \n",
            "23:09:43 ****************************************\n",
            "23:09:43 Model weights file resnet18-5c106cde.pth does not exist. Downloading.\n"
          ]
        },
        {
          "output_type": "stream",
          "name": "stdout",
          "text": [
            "46827520/46827520 bytes [████████████████████████████████████████████████████████████████████████████████████████████████████]"
          ]
        },
        {
          "output_type": "stream",
          "name": "stderr",
          "text": [
            "23:09:45 No previous stop detected. Will start from epoch 0\n",
            "23:09:45 Loaded BaseStorage from ednaml.storage to build Storage\n",
            "23:09:45 Reading data with DataReader DataReader\n",
            "23:09:45 Default CRAWLER is <class 'ednaml.crawlers.Crawler'>\n",
            "23:09:45 Default DATASET is <class 'torch.utils.data.dataset.Dataset'>\n"
          ]
        },
        {
          "output_type": "stream",
          "name": "stdout",
          "text": [
            "\n",
            "Download of resnet18-5c106cde.pth to https://download.pytorch.org/models/resnet18-5c106cde.pth completed\n"
          ]
        },
        {
          "output_type": "stream",
          "name": "stderr",
          "text": [
            "23:09:45 Default GENERATOR is <class 'ednaml.generators.ImageGenerator.ImageGenerator'>\n",
            "23:09:45 Updating GENERATOR using config specification to MultiClassificationGenerator\n",
            "23:09:45 Updating CRAWLER to CarZamCrawler\n",
            "23:09:45 Generated training data generator with 4392 training data points\n",
            "23:09:45 Running classification model with classes: {'year': {'classes': 11}, 'type': {'classes': 1}}\n",
            "23:09:45 Generated test data/query generator\n",
            "23:09:45 Loaded multiclassification_model_builder from ednaml.models to build model\n",
            "23:09:45 Finished instantiating model with MultiClassificationResnet architecture\n",
            "23:09:45 Adding plugins after constructing model\n",
            "23:09:45 No saved model weights provided.\n",
            "23:09:49 Model Summary retured the following error:\n",
            "23:09:49 Traceback (most recent call last):\n",
            "  File \"/content/GLAMOR/src/ednaml/core/EdnaML.py\", line 888, in getModelSummary\n",
            "    self.cfg.TRAIN_TRANSFORMATION.INPUT_SIZE,\n",
            "AttributeError: 'TransformationConfig' object has no attribute 'INPUT_SIZE'\n",
            "\n",
            "23:09:49 Loaded ClassificationOptimizer from ednaml.optimizer to build Optimizer model\n",
            "23:09:49 Built optimizer\n",
            "23:09:49 Built scheduler\n",
            "23:09:49 Added SoftmaxLogitsLoss with lambda = 1.0 and loss arguments {}\n",
            "23:09:49 Added SoftmaxLogitsLoss with lambda = 1.0 and loss arguments {}\n",
            "23:09:49 Built loss function\n",
            "23:09:49 Built loss optimizer\n",
            "23:09:49 Built loss scheduler\n",
            "23:09:49 Built loss scheduler\n",
            "23:09:49 Loaded BaseStorage from ednaml.storage to build Storage\n",
            "23:09:49 Loaded MultiClassificationTrainer from ednaml.trainer to build Trainer\n",
            "23:09:49 Saving model metadata\n",
            "23:09:49 Backing up metadata\n",
            "23:09:49 Finished metadata backup\n",
            "23:09:49 1 GPUs available\n"
          ]
        }
      ],
      "source": [
        "eml.apply()"
      ]
    },
    {
      "cell_type": "code",
      "execution_count": 16,
      "metadata": {
        "id": "jtux7QIEdffD",
        "colab": {
          "base_uri": "https://localhost:8080/"
        },
        "outputId": "cdcc589c-487a-43a6-9586-13c743a05cf6"
      },
      "outputs": [
        {
          "output_type": "stream",
          "name": "stderr",
          "text": [
            "23:09:53 Starting training\n",
            "23:09:53 Logging to:\torigtoolimgs-v1-multiclass-color-vtype-logger.log\n",
            "23:09:53 Models will be saved to local directory:\torigtoolimgs-v1-multiclass-color-vtype\n",
            "23:09:53 Models will be saved with base name:\torigtoolimgs-v1_epoch[].pth\n",
            "23:09:53 Optimizers will be saved with base name:\torigtoolimgs-v1_epoch[]_optimizer.pth\n",
            "23:09:53 Schedulers will be saved with base name:\torigtoolimgs-v1_epoch[]_scheduler.pth\n",
            "23:09:53 Performing initial evaluation...\n",
            "23:10:50 Obtained features, validation in progress\n",
            "23:10:50 Metrics\tyearloss\ttypeloss\n",
            "23:10:50 Accuracy\tyear: 0.088\ttype: 1.000\n",
            "23:10:50 M F-Score\tyear: 0.088\ttype: 1.000\n",
            "23:10:50 W F-Score\tyear: 0.045\ttype: 1.000\n",
            "23:10:50 Starting training from 0\n",
            "23:10:53 Parameter Group `opt-1`: Starting epoch 0 with 130 steps and learning rate 1.00000E-03\n",
            "23:13:31 Epoch0.99\tTotal Avg Loss: 0.766 Softmax: 0.000\n",
            "23:14:30 ********** Completed epoch 0 **********\n",
            "23:14:30 Model evaluation triggered, but gradients still need accumulation. Will evaluate after accumulation.\n",
            "23:14:30 Model save triggered, but gradients still need accumulation. Will save after accumulation.\n",
            "23:14:33 Parameter Group `opt-1`: Starting epoch 1 with 130 steps and learning rate 1.00000E-03\n",
            "23:14:33 Evaluating model at test-frequency\n",
            "23:15:32 Obtained features, validation in progress\n",
            "23:15:32 Metrics\tyearloss\ttypeloss\n",
            "23:15:32 Accuracy\tyear: 0.657\ttype: 1.000\n",
            "23:15:32 M F-Score\tyear: 0.657\ttype: 1.000\n",
            "23:15:32 W F-Score\tyear: 0.659\ttype: 1.000\n",
            "23:15:32 Saving model at save-frequency, at epoch 0, step 0\n",
            "23:15:32 Saving model, optimizer, and scheduler.\n",
            "23:18:02 Epoch1.99\tTotal Avg Loss: 0.207 Softmax: 0.000\n",
            "23:19:01 ********** Completed epoch 1 **********\n",
            "23:19:01 Model evaluation triggered, but gradients still need accumulation. Will evaluate after accumulation.\n",
            "23:19:01 Model save triggered, but gradients still need accumulation. Will save after accumulation.\n",
            "23:19:04 Parameter Group `opt-1`: Starting epoch 2 with 130 steps and learning rate 1.00000E-03\n",
            "23:19:07 Evaluating model at test-frequency\n",
            "23:20:07 Obtained features, validation in progress\n",
            "23:20:07 Metrics\tyearloss\ttypeloss\n",
            "23:20:07 Accuracy\tyear: 0.846\ttype: 1.000\n",
            "23:20:07 M F-Score\tyear: 0.846\ttype: 1.000\n",
            "23:20:07 W F-Score\tyear: 0.847\ttype: 1.000\n",
            "23:20:07 Saving model at save-frequency, at epoch 1, step 0\n",
            "23:20:07 Saving model, optimizer, and scheduler.\n",
            "23:22:30 Epoch2.99\tTotal Avg Loss: 0.136 Softmax: 0.000\n",
            "23:23:32 ********** Completed epoch 2 **********\n",
            "23:23:32 Model evaluation triggered, but gradients still need accumulation. Will evaluate after accumulation.\n",
            "23:23:32 Model save triggered, but gradients still need accumulation. Will save after accumulation.\n",
            "23:23:35 Parameter Group `opt-1`: Starting epoch 3 with 130 steps and learning rate 1.00000E-04\n",
            "23:23:35 Evaluating model at test-frequency\n",
            "23:24:34 Obtained features, validation in progress\n",
            "23:24:34 Metrics\tyearloss\ttypeloss\n",
            "23:24:34 Accuracy\tyear: 0.942\ttype: 1.000\n",
            "23:24:34 M F-Score\tyear: 0.942\ttype: 1.000\n",
            "23:24:34 W F-Score\tyear: 0.940\ttype: 1.000\n",
            "23:24:34 Saving model at save-frequency, at epoch 2, step 0\n",
            "23:24:34 Saving model, optimizer, and scheduler.\n",
            "23:27:02 Epoch3.99\tTotal Avg Loss: 0.067 Softmax: 0.000\n",
            "23:28:00 ********** Completed epoch 3 **********\n",
            "23:28:00 Model evaluation triggered, but gradients still need accumulation. Will evaluate after accumulation.\n",
            "23:28:00 Model save triggered, but gradients still need accumulation. Will save after accumulation.\n",
            "23:28:03 Parameter Group `opt-1`: Starting epoch 4 with 130 steps and learning rate 1.00000E-04\n",
            "23:28:07 Evaluating model at test-frequency\n",
            "23:29:08 Obtained features, validation in progress\n",
            "23:29:08 Metrics\tyearloss\ttypeloss\n",
            "23:29:08 Accuracy\tyear: 0.977\ttype: 1.000\n",
            "23:29:08 M F-Score\tyear: 0.977\ttype: 1.000\n",
            "23:29:08 W F-Score\tyear: 0.978\ttype: 1.000\n",
            "23:29:08 Saving model at save-frequency, at epoch 3, step 0\n",
            "23:29:08 Saving model, optimizer, and scheduler.\n",
            "23:31:33 Epoch4.99\tTotal Avg Loss: 0.045 Softmax: 0.000\n",
            "23:32:31 ********** Completed epoch 4 **********\n",
            "23:32:31 Model evaluation triggered, but gradients still need accumulation. Will evaluate after accumulation.\n",
            "23:32:31 Model save triggered, but gradients still need accumulation. Will save after accumulation.\n",
            "23:32:34 Parameter Group `opt-1`: Starting epoch 5 with 130 steps and learning rate 1.00000E-04\n",
            "23:32:34 Evaluating model at test-frequency\n",
            "23:33:35 Obtained features, validation in progress\n",
            "23:33:35 Metrics\tyearloss\ttypeloss\n",
            "23:33:35 Accuracy\tyear: 0.979\ttype: 1.000\n",
            "23:33:35 M F-Score\tyear: 0.979\ttype: 1.000\n",
            "23:33:35 W F-Score\tyear: 0.979\ttype: 1.000\n",
            "23:33:35 Saving model at save-frequency, at epoch 4, step 0\n",
            "23:33:35 Saving model, optimizer, and scheduler.\n",
            "23:36:00 Epoch5.99\tTotal Avg Loss: 0.043 Softmax: 0.000\n",
            "23:37:00 ********** Completed epoch 5 **********\n",
            "23:37:00 Model evaluation triggered, but gradients still need accumulation. Will evaluate after accumulation.\n",
            "23:37:00 Model save triggered, but gradients still need accumulation. Will save after accumulation.\n",
            "23:37:04 Parameter Group `opt-1`: Starting epoch 6 with 130 steps and learning rate 1.00000E-05\n",
            "23:37:07 Evaluating model at test-frequency\n",
            "23:38:06 Obtained features, validation in progress\n",
            "23:38:06 Metrics\tyearloss\ttypeloss\n",
            "23:38:06 Accuracy\tyear: 0.979\ttype: 1.000\n",
            "23:38:06 M F-Score\tyear: 0.979\ttype: 1.000\n",
            "23:38:06 W F-Score\tyear: 0.979\ttype: 1.000\n",
            "23:38:06 Saving model at save-frequency, at epoch 5, step 0\n",
            "23:38:06 Saving model, optimizer, and scheduler.\n",
            "23:40:30 Epoch6.99\tTotal Avg Loss: 0.043 Softmax: 0.000\n",
            "23:41:29 ********** Completed epoch 6 **********\n",
            "23:41:29 Model evaluation triggered, but gradients still need accumulation. Will evaluate after accumulation.\n",
            "23:41:29 Model save triggered, but gradients still need accumulation. Will save after accumulation.\n",
            "23:41:32 Parameter Group `opt-1`: Starting epoch 7 with 130 steps and learning rate 1.00000E-05\n",
            "23:41:33 Evaluating model at test-frequency\n",
            "23:42:32 Obtained features, validation in progress\n",
            "23:42:32 Metrics\tyearloss\ttypeloss\n",
            "23:42:32 Accuracy\tyear: 0.979\ttype: 1.000\n",
            "23:42:32 M F-Score\tyear: 0.979\ttype: 1.000\n",
            "23:42:32 W F-Score\tyear: 0.979\ttype: 1.000\n",
            "23:42:32 Saving model at save-frequency, at epoch 6, step 0\n",
            "23:42:32 Saving model, optimizer, and scheduler.\n",
            "23:44:58 Epoch7.99\tTotal Avg Loss: 0.036 Softmax: 0.000\n",
            "23:45:56 ********** Completed epoch 7 **********\n",
            "23:45:56 Model evaluation triggered, but gradients still need accumulation. Will evaluate after accumulation.\n",
            "23:45:56 Model save triggered, but gradients still need accumulation. Will save after accumulation.\n",
            "23:46:00 Parameter Group `opt-1`: Starting epoch 8 with 130 steps and learning rate 1.00000E-05\n",
            "23:46:04 Evaluating model at test-frequency\n",
            "23:47:03 Obtained features, validation in progress\n",
            "23:47:03 Metrics\tyearloss\ttypeloss\n",
            "23:47:03 Accuracy\tyear: 0.979\ttype: 1.000\n",
            "23:47:03 M F-Score\tyear: 0.979\ttype: 1.000\n",
            "23:47:03 W F-Score\tyear: 0.979\ttype: 1.000\n",
            "23:47:03 Saving model at save-frequency, at epoch 7, step 0\n",
            "23:47:03 Saving model, optimizer, and scheduler.\n",
            "23:49:26 Epoch8.99\tTotal Avg Loss: 0.038 Softmax: 0.000\n",
            "23:50:25 ********** Completed epoch 8 **********\n",
            "23:50:25 Model evaluation triggered, but gradients still need accumulation. Will evaluate after accumulation.\n",
            "23:50:25 Model save triggered, but gradients still need accumulation. Will save after accumulation.\n",
            "23:50:29 Parameter Group `opt-1`: Starting epoch 9 with 130 steps and learning rate 1.00000E-06\n",
            "23:50:29 Evaluating model at test-frequency\n",
            "23:51:30 Obtained features, validation in progress\n",
            "23:51:30 Metrics\tyearloss\ttypeloss\n",
            "23:51:30 Accuracy\tyear: 0.979\ttype: 1.000\n",
            "23:51:30 M F-Score\tyear: 0.979\ttype: 1.000\n",
            "23:51:30 W F-Score\tyear: 0.979\ttype: 1.000\n",
            "23:51:30 Saving model at save-frequency, at epoch 8, step 0\n",
            "23:51:30 Saving model, optimizer, and scheduler.\n",
            "23:53:57 Epoch9.99\tTotal Avg Loss: 0.038 Softmax: 0.000\n",
            "23:54:55 ********** Completed epoch 9 **********\n",
            "23:54:55 Model evaluation triggered, but gradients still need accumulation. Will evaluate after accumulation.\n",
            "23:54:55 Model save triggered, but gradients still need accumulation. Will save after accumulation.\n",
            "23:54:58 Parameter Group `opt-1`: Starting epoch 10 with 130 steps and learning rate 1.00000E-06\n",
            "23:55:01 Evaluating model at test-frequency\n",
            "23:56:01 Obtained features, validation in progress\n",
            "23:56:01 Metrics\tyearloss\ttypeloss\n",
            "23:56:01 Accuracy\tyear: 0.979\ttype: 1.000\n",
            "23:56:01 M F-Score\tyear: 0.979\ttype: 1.000\n",
            "23:56:01 W F-Score\tyear: 0.979\ttype: 1.000\n",
            "23:56:01 Saving model at save-frequency, at epoch 9, step 0\n",
            "23:56:01 Saving model, optimizer, and scheduler.\n",
            "23:58:32 Epoch10.99\tTotal Avg Loss: 0.046 Softmax: 0.000\n",
            "23:59:33 ********** Completed epoch 10 **********\n",
            "23:59:33 Model evaluation triggered, but gradients still need accumulation. Will evaluate after accumulation.\n",
            "23:59:33 Model save triggered, but gradients still need accumulation. Will save after accumulation.\n",
            "23:59:33 Final: Evaluating model at test-frequency\n",
            "00:00:29 Obtained features, validation in progress\n",
            "00:00:29 Metrics\tyearloss\ttypeloss\n",
            "00:00:29 Accuracy\tyear: 0.979\ttype: 1.000\n",
            "00:00:29 M F-Score\tyear: 0.979\ttype: 1.000\n",
            "00:00:29 W F-Score\tyear: 0.979\ttype: 1.000\n",
            "00:00:29 Final: Saving model at save-frequency\n",
            "00:00:29 Saving model, optimizer, and scheduler.\n"
          ]
        }
      ],
      "source": [
        "eml.train()"
      ]
    },
    {
      "cell_type": "code",
      "execution_count": 17,
      "metadata": {
        "id": "up7UiM347TDi",
        "colab": {
          "base_uri": "https://localhost:8080/"
        },
        "outputId": "934dae42-c403-4961-b3b8-5428a9dd87c5"
      },
      "outputs": [
        {
          "output_type": "stream",
          "name": "stderr",
          "text": [
            "00:01:56 Obtained features, validation in progress\n",
            "00:01:56 Metrics\tyearloss\ttypeloss\n",
            "00:01:56 Accuracy\tyear: 0.979\ttype: 1.000\n",
            "00:01:56 M F-Score\tyear: 0.979\ttype: 1.000\n",
            "00:01:56 W F-Score\tyear: 0.979\ttype: 1.000\n"
          ]
        }
      ],
      "source": [
        "resp = eml.eval()"
      ]
    },
    {
      "cell_type": "markdown",
      "metadata": {
        "id": "2RJMxoSR7TJr"
      },
      "source": [
        "## 4.2 Multi-class classification (year-type-make)\n",
        "\n",
        "Now we will try a model that performs vehicle type vehicle color, and vehicle make classification together. The config is already prepared for this in `profiles/color_type_make.yml`\n",
        "\n",
        "Our architecture now looks like:\n",
        "\n",
        "[<img src=\"https://i.redd.it/8sbfqblq4yx91.png\" width=\"550\"/>]"
      ]
    },
    {
      "cell_type": "code",
      "execution_count": 22,
      "metadata": {
        "id": "uuFxyayo7TJr"
      },
      "outputs": [],
      "source": [
        "path_idx = 5          # Change this to whichever index in tuple has path\n",
        "crawler_args = {\n",
        "    \"file_name\" : f\"/content/{DATASET.lower()}_images.zip\",\n",
        "    \"log_level\": \"info\",\n",
        "    \"seed\": 21312411,\n",
        "    \"train_split_frac\": 0.8,\n",
        "    \"test_split_frac\": 0.1,\n",
        "    \"validation_split_frac\": 0.1\n",
        "}"
      ]
    },
    {
      "cell_type": "code",
      "execution_count": 23,
      "metadata": {
        "id": "vdWCXSU47TJr",
        "colab": {
          "base_uri": "https://localhost:8080/"
        },
        "outputId": "ad676bc6-2367-4191-dd4f-f3579538f697"
      },
      "outputs": [
        {
          "output_type": "stream",
          "name": "stdout",
          "text": [
            "The autoreload extension is already loaded. To reload it, use:\n",
            "  %reload_ext autoreload\n"
          ]
        }
      ],
      "source": [
        "%load_ext autoreload\n",
        "%autoreload 2"
      ]
    },
    {
      "cell_type": "code",
      "execution_count": 25,
      "metadata": {
        "id": "slDsr0mt7TJr",
        "colab": {
          "base_uri": "https://localhost:8080/"
        },
        "outputId": "e4853100-fbfc-40a9-f414-f0bb5d6b22fb"
      },
      "outputs": [
        {
          "output_type": "stream",
          "name": "stdout",
          "text": [
            "Log file exists at origtoolimgs-v1-multiclass-color-vtype-make/origtoolimgs-v1-multiclass-color-vtype-make-logger.log. Will attempt to append there.\n"
          ]
        }
      ],
      "source": [
        "from ednaml.core import EdnaML\n",
        "from ednaml.generators import ClassificationGenerator\n",
        "\n",
        "eml = EdnaML(config = [\"./GLAMOR/profiles/CarZam/base_config_with_backup.yml\",\"./GLAMOR/profiles/CarZam/color_type_make.yml\"])\n",
        "\n",
        "eml.cfg.SAVE.MODEL_CORE_NAME = f'{DATASET}DatasetImgs'\n",
        "eml.cfg.SAVE.MODEL_QUALIFIER = f'year-type-make'\n",
        "eml.cfg.EXECUTION.DATAREADER.CRAWLER_ARGS = crawler_args\n",
        "eml.cfg.EXECUTION.DATAREADER.DATASET_ARGS[\"pathidx\"] = path_idx\n",
        "eml.cfg.EXECUTION.DATAREADER.DATASET_ARGS[\"annotationidx\"] = [2, 0, 3]\n",
        "eml.cfg.EXECUTION.DATAREADER.DATASET_ARGS[\"classificationclass\"] = [\"year\", \"type\", \"make\"]\n",
        "\n",
        "eml.cfg.MODEL.MODEL_KWARGS[\"outputs\"] = [\n",
        "    {\"name\": \"type\", \"label\": \"type\"},\n",
        "    {\"name\": \"out2\", \"label\": \"year\"},\n",
        "    {\"name\": \"makeout\", \"label\": \"make\"},\n",
        "]\n",
        "eml.cfg.LOSS[0].LABEL = \"year\"\n",
        "eml.cfg.LOSS[0].NAME = \"yearloss\"\n",
        "\n",
        "eml.cfg.LOSS[1].LABEL = \"type\"\n",
        "eml.cfg.LOSS[1].NAME = \"typeloss\"\n",
        "\n",
        "eml.cfg.LOSS[2].LABEL = \"make\"\n",
        "eml.cfg.LOSS[2].NAME = \"makeloss\"\n",
        "eml.addCrawlerClass(CarZamCrawler)"
      ]
    },
    {
      "cell_type": "code",
      "execution_count": 26,
      "metadata": {
        "id": "klZiqCpg7TJr",
        "colab": {
          "base_uri": "https://localhost:8080/"
        },
        "outputId": "f9e4d45c-6520-4ce3-99ca-809629dd9aba"
      },
      "outputs": [
        {
          "output_type": "stream",
          "name": "stderr",
          "text": [
            "00:06:57 ****************************************\n",
            "00:06:57 \n",
            "00:06:57 \n",
            "00:06:57 Using the following configuration:\n",
            "00:06:57 DEPLOYMENT:\n",
            "  DATAREADER:\n",
            "    CRAWLER_ARGS: {}\n",
            "    DATAREADER: DataReader\n",
            "    DATASET_ARGS: {}\n",
            "    GENERATOR: null\n",
            "    GENERATOR_ARGS: {}\n",
            "  DEPLOY: BaseDeploy\n",
            "  DEPLOYMENT_ARGS: {}\n",
            "  EPOCHS: 1\n",
            "  OUTPUT_ARGS: {}\n",
            "  PLUGIN:\n",
            "    HOOKS: always\n",
            "    RESET: false\n",
            "EXECUTION:\n",
            "  DATAREADER:\n",
            "    CRAWLER_ARGS:\n",
            "      file_name: /content/convertible_images.zip\n",
            "      log_level: info\n",
            "      seed: 21312411\n",
            "      test_split_frac: 0.1\n",
            "      train_split_frac: 0.8\n",
            "      validation_split_frac: 0.1\n",
            "    DATAREADER: DataReader\n",
            "    DATASET_ARGS:\n",
            "      annotationidx:\n",
            "      - 2\n",
            "      - 0\n",
            "      - 3\n",
            "      classificationclass:\n",
            "      - year\n",
            "      - type\n",
            "      - make\n",
            "      pathidx: 5\n",
            "    GENERATOR: MultiClassificationGenerator\n",
            "    GENERATOR_ARGS: {}\n",
            "  EPOCHS: 10\n",
            "  FP16: false\n",
            "  MODEL_SERVING: Unused\n",
            "  OPTIMIZER_BUILDER: ClassificationOptimizer\n",
            "  PLUGIN:\n",
            "    HOOKS: always\n",
            "    RESET: false\n",
            "  SKIPEVAL: false\n",
            "  TEST_FREQUENCY: 1\n",
            "  TRAINER: MultiClassificationTrainer\n",
            "  TRAINER_ARGS:\n",
            "    accumulation_steps: 4\n",
            "LOGGING:\n",
            "  INPUT_SIZE: null\n",
            "  STEP_VERBOSE: 100\n",
            "LOSS:\n",
            "- KWARGS:\n",
            "  - {}\n",
            "  LABEL: year\n",
            "  LAMBDAS:\n",
            "  - 1.0\n",
            "  LOSSES:\n",
            "  - SoftmaxLogitsLoss\n",
            "  NAME: yearloss\n",
            "- KWARGS:\n",
            "  - {}\n",
            "  LABEL: type\n",
            "  LAMBDAS:\n",
            "  - 1.0\n",
            "  LOSSES:\n",
            "  - SoftmaxLogitsLoss\n",
            "  NAME: typeloss\n",
            "- KWARGS:\n",
            "  - {}\n",
            "  LABEL: make\n",
            "  LAMBDAS:\n",
            "  - 1.0\n",
            "  LOSSES:\n",
            "  - SoftmaxLogitsLoss\n",
            "  NAME: makeloss\n",
            "LOSS_OPTIMIZER:\n",
            "- BASE_LR: 0.001\n",
            "  LR_BIAS_FACTOR: 1.0\n",
            "  OPTIMIZER: Adam\n",
            "  OPTIMIZER_KWARGS: {}\n",
            "  OPTIMIZER_NAME: opt-1\n",
            "  WEIGHT_BIAS_FACTOR: 0.0005\n",
            "  WEIGHT_DECAY: 0.0005\n",
            "LOSS_SCHEDULER:\n",
            "- LR_KWARGS:\n",
            "    step_size: 20\n",
            "  LR_SCHEDULER: StepLR\n",
            "  SCHEDULER_NAME: opt-1\n",
            "MODEL:\n",
            "  BUILDER: multiclassification_model_builder\n",
            "  MODEL_ARCH: MultiClassificationResnet\n",
            "  MODEL_BASE: resnet18\n",
            "  MODEL_KWARGS:\n",
            "    number_outputs: 3\n",
            "    outputs:\n",
            "    - label: type\n",
            "      name: type\n",
            "    - label: year\n",
            "      name: out2\n",
            "    - label: make\n",
            "      name: makeout\n",
            "  MODEL_NORMALIZATION: bn\n",
            "  PARAMETER_GROUPS:\n",
            "  - opt-1\n",
            "MODEL_PLUGIN: {}\n",
            "OPTIMIZER:\n",
            "- BASE_LR: 0.001\n",
            "  LR_BIAS_FACTOR: 1.0\n",
            "  OPTIMIZER: Adam\n",
            "  OPTIMIZER_KWARGS: {}\n",
            "  OPTIMIZER_NAME: opt-1\n",
            "  WEIGHT_BIAS_FACTOR: 0.0005\n",
            "  WEIGHT_DECAY: 0.0005\n",
            "SAVE:\n",
            "  CHECKPOINT_DIRECTORY: checkpoint\n",
            "  DRIVE_BACKUP: false\n",
            "  LOG_BACKUP: false\n",
            "  MODEL_BACKBONE: multiclass\n",
            "  MODEL_CORE_NAME: ConvertibleDatasetImgs\n",
            "  MODEL_QUALIFIER: year-type-make\n",
            "  MODEL_VERSION: 1\n",
            "  SAVE_FREQUENCY: 1\n",
            "  STEP_SAVE_FREQUENCY: 0\n",
            "SCHEDULER:\n",
            "- LR_KWARGS:\n",
            "    gamma: 0.1\n",
            "    step_size: 3\n",
            "  LR_SCHEDULER: StepLR\n",
            "  SCHEDULER_NAME: opt-1\n",
            "STORAGE:\n",
            "  STORAGE_ARGS: {}\n",
            "  TYPE: BaseStorage\n",
            "  URL: ./\n",
            "TEST_TRANSFORMATION:\n",
            "  ARGS:\n",
            "    channels: 3\n",
            "    i_shape:\n",
            "    - 200\n",
            "    - 200\n",
            "    normalization_mean: 0.5\n",
            "    normalization_scale: 0.5\n",
            "    normalization_std: 0.5\n",
            "  BATCH_SIZE: 32\n",
            "  WORKERS: 2\n",
            "TRAIN_TRANSFORMATION:\n",
            "  ARGS:\n",
            "    channels: 3\n",
            "    h_flip: 0.5\n",
            "    i_shape:\n",
            "    - 200\n",
            "    - 200\n",
            "    normalization_mean: 0.5\n",
            "    normalization_scale: 0.5\n",
            "    normalization_std: 0.5\n",
            "    random_erase: true\n",
            "    random_erase_value: 0.3\n",
            "    t_crop: true\n",
            "  BATCH_SIZE: 32\n",
            "  WORKERS: 2\n",
            "extensions:\n",
            "- EXECUTION\n",
            "- SAVE\n",
            "- STORAGE\n",
            "- TRANSFORMATION\n",
            "- MODEL\n",
            "- LOSS\n",
            "- OPTIMIZER\n",
            "- SCHEDULER\n",
            "- LOSS_OPTIMIZER\n",
            "- LOSS_SCHEDULER\n",
            "- LOGGING\n",
            "- DEPLOYMENT\n",
            "- MODEL_PLUGIN\n",
            "\n",
            "00:06:57 \n",
            "00:06:57 \n",
            "00:06:57 ****************************************\n",
            "00:06:57 No previous stop detected. Will start from epoch 0\n",
            "00:06:57 Loaded BaseStorage from ednaml.storage to build Storage\n",
            "00:06:57 Reading data with DataReader DataReader\n",
            "00:06:57 Default CRAWLER is <class 'ednaml.crawlers.Crawler'>\n",
            "00:06:57 Default DATASET is <class 'torch.utils.data.dataset.Dataset'>\n",
            "00:06:57 Default GENERATOR is <class 'ednaml.generators.ImageGenerator.ImageGenerator'>\n",
            "00:06:57 Updating GENERATOR using config specification to MultiClassificationGenerator\n",
            "00:06:57 Updating CRAWLER to CarZamCrawler\n",
            "00:06:57 Generated training data generator with 4392 training data points\n",
            "00:06:57 Running classification model with classes: {'year': {'classes': 11}, 'type': {'classes': 1}, 'make': {'classes': 14}}\n",
            "00:06:57 Generated test data/query generator\n",
            "00:06:57 Loaded multiclassification_model_builder from ednaml.models to build model\n",
            "00:06:57 Finished instantiating model with MultiClassificationResnet architecture\n",
            "00:06:57 Adding plugins after constructing model\n",
            "00:06:57 No saved model weights provided.\n",
            "00:06:57 Model Summary retured the following error:\n",
            "00:06:57 Traceback (most recent call last):\n",
            "  File \"/content/GLAMOR/src/ednaml/core/EdnaML.py\", line 888, in getModelSummary\n",
            "    self.cfg.TRAIN_TRANSFORMATION.INPUT_SIZE,\n",
            "AttributeError: 'TransformationConfig' object has no attribute 'INPUT_SIZE'\n",
            "\n",
            "00:06:57 Loaded ClassificationOptimizer from ednaml.optimizer to build Optimizer model\n",
            "00:06:57 Built optimizer\n",
            "00:06:57 Built scheduler\n",
            "00:06:57 Added SoftmaxLogitsLoss with lambda = 1.0 and loss arguments {}\n",
            "00:06:57 Added SoftmaxLogitsLoss with lambda = 1.0 and loss arguments {}\n",
            "00:06:57 Added SoftmaxLogitsLoss with lambda = 1.0 and loss arguments {}\n",
            "00:06:57 Built loss function\n",
            "00:06:57 Built loss optimizer\n",
            "00:06:57 Built loss scheduler\n",
            "00:06:57 Built loss scheduler\n",
            "00:06:57 Built loss scheduler\n",
            "00:06:57 Loaded BaseStorage from ednaml.storage to build Storage\n",
            "00:06:57 Loaded MultiClassificationTrainer from ednaml.trainer to build Trainer\n",
            "00:06:57 Saving model metadata\n",
            "00:06:57 Backing up metadata\n",
            "00:06:57 Finished metadata backup\n",
            "00:06:57 1 GPUs available\n"
          ]
        }
      ],
      "source": [
        "eml.apply()"
      ]
    },
    {
      "cell_type": "code",
      "execution_count": 27,
      "metadata": {
        "id": "hLchTC897TJr",
        "colab": {
          "base_uri": "https://localhost:8080/"
        },
        "outputId": "21f46c86-d606-4449-ac48-f09f7934e9a7"
      },
      "outputs": [
        {
          "output_type": "stream",
          "name": "stderr",
          "text": [
            "00:07:02 Starting training\n",
            "00:07:02 Logging to:\torigtoolimgs-v1-multiclass-color-vtype-make-logger.log\n",
            "00:07:02 Models will be saved to local directory:\torigtoolimgs-v1-multiclass-color-vtype-make\n",
            "00:07:02 Models will be saved with base name:\torigtoolimgs-v1_epoch[].pth\n",
            "00:07:02 Optimizers will be saved with base name:\torigtoolimgs-v1_epoch[]_optimizer.pth\n",
            "00:07:02 Schedulers will be saved with base name:\torigtoolimgs-v1_epoch[]_scheduler.pth\n",
            "00:07:02 Performing initial evaluation...\n",
            "00:07:57 Obtained features, validation in progress\n",
            "00:07:57 Metrics\tyearloss\ttypeloss\tmakeloss\n",
            "00:07:57 Accuracy\tyear: 0.064\ttype: 1.000\tmake: 0.065\n",
            "00:07:57 M F-Score\tyear: 0.064\ttype: 1.000\tmake: 0.065\n",
            "00:07:57 W F-Score\tyear: 0.056\ttype: 1.000\tmake: 0.009\n",
            "00:07:57 Starting training from 0\n",
            "00:08:01 Parameter Group `opt-1`: Starting epoch 0 with 130 steps and learning rate 1.00000E-03\n",
            "00:10:40 Epoch0.99\tTotal Avg Loss: 1.010 Softmax: 0.000\n",
            "00:11:41 ********** Completed epoch 0 **********\n",
            "00:11:41 Model evaluation triggered, but gradients still need accumulation. Will evaluate after accumulation.\n",
            "00:11:41 Model save triggered, but gradients still need accumulation. Will save after accumulation.\n",
            "00:11:44 Parameter Group `opt-1`: Starting epoch 1 with 130 steps and learning rate 1.00000E-03\n",
            "00:11:45 Evaluating model at test-frequency\n",
            "00:12:45 Obtained features, validation in progress\n",
            "00:12:45 Metrics\tyearloss\ttypeloss\tmakeloss\n",
            "00:12:45 Accuracy\tyear: 0.762\ttype: 1.000\tmake: 0.888\n",
            "00:12:45 M F-Score\tyear: 0.762\ttype: 1.000\tmake: 0.888\n",
            "00:12:45 W F-Score\tyear: 0.753\ttype: 1.000\tmake: 0.889\n",
            "00:12:45 Saving model at save-frequency, at epoch 0, step 0\n",
            "00:12:45 Saving model, optimizer, and scheduler.\n",
            "00:15:19 Epoch1.99\tTotal Avg Loss: 0.217 Softmax: 0.000\n",
            "00:16:19 ********** Completed epoch 1 **********\n",
            "00:16:19 Model evaluation triggered, but gradients still need accumulation. Will evaluate after accumulation.\n",
            "00:16:19 Model save triggered, but gradients still need accumulation. Will save after accumulation.\n",
            "00:16:23 Parameter Group `opt-1`: Starting epoch 2 with 130 steps and learning rate 1.00000E-03\n",
            "00:16:26 Evaluating model at test-frequency\n",
            "00:17:27 Obtained features, validation in progress\n",
            "00:17:27 Metrics\tyearloss\ttypeloss\tmakeloss\n",
            "00:17:27 Accuracy\tyear: 0.885\ttype: 1.000\tmake: 0.905\n",
            "00:17:27 M F-Score\tyear: 0.885\ttype: 1.000\tmake: 0.905\n",
            "00:17:27 W F-Score\tyear: 0.888\ttype: 1.000\tmake: 0.912\n",
            "00:17:27 Saving model at save-frequency, at epoch 1, step 0\n",
            "00:17:27 Saving model, optimizer, and scheduler.\n",
            "00:19:56 Epoch2.99\tTotal Avg Loss: 0.112 Softmax: 0.000\n",
            "00:20:55 ********** Completed epoch 2 **********\n",
            "00:20:55 Model evaluation triggered, but gradients still need accumulation. Will evaluate after accumulation.\n",
            "00:20:55 Model save triggered, but gradients still need accumulation. Will save after accumulation.\n",
            "00:20:58 Parameter Group `opt-1`: Starting epoch 3 with 130 steps and learning rate 1.00000E-04\n",
            "00:20:59 Evaluating model at test-frequency\n",
            "00:22:01 Obtained features, validation in progress\n",
            "00:22:01 Metrics\tyearloss\ttypeloss\tmakeloss\n",
            "00:22:01 Accuracy\tyear: 0.967\ttype: 1.000\tmake: 0.967\n",
            "00:22:01 M F-Score\tyear: 0.967\ttype: 1.000\tmake: 0.967\n",
            "00:22:01 W F-Score\tyear: 0.968\ttype: 1.000\tmake: 0.968\n",
            "00:22:01 Saving model at save-frequency, at epoch 2, step 0\n",
            "00:22:01 Saving model, optimizer, and scheduler.\n",
            "00:24:32 Epoch3.99\tTotal Avg Loss: 0.074 Softmax: 0.000\n",
            "00:25:32 ********** Completed epoch 3 **********\n",
            "00:25:32 Model evaluation triggered, but gradients still need accumulation. Will evaluate after accumulation.\n",
            "00:25:32 Model save triggered, but gradients still need accumulation. Will save after accumulation.\n",
            "00:25:35 Parameter Group `opt-1`: Starting epoch 4 with 130 steps and learning rate 1.00000E-04\n",
            "00:25:39 Evaluating model at test-frequency\n",
            "00:26:41 Obtained features, validation in progress\n",
            "00:26:41 Metrics\tyearloss\ttypeloss\tmakeloss\n",
            "00:26:41 Accuracy\tyear: 0.979\ttype: 1.000\tmake: 0.971\n",
            "00:26:41 M F-Score\tyear: 0.979\ttype: 1.000\tmake: 0.971\n",
            "00:26:41 W F-Score\tyear: 0.979\ttype: 1.000\tmake: 0.972\n",
            "00:26:41 Saving model at save-frequency, at epoch 3, step 0\n",
            "00:26:41 Saving model, optimizer, and scheduler.\n",
            "00:29:12 Epoch4.99\tTotal Avg Loss: 0.067 Softmax: 0.000\n",
            "00:30:11 ********** Completed epoch 4 **********\n",
            "00:30:11 Model evaluation triggered, but gradients still need accumulation. Will evaluate after accumulation.\n",
            "00:30:11 Model save triggered, but gradients still need accumulation. Will save after accumulation.\n",
            "00:30:14 Parameter Group `opt-1`: Starting epoch 5 with 130 steps and learning rate 1.00000E-04\n",
            "00:30:15 Evaluating model at test-frequency\n",
            "00:31:14 Obtained features, validation in progress\n",
            "00:31:14 Metrics\tyearloss\ttypeloss\tmakeloss\n",
            "00:31:14 Accuracy\tyear: 0.979\ttype: 1.000\tmake: 0.968\n",
            "00:31:14 M F-Score\tyear: 0.979\ttype: 1.000\tmake: 0.968\n",
            "00:31:14 W F-Score\tyear: 0.979\ttype: 1.000\tmake: 0.968\n",
            "00:31:14 Saving model at save-frequency, at epoch 4, step 0\n",
            "00:31:14 Saving model, optimizer, and scheduler.\n",
            "00:33:45 Epoch5.99\tTotal Avg Loss: 0.057 Softmax: 0.000\n",
            "00:34:47 ********** Completed epoch 5 **********\n",
            "00:34:47 Model evaluation triggered, but gradients still need accumulation. Will evaluate after accumulation.\n",
            "00:34:47 Model save triggered, but gradients still need accumulation. Will save after accumulation.\n",
            "00:34:50 Parameter Group `opt-1`: Starting epoch 6 with 130 steps and learning rate 1.00000E-05\n",
            "00:34:54 Evaluating model at test-frequency\n",
            "00:35:54 Obtained features, validation in progress\n",
            "00:35:54 Metrics\tyearloss\ttypeloss\tmakeloss\n",
            "00:35:54 Accuracy\tyear: 0.979\ttype: 1.000\tmake: 0.968\n",
            "00:35:54 M F-Score\tyear: 0.979\ttype: 1.000\tmake: 0.968\n",
            "00:35:54 W F-Score\tyear: 0.979\ttype: 1.000\tmake: 0.968\n",
            "00:35:54 Saving model at save-frequency, at epoch 5, step 0\n",
            "00:35:54 Saving model, optimizer, and scheduler.\n",
            "00:38:20 Epoch6.99\tTotal Avg Loss: 0.062 Softmax: 0.000\n",
            "00:39:21 ********** Completed epoch 6 **********\n",
            "00:39:21 Model evaluation triggered, but gradients still need accumulation. Will evaluate after accumulation.\n",
            "00:39:21 Model save triggered, but gradients still need accumulation. Will save after accumulation.\n",
            "00:39:25 Parameter Group `opt-1`: Starting epoch 7 with 130 steps and learning rate 1.00000E-05\n",
            "00:39:25 Evaluating model at test-frequency\n",
            "00:40:26 Obtained features, validation in progress\n",
            "00:40:26 Metrics\tyearloss\ttypeloss\tmakeloss\n",
            "00:40:26 Accuracy\tyear: 0.979\ttype: 1.000\tmake: 0.964\n",
            "00:40:26 M F-Score\tyear: 0.979\ttype: 1.000\tmake: 0.964\n",
            "00:40:26 W F-Score\tyear: 0.979\ttype: 1.000\tmake: 0.971\n",
            "00:40:26 Saving model at save-frequency, at epoch 6, step 0\n",
            "00:40:26 Saving model, optimizer, and scheduler.\n",
            "00:42:56 Epoch7.99\tTotal Avg Loss: 0.057 Softmax: 0.000\n",
            "00:43:56 ********** Completed epoch 7 **********\n",
            "00:43:56 Model evaluation triggered, but gradients still need accumulation. Will evaluate after accumulation.\n",
            "00:43:56 Model save triggered, but gradients still need accumulation. Will save after accumulation.\n",
            "00:43:59 Parameter Group `opt-1`: Starting epoch 8 with 130 steps and learning rate 1.00000E-05\n",
            "00:44:03 Evaluating model at test-frequency\n",
            "00:45:05 Obtained features, validation in progress\n",
            "00:45:05 Metrics\tyearloss\ttypeloss\tmakeloss\n",
            "00:45:05 Accuracy\tyear: 0.979\ttype: 1.000\tmake: 0.968\n",
            "00:45:05 M F-Score\tyear: 0.979\ttype: 1.000\tmake: 0.968\n",
            "00:45:05 W F-Score\tyear: 0.979\ttype: 1.000\tmake: 0.968\n",
            "00:45:05 Saving model at save-frequency, at epoch 7, step 0\n",
            "00:45:05 Saving model, optimizer, and scheduler.\n",
            "00:47:35 Epoch8.99\tTotal Avg Loss: 0.060 Softmax: 0.000\n",
            "00:48:35 ********** Completed epoch 8 **********\n",
            "00:48:35 Model evaluation triggered, but gradients still need accumulation. Will evaluate after accumulation.\n",
            "00:48:35 Model save triggered, but gradients still need accumulation. Will save after accumulation.\n",
            "00:48:38 Parameter Group `opt-1`: Starting epoch 9 with 130 steps and learning rate 1.00000E-06\n",
            "00:48:38 Evaluating model at test-frequency\n",
            "00:49:38 Obtained features, validation in progress\n",
            "00:49:38 Metrics\tyearloss\ttypeloss\tmakeloss\n",
            "00:49:38 Accuracy\tyear: 0.979\ttype: 1.000\tmake: 0.964\n",
            "00:49:38 M F-Score\tyear: 0.979\ttype: 1.000\tmake: 0.964\n",
            "00:49:38 W F-Score\tyear: 0.979\ttype: 1.000\tmake: 0.971\n",
            "00:49:38 Saving model at save-frequency, at epoch 8, step 0\n",
            "00:49:38 Saving model, optimizer, and scheduler.\n",
            "00:52:08 Epoch9.99\tTotal Avg Loss: 0.064 Softmax: 0.000\n",
            "00:53:09 ********** Completed epoch 9 **********\n",
            "00:53:09 Model evaluation triggered, but gradients still need accumulation. Will evaluate after accumulation.\n",
            "00:53:09 Model save triggered, but gradients still need accumulation. Will save after accumulation.\n",
            "00:53:13 Parameter Group `opt-1`: Starting epoch 10 with 130 steps and learning rate 1.00000E-06\n",
            "00:53:16 Evaluating model at test-frequency\n",
            "00:54:17 Obtained features, validation in progress\n",
            "00:54:17 Metrics\tyearloss\ttypeloss\tmakeloss\n",
            "00:54:17 Accuracy\tyear: 0.979\ttype: 1.000\tmake: 0.968\n",
            "00:54:17 M F-Score\tyear: 0.979\ttype: 1.000\tmake: 0.968\n",
            "00:54:17 W F-Score\tyear: 0.979\ttype: 1.000\tmake: 0.968\n",
            "00:54:17 Saving model at save-frequency, at epoch 9, step 0\n",
            "00:54:17 Saving model, optimizer, and scheduler.\n",
            "00:56:46 Epoch10.99\tTotal Avg Loss: 0.056 Softmax: 0.000\n",
            "00:57:45 ********** Completed epoch 10 **********\n",
            "00:57:45 Model evaluation triggered, but gradients still need accumulation. Will evaluate after accumulation.\n",
            "00:57:45 Model save triggered, but gradients still need accumulation. Will save after accumulation.\n",
            "00:57:45 Final: Evaluating model at test-frequency\n",
            "00:58:42 Obtained features, validation in progress\n",
            "00:58:42 Metrics\tyearloss\ttypeloss\tmakeloss\n",
            "00:58:42 Accuracy\tyear: 0.979\ttype: 1.000\tmake: 0.964\n",
            "00:58:42 M F-Score\tyear: 0.979\ttype: 1.000\tmake: 0.964\n",
            "00:58:42 W F-Score\tyear: 0.979\ttype: 1.000\tmake: 0.970\n",
            "00:58:42 Final: Saving model at save-frequency\n",
            "00:58:42 Saving model, optimizer, and scheduler.\n"
          ]
        }
      ],
      "source": [
        "eml.train()"
      ]
    },
    {
      "cell_type": "code",
      "execution_count": 28,
      "metadata": {
        "id": "W35-df3dOEil",
        "colab": {
          "base_uri": "https://localhost:8080/"
        },
        "outputId": "be3cba8f-fd57-4d50-94f7-190a3452116e"
      },
      "outputs": [
        {
          "output_type": "stream",
          "name": "stderr",
          "text": [
            "01:04:39 Obtained features, validation in progress\n",
            "01:04:39 Metrics\tyearloss\ttypeloss\tmakeloss\n",
            "01:04:39 Accuracy\tyear: 0.979\ttype: 1.000\tmake: 0.964\n",
            "01:04:39 M F-Score\tyear: 0.979\ttype: 1.000\tmake: 0.964\n",
            "01:04:39 W F-Score\tyear: 0.979\ttype: 1.000\tmake: 0.970\n"
          ]
        }
      ],
      "source": [
        "resp = eml.eval()"
      ]
    },
    {
      "cell_type": "markdown",
      "metadata": {
        "id": "AsUQYXSm_DkY"
      },
      "source": [
        "# 5. Multibranch classification\n",
        "\n",
        "Now we will try a model that uses multiple branches, each branch for a specific label, for classification. Then we will fuse the branches to classify one more things. So total, three classifications from a single model."
      ]
    },
    {
      "cell_type": "markdown",
      "metadata": {
        "id": "ctIWzhbu6wzY"
      },
      "source": [
        "## 5.1 Vehicle year and type, fused to classify vehicle make\n",
        "Now we will try a model that performs vehicle type AND vehicle color classification together, using 2 different branches, and fuses the results together for make classification. The config is already prepared for this in `profiles/multibranch-ctm.yml`\n",
        "\n",
        "Our architecture looks like:\n",
        "\n",
        "[<img src=\"https://i.redd.it/q0urublq4yx91.png\" width=\"550\"/>]\n",
        "\n",
        "Here, each branch yields its own prediction, and also sends features to the fusion branch (which is the make module in our case)"
      ]
    },
    {
      "cell_type": "code",
      "execution_count": 40,
      "metadata": {
        "id": "2SeUmdsX6wzY"
      },
      "outputs": [],
      "source": [
        "path_idx = 5          # Change this to whichever index in tuple has path\n",
        "crawler_args = {\n",
        "    \"log_level\": \"info\",\n",
        "    \"seed\": 21312411,\n",
        "    \"file_name\" : f\"/content/{DATASET.lower()}_images.zip\",\n",
        "    \"train_split_frac\": 0.8,\n",
        "    \"test_split_frac\": 0.1,\n",
        "    \"validation_split_frac\": 0.1\n",
        "}"
      ]
    },
    {
      "cell_type": "code",
      "execution_count": 41,
      "metadata": {
        "colab": {
          "base_uri": "https://localhost:8080/"
        },
        "id": "IJi0_kdH6wzZ",
        "outputId": "635644c1-59df-47fc-c7b2-1045309b031d"
      },
      "outputs": [
        {
          "output_type": "stream",
          "name": "stdout",
          "text": [
            "The autoreload extension is already loaded. To reload it, use:\n",
            "  %reload_ext autoreload\n"
          ]
        }
      ],
      "source": [
        "%load_ext autoreload\n",
        "%autoreload 2"
      ]
    },
    {
      "cell_type": "code",
      "execution_count": 66,
      "metadata": {
        "id": "bf8IEB3y6wzZ",
        "colab": {
          "base_uri": "https://localhost:8080/"
        },
        "outputId": "c42b3ad1-f90d-4113-e1d2-e041d3af5edb"
      },
      "outputs": [
        {
          "output_type": "stream",
          "name": "stdout",
          "text": [
            "Log file exists at origtoolimgs-v1-multibranch-color-vtype-make/origtoolimgs-v1-multibranch-color-vtype-make-logger.log. Will attempt to append there.\n"
          ]
        }
      ],
      "source": [
        "from ednaml.core import EdnaML\n",
        "from ednaml.generators import ClassificationGenerator\n",
        "\n",
        "eml = EdnaML(config = [\"./GLAMOR/profiles/CarZam/base_config_with_backup.yml\",\"./GLAMOR/profiles/CarZam/multibranch-ctm.yml\"])\n",
        "\n",
        "eml.cfg.SAVE.MODEL_CORE_NAME = f'{DATASET}DatasetImgs'\n",
        "eml.cfg.SAVE.MODEL_QUALIFIER = f'year-type-make'\n",
        "\n",
        "eml.cfg.EXECUTION.DATAREADER.CRAWLER_ARGS = crawler_args\n",
        "eml.cfg.EXECUTION.DATAREADER.DATASET_ARGS[\"pathidx\"] = path_idx\n",
        "eml.cfg.EXECUTION.DATAREADER.DATASET_ARGS[\"annotationidx\"] = [2, 0, 3]\n",
        "eml.cfg.EXECUTION.DATAREADER.DATASET_ARGS[\"classificationclass\"] = [\"year\", \"type\", \"make\"]\n",
        "\n",
        "eml.cfg.MODEL.MODEL_KWARGS = {\n",
        "    \"number_branches\": 2,\n",
        "    \"branches\": [\n",
        "      {\n",
        "          \"name\": \"yearbranch\",\n",
        "          \"number_outputs\": 1,\n",
        "          \"outputs\": [{\"dimensions\": None, \"name\": \"year-fc\", \"label\": \"year\"}]\n",
        "       \n",
        "      },\n",
        "      {\n",
        "          \"name\": \"typebranch\",\n",
        "          \"number_outputs\": 1,\n",
        "          \"outputs\": [{\"dimensions\": None, \"name\": \"type-fc\", \"label\": \"type\"}]\n",
        "      }\n",
        "    ],\n",
        "    \"fuse\": True,\n",
        "    \"fuse_outputs\": [\"yearbranch\", \"typebranch\"],\n",
        "    \"fuse_dimensions\": None,\n",
        "    \"fuse_label\": \"make\",\n",
        "    \"fuse_name\": \"fuse\",\n",
        "    \"shared_block\": 2,\n",
        "    \"soft_targets\": True,\n",
        "    \"soft_target_branch\": [\"yearbranch\", \"typebranch\"],\n",
        "    \"soft_target_output_source\": \"fuse\"\n",
        "}\n",
        "eml.cfg.LOSS[0].LABEL = \"year\"\n",
        "eml.cfg.LOSS[0].NAME = \"year-fc\"\n",
        "\n",
        "eml.cfg.LOSS[1].LABEL = \"type\"\n",
        "eml.cfg.LOSS[1].NAME = \"type-fc\"\n",
        "\n",
        "eml.cfg.LOSS[2].LABEL = \"make\"\n",
        "eml.cfg.LOSS[2].NAME = \"fuse\"\n",
        "\n",
        "eml.cfg.LOSS[3].LABEL = \"make\"\n",
        "eml.cfg.LOSS[3].NAME = \"yearbranch\"\n",
        "\n",
        "eml.cfg.LOSS[4].LABEL = \"make\"\n",
        "eml.cfg.LOSS[4].NAME = \"typebranch\"\n",
        "eml.addCrawlerClass(CarZamCrawler)"
      ]
    },
    {
      "cell_type": "code",
      "execution_count": 67,
      "metadata": {
        "colab": {
          "base_uri": "https://localhost:8080/"
        },
        "id": "Qzf2P3h26wzZ",
        "outputId": "7cebd645-75e2-498f-c2ea-b93516a78265"
      },
      "outputs": [
        {
          "output_type": "stream",
          "name": "stderr",
          "text": [
            "01:49:13 ****************************************\n",
            "01:49:13 \n",
            "01:49:13 \n",
            "01:49:13 Using the following configuration:\n",
            "01:49:13 DEPLOYMENT:\n",
            "  DATAREADER:\n",
            "    CRAWLER_ARGS: {}\n",
            "    DATAREADER: DataReader\n",
            "    DATASET_ARGS: {}\n",
            "    GENERATOR: null\n",
            "    GENERATOR_ARGS: {}\n",
            "  DEPLOY: BaseDeploy\n",
            "  DEPLOYMENT_ARGS: {}\n",
            "  EPOCHS: 1\n",
            "  OUTPUT_ARGS: {}\n",
            "  PLUGIN:\n",
            "    HOOKS: always\n",
            "    RESET: false\n",
            "EXECUTION:\n",
            "  DATAREADER:\n",
            "    CRAWLER_ARGS:\n",
            "      file_name: /content/convertible_images.zip\n",
            "      log_level: info\n",
            "      seed: 21312411\n",
            "      test_split_frac: 0.1\n",
            "      train_split_frac: 0.8\n",
            "      validation_split_frac: 0.1\n",
            "    DATAREADER: DataReader\n",
            "    DATASET_ARGS:\n",
            "      annotationidx:\n",
            "      - 2\n",
            "      - 0\n",
            "      - 3\n",
            "      classificationclass:\n",
            "      - year\n",
            "      - type\n",
            "      - make\n",
            "      pathidx: 5\n",
            "    GENERATOR: MultiClassificationGenerator\n",
            "    GENERATOR_ARGS: {}\n",
            "  EPOCHS: 10\n",
            "  FP16: false\n",
            "  MODEL_SERVING: Unused\n",
            "  OPTIMIZER_BUILDER: ClassificationOptimizer\n",
            "  PLUGIN:\n",
            "    HOOKS: always\n",
            "    RESET: false\n",
            "  SKIPEVAL: false\n",
            "  TEST_FREQUENCY: 1\n",
            "  TRAINER: MultiBranchTrainer\n",
            "  TRAINER_ARGS:\n",
            "    accumulation_steps: 4\n",
            "LOGGING:\n",
            "  INPUT_SIZE: null\n",
            "  STEP_VERBOSE: 100\n",
            "LOSS:\n",
            "- KWARGS:\n",
            "  - {}\n",
            "  LABEL: year\n",
            "  LAMBDAS:\n",
            "  - 1.0\n",
            "  LOSSES:\n",
            "  - SoftmaxLogitsLoss\n",
            "  NAME: year-fc\n",
            "- KWARGS:\n",
            "  - {}\n",
            "  LABEL: type\n",
            "  LAMBDAS:\n",
            "  - 1.0\n",
            "  LOSSES:\n",
            "  - SoftmaxLogitsLoss\n",
            "  NAME: type-fc\n",
            "- KWARGS:\n",
            "  - {}\n",
            "  LABEL: make\n",
            "  LAMBDAS:\n",
            "  - 1.0\n",
            "  LOSSES:\n",
            "  - SoftmaxLogitsLoss\n",
            "  NAME: fuse\n",
            "- KWARGS:\n",
            "  - {}\n",
            "  LABEL: make\n",
            "  LAMBDAS:\n",
            "  - 1.0\n",
            "  LOSSES:\n",
            "  - SoftmaxLogitsLoss\n",
            "  NAME: yearbranch\n",
            "- KWARGS:\n",
            "  - {}\n",
            "  LABEL: make\n",
            "  LAMBDAS:\n",
            "  - 1.0\n",
            "  LOSSES:\n",
            "  - SoftmaxLogitsLoss\n",
            "  NAME: typebranch\n",
            "LOSS_OPTIMIZER:\n",
            "- BASE_LR: 0.001\n",
            "  LR_BIAS_FACTOR: 1.0\n",
            "  OPTIMIZER: Adam\n",
            "  OPTIMIZER_KWARGS: {}\n",
            "  OPTIMIZER_NAME: opt-1\n",
            "  WEIGHT_BIAS_FACTOR: 0.0005\n",
            "  WEIGHT_DECAY: 0.0005\n",
            "LOSS_SCHEDULER:\n",
            "- LR_KWARGS:\n",
            "    step_size: 20\n",
            "  LR_SCHEDULER: StepLR\n",
            "  SCHEDULER_NAME: opt-1\n",
            "MODEL:\n",
            "  BUILDER: multibranch_model_builder\n",
            "  MODEL_ARCH: MultiBranchResnet\n",
            "  MODEL_BASE: resnet18\n",
            "  MODEL_KWARGS:\n",
            "    branches:\n",
            "    - name: yearbranch\n",
            "      number_outputs: 1\n",
            "      outputs:\n",
            "      - dimensions: null\n",
            "        label: year\n",
            "        name: year-fc\n",
            "    - name: typebranch\n",
            "      number_outputs: 1\n",
            "      outputs:\n",
            "      - dimensions: null\n",
            "        label: type\n",
            "        name: type-fc\n",
            "    fuse: true\n",
            "    fuse_dimensions: null\n",
            "    fuse_label: make\n",
            "    fuse_name: fuse\n",
            "    fuse_outputs:\n",
            "    - yearbranch\n",
            "    - typebranch\n",
            "    number_branches: 2\n",
            "    shared_block: 2\n",
            "    soft_target_branch:\n",
            "    - yearbranch\n",
            "    - typebranch\n",
            "    soft_target_output_source: fuse\n",
            "    soft_targets: true\n",
            "  MODEL_NORMALIZATION: bn\n",
            "  PARAMETER_GROUPS:\n",
            "  - opt-1\n",
            "MODEL_PLUGIN: {}\n",
            "OPTIMIZER:\n",
            "- BASE_LR: 0.001\n",
            "  LR_BIAS_FACTOR: 1.0\n",
            "  OPTIMIZER: Adam\n",
            "  OPTIMIZER_KWARGS: {}\n",
            "  OPTIMIZER_NAME: opt-1\n",
            "  WEIGHT_BIAS_FACTOR: 0.0005\n",
            "  WEIGHT_DECAY: 0.0005\n",
            "SAVE:\n",
            "  CHECKPOINT_DIRECTORY: checkpoint\n",
            "  DRIVE_BACKUP: false\n",
            "  LOG_BACKUP: false\n",
            "  MODEL_BACKBONE: multibranch\n",
            "  MODEL_CORE_NAME: ConvertibleDatasetImgs\n",
            "  MODEL_QUALIFIER: year-type-make\n",
            "  MODEL_VERSION: 1\n",
            "  SAVE_FREQUENCY: 1\n",
            "  STEP_SAVE_FREQUENCY: 0\n",
            "SCHEDULER:\n",
            "- LR_KWARGS:\n",
            "    gamma: 0.1\n",
            "    step_size: 3\n",
            "  LR_SCHEDULER: StepLR\n",
            "  SCHEDULER_NAME: opt-1\n",
            "STORAGE:\n",
            "  STORAGE_ARGS: {}\n",
            "  TYPE: BaseStorage\n",
            "  URL: ./\n",
            "TEST_TRANSFORMATION:\n",
            "  ARGS:\n",
            "    channels: 3\n",
            "    i_shape:\n",
            "    - 200\n",
            "    - 200\n",
            "    normalization_mean: 0.5\n",
            "    normalization_scale: 0.5\n",
            "    normalization_std: 0.5\n",
            "  BATCH_SIZE: 32\n",
            "  WORKERS: 2\n",
            "TRAIN_TRANSFORMATION:\n",
            "  ARGS:\n",
            "    channels: 3\n",
            "    h_flip: 0.5\n",
            "    i_shape:\n",
            "    - 200\n",
            "    - 200\n",
            "    normalization_mean: 0.5\n",
            "    normalization_scale: 0.5\n",
            "    normalization_std: 0.5\n",
            "    random_erase: true\n",
            "    random_erase_value: 0.3\n",
            "    t_crop: true\n",
            "  BATCH_SIZE: 32\n",
            "  WORKERS: 2\n",
            "extensions:\n",
            "- EXECUTION\n",
            "- SAVE\n",
            "- STORAGE\n",
            "- TRANSFORMATION\n",
            "- MODEL\n",
            "- LOSS\n",
            "- OPTIMIZER\n",
            "- SCHEDULER\n",
            "- LOSS_OPTIMIZER\n",
            "- LOSS_SCHEDULER\n",
            "- LOGGING\n",
            "- DEPLOYMENT\n",
            "- MODEL_PLUGIN\n",
            "\n",
            "01:49:13 \n",
            "01:49:13 \n",
            "01:49:13 ****************************************\n",
            "01:49:13 No previous stop detected. Will start from epoch 0\n",
            "01:49:13 Loaded BaseStorage from ednaml.storage to build Storage\n",
            "01:49:13 Reading data with DataReader DataReader\n",
            "01:49:13 Default CRAWLER is <class 'ednaml.crawlers.Crawler'>\n",
            "01:49:13 Default DATASET is <class 'torch.utils.data.dataset.Dataset'>\n",
            "01:49:13 Default GENERATOR is <class 'ednaml.generators.ImageGenerator.ImageGenerator'>\n",
            "01:49:13 Updating GENERATOR using config specification to MultiClassificationGenerator\n",
            "01:49:13 Updating CRAWLER to CarZamCrawler\n",
            "01:49:13 Generated training data generator with 4392 training data points\n",
            "01:49:13 Running classification model with classes: {'year': {'classes': 11}, 'type': {'classes': 1}, 'make': {'classes': 14}}\n",
            "01:49:13 Generated test data/query generator\n",
            "01:49:13 Loaded multibranch_model_builder from ednaml.models to build model\n",
            "01:49:13 Finished instantiating model with MultiBranchResnet architecture\n",
            "01:49:13 Adding plugins after constructing model\n",
            "01:49:13 No saved model weights provided.\n",
            "01:49:13 Model Summary retured the following error:\n",
            "01:49:13 Traceback (most recent call last):\n",
            "  File \"/content/GLAMOR/src/ednaml/core/EdnaML.py\", line 888, in getModelSummary\n",
            "    self.cfg.TRAIN_TRANSFORMATION.INPUT_SIZE,\n",
            "AttributeError: 'TransformationConfig' object has no attribute 'INPUT_SIZE'\n",
            "\n",
            "01:49:13 Loaded ClassificationOptimizer from ednaml.optimizer to build Optimizer model\n",
            "01:49:13 Built optimizer\n",
            "01:49:13 Built scheduler\n",
            "01:49:13 Added SoftmaxLogitsLoss with lambda = 1.0 and loss arguments {}\n",
            "01:49:13 Added SoftmaxLogitsLoss with lambda = 1.0 and loss arguments {}\n",
            "01:49:13 Added SoftmaxLogitsLoss with lambda = 1.0 and loss arguments {}\n",
            "01:49:13 Added SoftmaxLogitsLoss with lambda = 1.0 and loss arguments {}\n",
            "01:49:13 Added SoftmaxLogitsLoss with lambda = 1.0 and loss arguments {}\n",
            "01:49:13 Built loss function\n",
            "01:49:13 Built loss optimizer\n",
            "01:49:13 Built loss scheduler\n",
            "01:49:13 Built loss scheduler\n",
            "01:49:13 Built loss scheduler\n",
            "01:49:13 Built loss scheduler\n",
            "01:49:13 Built loss scheduler\n",
            "01:49:13 Loaded BaseStorage from ednaml.storage to build Storage\n",
            "01:49:13 Loaded MultiBranchTrainer from ednaml.trainer to build Trainer\n",
            "01:49:13 Saving model metadata\n",
            "01:49:13 Backing up metadata\n",
            "01:49:13 Finished metadata backup\n",
            "01:49:13 1 GPUs available\n"
          ]
        }
      ],
      "source": [
        "eml.apply()"
      ]
    },
    {
      "cell_type": "code",
      "execution_count": 68,
      "metadata": {
        "colab": {
          "base_uri": "https://localhost:8080/"
        },
        "id": "LN5jDtyG6wzZ",
        "outputId": "45944c9d-d36c-4ca4-9527-e18dd779a461"
      },
      "outputs": [
        {
          "output_type": "stream",
          "name": "stderr",
          "text": [
            "01:49:17 Starting training\n",
            "01:49:17 Logging to:\torigtoolimgs-v1-multibranch-color-vtype-make-logger.log\n",
            "01:49:17 Models will be saved to local directory:\torigtoolimgs-v1-multibranch-color-vtype-make\n",
            "01:49:17 Models will be saved with base name:\torigtoolimgs-v1_epoch[].pth\n",
            "01:49:17 Optimizers will be saved with base name:\torigtoolimgs-v1_epoch[]_optimizer.pth\n",
            "01:49:17 Schedulers will be saved with base name:\torigtoolimgs-v1_epoch[]_scheduler.pth\n",
            "01:49:17 Performing initial evaluation...\n",
            "01:50:13 Obtained features, validation in progress\n",
            "01:50:13 Metrics\tyear-fc\ttype-fc\tfuse\tyearbranch\ttypebranch\n",
            "01:50:13 Accuracy\tyear-fc: 0.086\ttype-fc: 1.000\tfuse: 0.046\tyearbranch: 0.024\ttypebranch: 0.027\n",
            "01:50:13 M F-Score\tyear-fc: 0.086\ttype-fc: 1.000\tfuse: 0.046\tyearbranch: 0.024\ttypebranch: 0.027\n",
            "01:50:13 W F-Score\tyear-fc: 0.046\ttype-fc: 1.000\tfuse: 0.042\tyearbranch: 0.005\ttypebranch: 0.021\n",
            "01:50:13 Starting training from 0\n",
            "01:50:17 Parameter Group `opt-1`: Starting epoch 0 with 130 steps and learning rate 1.00000E-03\n",
            "01:53:02 Epoch0.99\tTotal Avg Loss: 1.142 Softmax: 0.000\n",
            "01:54:04 ********** Completed epoch 0 **********\n",
            "01:54:04 Model evaluation triggered, but gradients still need accumulation. Will evaluate after accumulation.\n",
            "01:54:04 Model save triggered, but gradients still need accumulation. Will save after accumulation.\n",
            "01:54:08 Parameter Group `opt-1`: Starting epoch 1 with 130 steps and learning rate 1.00000E-03\n",
            "01:54:08 Evaluating model at test-frequency\n",
            "01:55:10 Obtained features, validation in progress\n",
            "01:55:10 Metrics\tyear-fc\ttype-fc\tfuse\tyearbranch\ttypebranch\n",
            "01:55:10 Accuracy\tyear-fc: 0.569\ttype-fc: 1.000\tfuse: 0.862\tyearbranch: 0.853\ttypebranch: 0.798\n",
            "01:55:10 M F-Score\tyear-fc: 0.569\ttype-fc: 1.000\tfuse: 0.862\tyearbranch: 0.853\ttypebranch: 0.798\n",
            "01:55:10 W F-Score\tyear-fc: 0.551\ttype-fc: 1.000\tfuse: 0.858\tyearbranch: 0.840\ttypebranch: 0.782\n",
            "01:55:10 Saving model at save-frequency, at epoch 0, step 0\n",
            "01:55:10 Saving model, optimizer, and scheduler.\n",
            "01:57:45 Epoch1.99\tTotal Avg Loss: 0.326 Softmax: 0.000\n",
            "01:58:46 ********** Completed epoch 1 **********\n",
            "01:58:46 Model evaluation triggered, but gradients still need accumulation. Will evaluate after accumulation.\n",
            "01:58:46 Model save triggered, but gradients still need accumulation. Will save after accumulation.\n",
            "01:58:50 Parameter Group `opt-1`: Starting epoch 2 with 130 steps and learning rate 1.00000E-03\n",
            "01:58:54 Evaluating model at test-frequency\n",
            "01:59:57 Obtained features, validation in progress\n",
            "01:59:57 Metrics\tyear-fc\ttype-fc\tfuse\tyearbranch\ttypebranch\n",
            "01:59:57 Accuracy\tyear-fc: 0.804\ttype-fc: 1.000\tfuse: 0.925\tyearbranch: 0.895\ttypebranch: 0.848\n",
            "01:59:57 M F-Score\tyear-fc: 0.804\ttype-fc: 1.000\tfuse: 0.925\tyearbranch: 0.895\ttypebranch: 0.848\n",
            "01:59:57 W F-Score\tyear-fc: 0.798\ttype-fc: 1.000\tfuse: 0.924\tyearbranch: 0.891\ttypebranch: 0.848\n",
            "01:59:57 Saving model at save-frequency, at epoch 1, step 0\n",
            "01:59:57 Saving model, optimizer, and scheduler.\n",
            "02:02:29 Epoch2.99\tTotal Avg Loss: 0.151 Softmax: 0.000\n",
            "02:03:31 ********** Completed epoch 2 **********\n",
            "02:03:31 Model evaluation triggered, but gradients still need accumulation. Will evaluate after accumulation.\n",
            "02:03:31 Model save triggered, but gradients still need accumulation. Will save after accumulation.\n",
            "02:03:34 Parameter Group `opt-1`: Starting epoch 3 with 130 steps and learning rate 1.00000E-04\n",
            "02:03:35 Evaluating model at test-frequency\n",
            "02:04:35 Obtained features, validation in progress\n",
            "02:04:35 Metrics\tyear-fc\ttype-fc\tfuse\tyearbranch\ttypebranch\n",
            "02:04:35 Accuracy\tyear-fc: 0.947\ttype-fc: 1.000\tfuse: 0.961\tyearbranch: 0.960\ttypebranch: 0.958\n",
            "02:04:35 M F-Score\tyear-fc: 0.947\ttype-fc: 1.000\tfuse: 0.961\tyearbranch: 0.960\ttypebranch: 0.958\n",
            "02:04:35 W F-Score\tyear-fc: 0.949\ttype-fc: 1.000\tfuse: 0.960\tyearbranch: 0.960\ttypebranch: 0.958\n",
            "02:04:35 Saving model at save-frequency, at epoch 2, step 0\n",
            "02:04:35 Saving model, optimizer, and scheduler.\n",
            "02:07:11 Epoch3.99\tTotal Avg Loss: 0.083 Softmax: 0.000\n",
            "02:08:10 ********** Completed epoch 3 **********\n",
            "02:08:10 Model evaluation triggered, but gradients still need accumulation. Will evaluate after accumulation.\n",
            "02:08:10 Model save triggered, but gradients still need accumulation. Will save after accumulation.\n",
            "02:08:14 Parameter Group `opt-1`: Starting epoch 4 with 130 steps and learning rate 1.00000E-04\n",
            "02:08:17 Evaluating model at test-frequency\n",
            "02:09:20 Obtained features, validation in progress\n",
            "02:09:20 Metrics\tyear-fc\ttype-fc\tfuse\tyearbranch\ttypebranch\n",
            "02:09:20 Accuracy\tyear-fc: 0.977\ttype-fc: 1.000\tfuse: 0.964\tyearbranch: 0.965\ttypebranch: 0.962\n",
            "02:09:20 M F-Score\tyear-fc: 0.977\ttype-fc: 1.000\tfuse: 0.964\tyearbranch: 0.965\ttypebranch: 0.962\n",
            "02:09:20 W F-Score\tyear-fc: 0.977\ttype-fc: 1.000\tfuse: 0.963\tyearbranch: 0.965\ttypebranch: 0.962\n",
            "02:09:20 Saving model at save-frequency, at epoch 3, step 0\n",
            "02:09:20 Saving model, optimizer, and scheduler.\n",
            "02:11:49 Epoch4.99\tTotal Avg Loss: 0.076 Softmax: 0.000\n",
            "02:12:51 ********** Completed epoch 4 **********\n",
            "02:12:51 Model evaluation triggered, but gradients still need accumulation. Will evaluate after accumulation.\n",
            "02:12:51 Model save triggered, but gradients still need accumulation. Will save after accumulation.\n",
            "02:12:55 Parameter Group `opt-1`: Starting epoch 5 with 130 steps and learning rate 1.00000E-04\n",
            "02:12:55 Evaluating model at test-frequency\n",
            "02:13:56 Obtained features, validation in progress\n",
            "02:13:56 Metrics\tyear-fc\ttype-fc\tfuse\tyearbranch\ttypebranch\n",
            "02:13:56 Accuracy\tyear-fc: 0.978\ttype-fc: 1.000\tfuse: 0.971\tyearbranch: 0.970\ttypebranch: 0.971\n",
            "02:13:56 M F-Score\tyear-fc: 0.978\ttype-fc: 1.000\tfuse: 0.971\tyearbranch: 0.970\ttypebranch: 0.971\n",
            "02:13:56 W F-Score\tyear-fc: 0.978\ttype-fc: 1.000\tfuse: 0.972\tyearbranch: 0.971\ttypebranch: 0.972\n",
            "02:13:56 Saving model at save-frequency, at epoch 4, step 0\n",
            "02:13:56 Saving model, optimizer, and scheduler.\n",
            "02:16:31 Epoch5.99\tTotal Avg Loss: 0.081 Softmax: 0.000\n",
            "02:17:31 ********** Completed epoch 5 **********\n",
            "02:17:31 Model evaluation triggered, but gradients still need accumulation. Will evaluate after accumulation.\n",
            "02:17:31 Model save triggered, but gradients still need accumulation. Will save after accumulation.\n",
            "02:17:34 Parameter Group `opt-1`: Starting epoch 6 with 130 steps and learning rate 1.00000E-05\n",
            "02:17:38 Evaluating model at test-frequency\n",
            "02:18:40 Obtained features, validation in progress\n",
            "02:18:40 Metrics\tyear-fc\ttype-fc\tfuse\tyearbranch\ttypebranch\n",
            "02:18:40 Accuracy\tyear-fc: 0.978\ttype-fc: 1.000\tfuse: 0.968\tyearbranch: 0.964\ttypebranch: 0.964\n",
            "02:18:40 M F-Score\tyear-fc: 0.978\ttype-fc: 1.000\tfuse: 0.968\tyearbranch: 0.964\ttypebranch: 0.964\n",
            "02:18:40 W F-Score\tyear-fc: 0.978\ttype-fc: 1.000\tfuse: 0.968\tyearbranch: 0.970\ttypebranch: 0.971\n",
            "02:18:40 Saving model at save-frequency, at epoch 5, step 0\n",
            "02:18:40 Saving model, optimizer, and scheduler.\n",
            "02:21:10 Epoch6.99\tTotal Avg Loss: 0.072 Softmax: 0.000\n",
            "02:22:12 ********** Completed epoch 6 **********\n",
            "02:22:12 Model evaluation triggered, but gradients still need accumulation. Will evaluate after accumulation.\n",
            "02:22:12 Model save triggered, but gradients still need accumulation. Will save after accumulation.\n",
            "02:22:16 Parameter Group `opt-1`: Starting epoch 7 with 130 steps and learning rate 1.00000E-05\n",
            "02:22:16 Evaluating model at test-frequency\n",
            "02:23:17 Obtained features, validation in progress\n",
            "02:23:17 Metrics\tyear-fc\ttype-fc\tfuse\tyearbranch\ttypebranch\n",
            "02:23:17 Accuracy\tyear-fc: 0.978\ttype-fc: 1.000\tfuse: 0.968\tyearbranch: 0.964\ttypebranch: 0.964\n",
            "02:23:17 M F-Score\tyear-fc: 0.978\ttype-fc: 1.000\tfuse: 0.968\tyearbranch: 0.964\ttypebranch: 0.964\n",
            "02:23:17 W F-Score\tyear-fc: 0.978\ttype-fc: 1.000\tfuse: 0.968\tyearbranch: 0.971\ttypebranch: 0.971\n",
            "02:23:17 Saving model at save-frequency, at epoch 6, step 0\n",
            "02:23:17 Saving model, optimizer, and scheduler.\n",
            "02:25:49 Epoch7.99\tTotal Avg Loss: 0.069 Softmax: 0.000\n",
            "02:26:49 ********** Completed epoch 7 **********\n",
            "02:26:49 Model evaluation triggered, but gradients still need accumulation. Will evaluate after accumulation.\n",
            "02:26:49 Model save triggered, but gradients still need accumulation. Will save after accumulation.\n",
            "02:26:52 Parameter Group `opt-1`: Starting epoch 8 with 130 steps and learning rate 1.00000E-05\n",
            "02:26:56 Evaluating model at test-frequency\n",
            "02:27:58 Obtained features, validation in progress\n",
            "02:27:58 Metrics\tyear-fc\ttype-fc\tfuse\tyearbranch\ttypebranch\n",
            "02:27:58 Accuracy\tyear-fc: 0.977\ttype-fc: 1.000\tfuse: 0.968\tyearbranch: 0.967\ttypebranch: 0.968\n",
            "02:27:58 M F-Score\tyear-fc: 0.977\ttype-fc: 1.000\tfuse: 0.968\tyearbranch: 0.967\ttypebranch: 0.968\n",
            "02:27:58 W F-Score\tyear-fc: 0.977\ttype-fc: 1.000\tfuse: 0.968\tyearbranch: 0.968\ttypebranch: 0.968\n",
            "02:27:58 Saving model at save-frequency, at epoch 7, step 0\n",
            "02:27:58 Saving model, optimizer, and scheduler.\n",
            "02:30:29 Epoch8.99\tTotal Avg Loss: 0.063 Softmax: 0.000\n",
            "02:31:31 ********** Completed epoch 8 **********\n",
            "02:31:31 Model evaluation triggered, but gradients still need accumulation. Will evaluate after accumulation.\n",
            "02:31:31 Model save triggered, but gradients still need accumulation. Will save after accumulation.\n",
            "02:31:34 Parameter Group `opt-1`: Starting epoch 9 with 130 steps and learning rate 1.00000E-06\n",
            "02:31:35 Evaluating model at test-frequency\n",
            "02:32:35 Obtained features, validation in progress\n",
            "02:32:35 Metrics\tyear-fc\ttype-fc\tfuse\tyearbranch\ttypebranch\n",
            "02:32:35 Accuracy\tyear-fc: 0.978\ttype-fc: 1.000\tfuse: 0.968\tyearbranch: 0.967\ttypebranch: 0.968\n",
            "02:32:35 M F-Score\tyear-fc: 0.978\ttype-fc: 1.000\tfuse: 0.968\tyearbranch: 0.967\ttypebranch: 0.968\n",
            "02:32:35 W F-Score\tyear-fc: 0.978\ttype-fc: 1.000\tfuse: 0.968\tyearbranch: 0.968\ttypebranch: 0.968\n",
            "02:32:35 Saving model at save-frequency, at epoch 8, step 0\n",
            "02:32:35 Saving model, optimizer, and scheduler.\n",
            "02:35:08 Epoch9.99\tTotal Avg Loss: 0.057 Softmax: 0.000\n",
            "02:36:09 ********** Completed epoch 9 **********\n",
            "02:36:09 Model evaluation triggered, but gradients still need accumulation. Will evaluate after accumulation.\n",
            "02:36:09 Model save triggered, but gradients still need accumulation. Will save after accumulation.\n",
            "02:36:12 Parameter Group `opt-1`: Starting epoch 10 with 130 steps and learning rate 1.00000E-06\n",
            "02:36:16 Evaluating model at test-frequency\n",
            "02:37:19 Obtained features, validation in progress\n",
            "02:37:19 Metrics\tyear-fc\ttype-fc\tfuse\tyearbranch\ttypebranch\n",
            "02:37:19 Accuracy\tyear-fc: 0.977\ttype-fc: 1.000\tfuse: 0.968\tyearbranch: 0.967\ttypebranch: 0.968\n",
            "02:37:19 M F-Score\tyear-fc: 0.977\ttype-fc: 1.000\tfuse: 0.968\tyearbranch: 0.967\ttypebranch: 0.968\n",
            "02:37:19 W F-Score\tyear-fc: 0.977\ttype-fc: 1.000\tfuse: 0.968\tyearbranch: 0.968\ttypebranch: 0.968\n",
            "02:37:19 Saving model at save-frequency, at epoch 9, step 0\n",
            "02:37:19 Saving model, optimizer, and scheduler.\n",
            "02:39:48 Epoch10.99\tTotal Avg Loss: 0.054 Softmax: 0.000\n",
            "02:40:48 ********** Completed epoch 10 **********\n",
            "02:40:48 Model evaluation triggered, but gradients still need accumulation. Will evaluate after accumulation.\n",
            "02:40:48 Model save triggered, but gradients still need accumulation. Will save after accumulation.\n",
            "02:40:48 Final: Evaluating model at test-frequency\n",
            "02:41:43 Obtained features, validation in progress\n",
            "02:41:43 Metrics\tyear-fc\ttype-fc\tfuse\tyearbranch\ttypebranch\n",
            "02:41:43 Accuracy\tyear-fc: 0.978\ttype-fc: 1.000\tfuse: 0.968\tyearbranch: 0.968\ttypebranch: 0.968\n",
            "02:41:43 M F-Score\tyear-fc: 0.978\ttype-fc: 1.000\tfuse: 0.968\tyearbranch: 0.968\ttypebranch: 0.968\n",
            "02:41:43 W F-Score\tyear-fc: 0.978\ttype-fc: 1.000\tfuse: 0.968\tyearbranch: 0.968\ttypebranch: 0.968\n",
            "02:41:43 Final: Saving model at save-frequency\n",
            "02:41:43 Saving model, optimizer, and scheduler.\n"
          ]
        }
      ],
      "source": [
        "eml.train()"
      ]
    },
    {
      "cell_type": "code",
      "execution_count": 69,
      "metadata": {
        "colab": {
          "base_uri": "https://localhost:8080/"
        },
        "id": "1TKOd-tGOBGY",
        "outputId": "b1099951-2a62-4f80-fe34-de9e1f603a2a"
      },
      "outputs": [
        {
          "output_type": "stream",
          "name": "stderr",
          "text": [
            "02:43:28 Obtained features, validation in progress\n",
            "02:43:28 Metrics\tyear-fc\ttype-fc\tfuse\tyearbranch\ttypebranch\n",
            "02:43:28 Accuracy\tyear-fc: 0.978\ttype-fc: 1.000\tfuse: 0.968\tyearbranch: 0.968\ttypebranch: 0.968\n",
            "02:43:28 M F-Score\tyear-fc: 0.978\ttype-fc: 1.000\tfuse: 0.968\tyearbranch: 0.968\ttypebranch: 0.968\n",
            "02:43:28 W F-Score\tyear-fc: 0.978\ttype-fc: 1.000\tfuse: 0.968\tyearbranch: 0.968\ttypebranch: 0.968\n"
          ]
        }
      ],
      "source": [
        "resp = eml.eval()"
      ]
    },
    {
      "cell_type": "code",
      "source": [
        "%ls\n"
      ],
      "metadata": {
        "colab": {
          "base_uri": "https://localhost:8080/"
        },
        "id": "G62E6inkmOru",
        "outputId": "dd50c68d-8711-4ad7-9402-b2de79dc1093"
      },
      "execution_count": null,
      "outputs": [
        {
          "output_type": "stream",
          "name": "stdout",
          "text": [
            "\u001b[0m\u001b[01;34mbin\u001b[0m/      \u001b[01;34mdev\u001b[0m/   \u001b[01;34mlib32\u001b[0m/  NGC-DL-CONTAINER-LICENSE  \u001b[01;34mroot\u001b[0m/  \u001b[01;34msys\u001b[0m/    \u001b[01;34musr\u001b[0m/\n",
            "\u001b[01;34mboot\u001b[0m/     \u001b[01;34metc\u001b[0m/   \u001b[01;34mlib64\u001b[0m/  \u001b[01;34mopt\u001b[0m/                      \u001b[01;34mrun\u001b[0m/   \u001b[30;42mtmp\u001b[0m/    \u001b[01;34mvar\u001b[0m/\n",
            "\u001b[01;34mcontent\u001b[0m/  \u001b[01;34mhome\u001b[0m/  \u001b[01;34mmedia\u001b[0m/  \u001b[01;34mproc\u001b[0m/                     \u001b[01;34msbin\u001b[0m/  \u001b[01;34mtools\u001b[0m/\n",
            "\u001b[01;34mdatalab\u001b[0m/  \u001b[01;34mlib\u001b[0m/   \u001b[01;34mmnt\u001b[0m/    \u001b[01;34mpython-apt\u001b[0m/               \u001b[01;34msrv\u001b[0m/   \u001b[01;34mUsers\u001b[0m/\n"
          ]
        }
      ]
    },
    {
      "cell_type": "code",
      "source": [
        "%ls"
      ],
      "metadata": {
        "colab": {
          "base_uri": "https://localhost:8080/"
        },
        "id": "3nYlqVRGoBv3",
        "outputId": "afa704ba-6c1d-4357-a32b-bad0fe684ecb"
      },
      "execution_count": null,
      "outputs": [
        {
          "output_type": "stream",
          "name": "stdout",
          "text": [
            "\u001b[0m\u001b[01;34mbin\u001b[0m/      \u001b[01;34mdev\u001b[0m/   \u001b[01;34mlib32\u001b[0m/  NGC-DL-CONTAINER-LICENSE  \u001b[01;34mroot\u001b[0m/  \u001b[01;34msys\u001b[0m/    \u001b[01;34musr\u001b[0m/\n",
            "\u001b[01;34mboot\u001b[0m/     \u001b[01;34metc\u001b[0m/   \u001b[01;34mlib64\u001b[0m/  \u001b[01;34mopt\u001b[0m/                      \u001b[01;34mrun\u001b[0m/   \u001b[30;42mtmp\u001b[0m/    \u001b[01;34mvar\u001b[0m/\n",
            "\u001b[01;34mcontent\u001b[0m/  \u001b[01;34mhome\u001b[0m/  \u001b[01;34mmedia\u001b[0m/  \u001b[01;34mproc\u001b[0m/                     \u001b[01;34msbin\u001b[0m/  \u001b[01;34mtools\u001b[0m/\n",
            "\u001b[01;34mdatalab\u001b[0m/  \u001b[01;34mlib\u001b[0m/   \u001b[01;34mmnt\u001b[0m/    \u001b[01;34mpython-apt\u001b[0m/               \u001b[01;34msrv\u001b[0m/   \u001b[01;34mUsers\u001b[0m/\n"
          ]
        }
      ]
    },
    {
      "cell_type": "code",
      "source": [
        "%cp -avr /content /content/drive/MyDrive/"
      ],
      "metadata": {
        "colab": {
          "base_uri": "https://localhost:8080/"
        },
        "id": "5K-5dAYwpTxY",
        "outputId": "5e7b16e6-7c61-4e3e-c946-2a5cc501bbce"
      },
      "execution_count": null,
      "outputs": [
        {
          "output_type": "stream",
          "name": "stdout",
          "text": [
            "cp: cannot create directory '/content/drive/MyDrive/': No such file or directory\n"
          ]
        }
      ]
    },
    {
      "cell_type": "code",
      "source": [
        "%cp -r \"/content/origtoolimgs-v1-singleclass-make\" \"/content/gdrive/MyDrive/Carzam\""
      ],
      "metadata": {
        "id": "YdVdVmKrq6cu"
      },
      "execution_count": null,
      "outputs": []
    },
    {
      "cell_type": "code",
      "source": [
        "%cp -r \"/content/origtoolimgs-v1-singleclass-year\" \"/content/gdrive/MyDrive/Carzam\""
      ],
      "metadata": {
        "id": "HHStMSzZyVfA"
      },
      "execution_count": null,
      "outputs": []
    },
    {
      "cell_type": "code",
      "source": [
        "%cd /drive\n"
      ],
      "metadata": {
        "colab": {
          "base_uri": "https://localhost:8080/"
        },
        "id": "AQQBnbmiss02",
        "outputId": "01b6d58e-9657-4083-8432-04fa015917c3"
      },
      "execution_count": null,
      "outputs": [
        {
          "output_type": "stream",
          "name": "stdout",
          "text": [
            "[Errno 2] No such file or directory: '/drive'\n",
            "/\n"
          ]
        }
      ]
    },
    {
      "cell_type": "code",
      "source": [
        "\n",
        "from google.colab import drive\n",
        "\n",
        "drive.mount('/content/gdrive/', force_remount=True)"
      ],
      "metadata": {
        "colab": {
          "base_uri": "https://localhost:8080/"
        },
        "id": "qo7vXlyzxbxF",
        "outputId": "f0c22184-2372-4bae-8603-16ccc4f4d68a"
      },
      "execution_count": null,
      "outputs": [
        {
          "output_type": "stream",
          "name": "stdout",
          "text": [
            "Mounted at /content/gdrive/\n"
          ]
        }
      ]
    },
    {
      "cell_type": "code",
      "source": [
        "%ls"
      ],
      "metadata": {
        "colab": {
          "base_uri": "https://localhost:8080/"
        },
        "id": "aFsKwCNiLBmM",
        "outputId": "ec0b5b86-db40-4934-f392-c6b17e3b70e3"
      },
      "execution_count": 37,
      "outputs": [
        {
          "output_type": "stream",
          "name": "stdout",
          "text": [
            "convertible_images.zip   \u001b[0m\u001b[01;34morigtoolimgs-v1-multiclass-color-vtype\u001b[0m/\n",
            "\u001b[01;34mdrive\u001b[0m/                   \u001b[01;34morigtoolimgs-v1-multiclass-color-vtype-make\u001b[0m/\n",
            "\u001b[01;34mGLAMOR\u001b[0m/                  resnet18-5c106cde.pth\n",
            "original_tool_image.zip  \u001b[01;34msample_data\u001b[0m/\n"
          ]
        }
      ]
    },
    {
      "cell_type": "code",
      "source": [
        "%cp -r \"/content/origtoolimgs-v1-multiclass-color-vtype\" \"/content/drive/MyDrive/Carzam\""
      ],
      "metadata": {
        "id": "6o4g2wqVLbso"
      },
      "execution_count": 38,
      "outputs": []
    },
    {
      "cell_type": "code",
      "source": [
        "%cp -r \"/content/origtoolimgs-v1-multiclass-color-vtype-make\" \"/content/drive/MyDrive/Carzam\""
      ],
      "metadata": {
        "id": "9_AoW25oLkVO"
      },
      "execution_count": 39,
      "outputs": []
    },
    {
      "cell_type": "code",
      "source": [
        "%cp -r \"/content/origtoolimgs-v1-multibranch-color-vtype-make\" \"/content/drive/MyDrive/Carzam\""
      ],
      "metadata": {
        "id": "uVpl6ejchTbC"
      },
      "execution_count": 70,
      "outputs": []
    },
    {
      "cell_type": "markdown",
      "source": [
        "# **Multibranch classification - combined dataset - make and year to get model**"
      ],
      "metadata": {
        "id": "Apfkrvbvw2Va"
      }
    },
    {
      "cell_type": "code",
      "source": [
        "path_idx = 5          # Change this to whichever index in tuple has path\n",
        "crawler_args = {\n",
        "    \"log_level\": \"info\",\n",
        "    \"seed\": 21312411,\n",
        "    \"file_name\" : f\"/content/{DATASET.lower()}_images.zip\",\n",
        "    \"train_split_frac\": 0.8,\n",
        "    \"test_split_frac\": 0.1,\n",
        "    \"validation_split_frac\": 0.1\n",
        "}"
      ],
      "metadata": {
        "id": "IzulX5Wcw0sg"
      },
      "execution_count": null,
      "outputs": []
    },
    {
      "cell_type": "code",
      "source": [
        "%load_ext autoreload\n",
        "%autoreload 2"
      ],
      "metadata": {
        "id": "80WD1NRrw1Gr"
      },
      "execution_count": null,
      "outputs": []
    },
    {
      "cell_type": "code",
      "source": [
        "from ednaml.core import EdnaML\n",
        "from ednaml.generators import ClassificationGenerator\n",
        "\n",
        "eml = EdnaML(config = [\"./GLAMOR/profiles/CarZam/base_config_with_backup.yml\",\"./GLAMOR/profiles/CarZam/multibranch-ctm.yml\"])\n",
        "\n",
        "eml.cfg.SAVE.MODEL_CORE_NAME = f'{DATASET}DatasetImgs'\n",
        "eml.cfg.SAVE.MODEL_QUALIFIER = f'year-type-make'\n",
        "\n",
        "eml.cfg.EXECUTION.DATAREADER.CRAWLER_ARGS = crawler_args\n",
        "eml.cfg.EXECUTION.DATAREADER.DATASET_ARGS[\"pathidx\"] = path_idx\n",
        "eml.cfg.EXECUTION.DATAREADER.DATASET_ARGS[\"annotationidx\"] = [2, 0, 3]\n",
        "eml.cfg.EXECUTION.DATAREADER.DATASET_ARGS[\"classificationclass\"] = [\"year\", \"type\", \"make\"]\n",
        "\n",
        "eml.cfg.MODEL.MODEL_KWARGS = {\n",
        "    \"number_branches\": 2,\n",
        "    \"branches\": [\n",
        "      {\n",
        "          \"name\": \"yearbranch\",\n",
        "          \"number_outputs\": 1,\n",
        "          \"outputs\": [{\"dimensions\": None, \"name\": \"year-fc\", \"label\": \"year\"}]\n",
        "       \n",
        "      },\n",
        "      {\n",
        "          \"name\": \"typebranch\",\n",
        "          \"number_outputs\": 1,\n",
        "          \"outputs\": [{\"dimensions\": None, \"name\": \"type-fc\", \"label\": \"type\"}]\n",
        "      }\n",
        "    ],\n",
        "    \"fuse\": True,\n",
        "    \"fuse_outputs\": [\"yearbranch\", \"typebranch\"],\n",
        "    \"fuse_dimensions\": None,\n",
        "    \"fuse_label\": \"make\",\n",
        "    \"fuse_name\": \"fuse\",\n",
        "    \"shared_block\": 2,\n",
        "    \"soft_targets\": True,\n",
        "    \"soft_target_branch\": [\"yearbranch\", \"typebranch\"],\n",
        "    \"soft_target_output_source\": \"fuse\"\n",
        "}\n",
        "eml.cfg.LOSS[0].LABEL = \"year\"\n",
        "eml.cfg.LOSS[0].NAME = \"year-fc\"\n",
        "\n",
        "eml.cfg.LOSS[1].LABEL = \"type\"\n",
        "eml.cfg.LOSS[1].NAME = \"type-fc\"\n",
        "\n",
        "eml.cfg.LOSS[2].LABEL = \"make\"\n",
        "eml.cfg.LOSS[2].NAME = \"fuse\"\n",
        "\n",
        "eml.cfg.LOSS[3].LABEL = \"make\"\n",
        "eml.cfg.LOSS[3].NAME = \"yearbranch\"\n",
        "\n",
        "eml.cfg.LOSS[4].LABEL = \"make\"\n",
        "eml.cfg.LOSS[4].NAME = \"typebranch\"\n",
        "eml.addCrawlerClass(CarZamCrawler)"
      ],
      "metadata": {
        "id": "wzli3FH8w1b5"
      },
      "execution_count": null,
      "outputs": []
    },
    {
      "cell_type": "code",
      "source": [
        "eml.apply()"
      ],
      "metadata": {
        "id": "q4KW-gUpw1zh"
      },
      "execution_count": null,
      "outputs": []
    },
    {
      "cell_type": "code",
      "source": [
        "eml.train()"
      ],
      "metadata": {
        "id": "wwNoER2QxZBG"
      },
      "execution_count": null,
      "outputs": []
    },
    {
      "cell_type": "code",
      "source": [
        "resp = eml.eval()"
      ],
      "metadata": {
        "id": "OA8MAPhBxZr0"
      },
      "execution_count": null,
      "outputs": []
    }
  ],
  "metadata": {
    "accelerator": "GPU",
    "colab": {
      "collapsed_sections": [
        "IIvMmyor1zCa",
        "oisq4kE8IMHi",
        "d5j3WfN0fpIT",
        "VcZQxeQmT9qf",
        "9PfHu-KZsQ9x",
        "l6_TufwByRmh",
        "XScfC4oALNFe"
      ],
      "provenance": []
    },
    "gpuClass": "standard",
    "kernelspec": {
      "display_name": "Python 3",
      "name": "python3"
    },
    "language_info": {
      "name": "python"
    }
  },
  "nbformat": 4,
  "nbformat_minor": 0
}