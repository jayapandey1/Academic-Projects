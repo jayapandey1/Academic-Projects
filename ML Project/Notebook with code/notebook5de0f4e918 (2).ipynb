{
  "metadata": {
    "kernelspec": {
      "language": "python",
      "display_name": "Python 3",
      "name": "python3"
    },
    "language_info": {
      "name": "python",
      "version": "3.7.12",
      "mimetype": "text/x-python",
      "codemirror_mode": {
        "name": "ipython",
        "version": 3
      },
      "pygments_lexer": "ipython3",
      "nbconvert_exporter": "python",
      "file_extension": ".py"
    },
    "colab": {
      "provenance": []
    }
  },
  "nbformat_minor": 0,
  "nbformat": 4,
  "cells": [
    {
      "cell_type": "markdown",
      "source": [
        "\n",
        "### [**Importing libraries and loading data**](#section-load)\n",
        "\n",
        "### [**Helper Functions**](#section-helper)\n",
        "\n",
        "### [**Data Cleaning and Preprocessing**](#section-cleaning)\n",
        "    \n",
        "### [**Feature Engineering and ML**](#section-features)\n",
        "\n",
        "### [**Explanations with SHAP values**](#section-explain)"
      ],
      "metadata": {
        "id": "gXgXivwun2ar"
      }
    },
    {
      "cell_type": "code",
      "source": [
        "# import libraries\n",
        "import numpy as np # linear algebra\n",
        "import pandas as pd # data processing, CSV file I/O (e.g. pd.read_csv)\n",
        "#import shap\n",
        "import matplotlib.pyplot as plt\n",
        "#from catboost import Pool, CatBoostRegressor\n",
        "from sklearn.metrics import mean_squared_error\n",
        "from sklearn.model_selection import train_test_split\n",
        "from sklearn.feature_extraction.text import CountVectorizer\n",
        "from sklearn.metrics import mean_squared_error\n",
        "from sklearn.dummy import DummyRegressor\n",
        "from sklearn.ensemble import GradientBoostingRegressor, RandomForestRegressor, HistGradientBoostingRegressor, AdaBoostRegressor\n",
        "from sklearn.tree import DecisionTreeRegressor\n",
        "\n",
        "from sklearn.feature_selection import RFECV\n",
        "from sklearn.decomposition import PCA\n",
        "\n",
        "import warnings \n",
        "warnings.filterwarnings(\"ignore\")\n",
        "\n",
        "pd.set_option('display.max_rows', 1000)\n",
        "df = pd.read_csv('/survey_results_public.csv')\n",
        "print(df.shape)"
      ],
      "metadata": {
        "execution": {
          "iopub.status.busy": "2022-12-06T18:03:44.231575Z",
          "iopub.execute_input": "2022-12-06T18:03:44.232025Z",
          "iopub.status.idle": "2022-12-06T18:03:50.313143Z",
          "shell.execute_reply.started": "2022-12-06T18:03:44.231987Z",
          "shell.execute_reply": "2022-12-06T18:03:50.311851Z"
        },
        "trusted": true,
        "colab": {
          "base_uri": "https://localhost:8080/",
          "height": 1000
        },
        "id": "kD9g2ilMn2au",
        "outputId": "2c2da33e-74ef-46cc-ecb1-3edf8b5400a7"
      },
      "execution_count": null,
      "outputs": [
        {
          "output_type": "error",
          "ename": "ParserError",
          "evalue": "ignored",
          "traceback": [
            "\u001b[0;31m---------------------------------------------------------------------------\u001b[0m",
            "\u001b[0;31mParserError\u001b[0m                               Traceback (most recent call last)",
            "\u001b[0;32m<ipython-input-6-df825fe99ec4>\u001b[0m in \u001b[0;36m<module>\u001b[0;34m\u001b[0m\n\u001b[1;32m     20\u001b[0m \u001b[0;34m\u001b[0m\u001b[0m\n\u001b[1;32m     21\u001b[0m \u001b[0mpd\u001b[0m\u001b[0;34m.\u001b[0m\u001b[0mset_option\u001b[0m\u001b[0;34m(\u001b[0m\u001b[0;34m'display.max_rows'\u001b[0m\u001b[0;34m,\u001b[0m \u001b[0;36m1000\u001b[0m\u001b[0;34m)\u001b[0m\u001b[0;34m\u001b[0m\u001b[0;34m\u001b[0m\u001b[0m\n\u001b[0;32m---> 22\u001b[0;31m \u001b[0mdf\u001b[0m \u001b[0;34m=\u001b[0m \u001b[0mpd\u001b[0m\u001b[0;34m.\u001b[0m\u001b[0mread_csv\u001b[0m\u001b[0;34m(\u001b[0m\u001b[0;34m'/survey_results_public.csv'\u001b[0m\u001b[0;34m)\u001b[0m\u001b[0;34m\u001b[0m\u001b[0;34m\u001b[0m\u001b[0m\n\u001b[0m\u001b[1;32m     23\u001b[0m \u001b[0mprint\u001b[0m\u001b[0;34m(\u001b[0m\u001b[0mdf\u001b[0m\u001b[0;34m.\u001b[0m\u001b[0mshape\u001b[0m\u001b[0;34m)\u001b[0m\u001b[0;34m\u001b[0m\u001b[0;34m\u001b[0m\u001b[0m\n",
            "\u001b[0;32m/usr/local/lib/python3.8/dist-packages/pandas/util/_decorators.py\u001b[0m in \u001b[0;36mwrapper\u001b[0;34m(*args, **kwargs)\u001b[0m\n\u001b[1;32m    309\u001b[0m                     \u001b[0mstacklevel\u001b[0m\u001b[0;34m=\u001b[0m\u001b[0mstacklevel\u001b[0m\u001b[0;34m,\u001b[0m\u001b[0;34m\u001b[0m\u001b[0;34m\u001b[0m\u001b[0m\n\u001b[1;32m    310\u001b[0m                 )\n\u001b[0;32m--> 311\u001b[0;31m             \u001b[0;32mreturn\u001b[0m \u001b[0mfunc\u001b[0m\u001b[0;34m(\u001b[0m\u001b[0;34m*\u001b[0m\u001b[0margs\u001b[0m\u001b[0;34m,\u001b[0m \u001b[0;34m**\u001b[0m\u001b[0mkwargs\u001b[0m\u001b[0;34m)\u001b[0m\u001b[0;34m\u001b[0m\u001b[0;34m\u001b[0m\u001b[0m\n\u001b[0m\u001b[1;32m    312\u001b[0m \u001b[0;34m\u001b[0m\u001b[0m\n\u001b[1;32m    313\u001b[0m         \u001b[0;32mreturn\u001b[0m \u001b[0mwrapper\u001b[0m\u001b[0;34m\u001b[0m\u001b[0;34m\u001b[0m\u001b[0m\n",
            "\u001b[0;32m/usr/local/lib/python3.8/dist-packages/pandas/io/parsers/readers.py\u001b[0m in \u001b[0;36mread_csv\u001b[0;34m(filepath_or_buffer, sep, delimiter, header, names, index_col, usecols, squeeze, prefix, mangle_dupe_cols, dtype, engine, converters, true_values, false_values, skipinitialspace, skiprows, skipfooter, nrows, na_values, keep_default_na, na_filter, verbose, skip_blank_lines, parse_dates, infer_datetime_format, keep_date_col, date_parser, dayfirst, cache_dates, iterator, chunksize, compression, thousands, decimal, lineterminator, quotechar, quoting, doublequote, escapechar, comment, encoding, encoding_errors, dialect, error_bad_lines, warn_bad_lines, on_bad_lines, delim_whitespace, low_memory, memory_map, float_precision, storage_options)\u001b[0m\n\u001b[1;32m    584\u001b[0m     \u001b[0mkwds\u001b[0m\u001b[0;34m.\u001b[0m\u001b[0mupdate\u001b[0m\u001b[0;34m(\u001b[0m\u001b[0mkwds_defaults\u001b[0m\u001b[0;34m)\u001b[0m\u001b[0;34m\u001b[0m\u001b[0;34m\u001b[0m\u001b[0m\n\u001b[1;32m    585\u001b[0m \u001b[0;34m\u001b[0m\u001b[0m\n\u001b[0;32m--> 586\u001b[0;31m     \u001b[0;32mreturn\u001b[0m \u001b[0m_read\u001b[0m\u001b[0;34m(\u001b[0m\u001b[0mfilepath_or_buffer\u001b[0m\u001b[0;34m,\u001b[0m \u001b[0mkwds\u001b[0m\u001b[0;34m)\u001b[0m\u001b[0;34m\u001b[0m\u001b[0;34m\u001b[0m\u001b[0m\n\u001b[0m\u001b[1;32m    587\u001b[0m \u001b[0;34m\u001b[0m\u001b[0m\n\u001b[1;32m    588\u001b[0m \u001b[0;34m\u001b[0m\u001b[0m\n",
            "\u001b[0;32m/usr/local/lib/python3.8/dist-packages/pandas/io/parsers/readers.py\u001b[0m in \u001b[0;36m_read\u001b[0;34m(filepath_or_buffer, kwds)\u001b[0m\n\u001b[1;32m    486\u001b[0m \u001b[0;34m\u001b[0m\u001b[0m\n\u001b[1;32m    487\u001b[0m     \u001b[0;32mwith\u001b[0m \u001b[0mparser\u001b[0m\u001b[0;34m:\u001b[0m\u001b[0;34m\u001b[0m\u001b[0;34m\u001b[0m\u001b[0m\n\u001b[0;32m--> 488\u001b[0;31m         \u001b[0;32mreturn\u001b[0m \u001b[0mparser\u001b[0m\u001b[0;34m.\u001b[0m\u001b[0mread\u001b[0m\u001b[0;34m(\u001b[0m\u001b[0mnrows\u001b[0m\u001b[0;34m)\u001b[0m\u001b[0;34m\u001b[0m\u001b[0;34m\u001b[0m\u001b[0m\n\u001b[0m\u001b[1;32m    489\u001b[0m \u001b[0;34m\u001b[0m\u001b[0m\n\u001b[1;32m    490\u001b[0m \u001b[0;34m\u001b[0m\u001b[0m\n",
            "\u001b[0;32m/usr/local/lib/python3.8/dist-packages/pandas/io/parsers/readers.py\u001b[0m in \u001b[0;36mread\u001b[0;34m(self, nrows)\u001b[0m\n\u001b[1;32m   1045\u001b[0m     \u001b[0;32mdef\u001b[0m \u001b[0mread\u001b[0m\u001b[0;34m(\u001b[0m\u001b[0mself\u001b[0m\u001b[0;34m,\u001b[0m \u001b[0mnrows\u001b[0m\u001b[0;34m=\u001b[0m\u001b[0;32mNone\u001b[0m\u001b[0;34m)\u001b[0m\u001b[0;34m:\u001b[0m\u001b[0;34m\u001b[0m\u001b[0;34m\u001b[0m\u001b[0m\n\u001b[1;32m   1046\u001b[0m         \u001b[0mnrows\u001b[0m \u001b[0;34m=\u001b[0m \u001b[0mvalidate_integer\u001b[0m\u001b[0;34m(\u001b[0m\u001b[0;34m\"nrows\"\u001b[0m\u001b[0;34m,\u001b[0m \u001b[0mnrows\u001b[0m\u001b[0;34m)\u001b[0m\u001b[0;34m\u001b[0m\u001b[0;34m\u001b[0m\u001b[0m\n\u001b[0;32m-> 1047\u001b[0;31m         \u001b[0mindex\u001b[0m\u001b[0;34m,\u001b[0m \u001b[0mcolumns\u001b[0m\u001b[0;34m,\u001b[0m \u001b[0mcol_dict\u001b[0m \u001b[0;34m=\u001b[0m \u001b[0mself\u001b[0m\u001b[0;34m.\u001b[0m\u001b[0m_engine\u001b[0m\u001b[0;34m.\u001b[0m\u001b[0mread\u001b[0m\u001b[0;34m(\u001b[0m\u001b[0mnrows\u001b[0m\u001b[0;34m)\u001b[0m\u001b[0;34m\u001b[0m\u001b[0;34m\u001b[0m\u001b[0m\n\u001b[0m\u001b[1;32m   1048\u001b[0m \u001b[0;34m\u001b[0m\u001b[0m\n\u001b[1;32m   1049\u001b[0m         \u001b[0;32mif\u001b[0m \u001b[0mindex\u001b[0m \u001b[0;32mis\u001b[0m \u001b[0;32mNone\u001b[0m\u001b[0;34m:\u001b[0m\u001b[0;34m\u001b[0m\u001b[0;34m\u001b[0m\u001b[0m\n",
            "\u001b[0;32m/usr/local/lib/python3.8/dist-packages/pandas/io/parsers/c_parser_wrapper.py\u001b[0m in \u001b[0;36mread\u001b[0;34m(self, nrows)\u001b[0m\n\u001b[1;32m    222\u001b[0m         \u001b[0;32mtry\u001b[0m\u001b[0;34m:\u001b[0m\u001b[0;34m\u001b[0m\u001b[0;34m\u001b[0m\u001b[0m\n\u001b[1;32m    223\u001b[0m             \u001b[0;32mif\u001b[0m \u001b[0mself\u001b[0m\u001b[0;34m.\u001b[0m\u001b[0mlow_memory\u001b[0m\u001b[0;34m:\u001b[0m\u001b[0;34m\u001b[0m\u001b[0;34m\u001b[0m\u001b[0m\n\u001b[0;32m--> 224\u001b[0;31m                 \u001b[0mchunks\u001b[0m \u001b[0;34m=\u001b[0m \u001b[0mself\u001b[0m\u001b[0;34m.\u001b[0m\u001b[0m_reader\u001b[0m\u001b[0;34m.\u001b[0m\u001b[0mread_low_memory\u001b[0m\u001b[0;34m(\u001b[0m\u001b[0mnrows\u001b[0m\u001b[0;34m)\u001b[0m\u001b[0;34m\u001b[0m\u001b[0;34m\u001b[0m\u001b[0m\n\u001b[0m\u001b[1;32m    225\u001b[0m                 \u001b[0;31m# destructive to chunks\u001b[0m\u001b[0;34m\u001b[0m\u001b[0;34m\u001b[0m\u001b[0;34m\u001b[0m\u001b[0m\n\u001b[1;32m    226\u001b[0m                 \u001b[0mdata\u001b[0m \u001b[0;34m=\u001b[0m \u001b[0m_concatenate_chunks\u001b[0m\u001b[0;34m(\u001b[0m\u001b[0mchunks\u001b[0m\u001b[0;34m)\u001b[0m\u001b[0;34m\u001b[0m\u001b[0;34m\u001b[0m\u001b[0m\n",
            "\u001b[0;32m/usr/local/lib/python3.8/dist-packages/pandas/_libs/parsers.pyx\u001b[0m in \u001b[0;36mpandas._libs.parsers.TextReader.read_low_memory\u001b[0;34m()\u001b[0m\n",
            "\u001b[0;32m/usr/local/lib/python3.8/dist-packages/pandas/_libs/parsers.pyx\u001b[0m in \u001b[0;36mpandas._libs.parsers.TextReader._read_rows\u001b[0;34m()\u001b[0m\n",
            "\u001b[0;32m/usr/local/lib/python3.8/dist-packages/pandas/_libs/parsers.pyx\u001b[0m in \u001b[0;36mpandas._libs.parsers.TextReader._tokenize_rows\u001b[0;34m()\u001b[0m\n",
            "\u001b[0;32m/usr/local/lib/python3.8/dist-packages/pandas/_libs/parsers.pyx\u001b[0m in \u001b[0;36mpandas._libs.parsers.raise_parser_error\u001b[0;34m()\u001b[0m\n",
            "\u001b[0;31mParserError\u001b[0m: Error tokenizing data. C error: Expected 79 fields in line 728, saw 145\n"
          ]
        }
      ]
    },
    {
      "cell_type": "markdown",
      "source": [
        "# Helper Functions\n",
        "<a id=\"section-helper\" ></a>"
      ],
      "metadata": {
        "id": "hqcyjZd0n2av"
      }
    },
    {
      "cell_type": "code",
      "source": [
        "# wrapper to run train, test and evaluate \n",
        "def train_test_eval(estimator, X=None, y=None, metric=None, **kwargs):\n",
        "    X_train, X_test, y_train, y_test = train_test_split(X, y, test_size=0.4, random_state=0)\n",
        "    estimator.fit(X_train, y_train)\n",
        "    y_train_pred = estimator.predict(X_train)\n",
        "    y_test_pred = estimator.predict(X_test)\n",
        "    train_err = metric(y_train_pred, y_train)\n",
        "    test_err = metric(y_test_pred, y_test, **kwargs.get('metric_args', None))\n",
        "#     print(f'train_err: {train_err}, test_err: {test_err}')\n",
        "    return train_err, test_err\n",
        "\n",
        "\n",
        "# Wrapper to encode all the object-typed df[col] into one-hot-encoded columns\n",
        "def encode_and_bind(original_dataframe, feature_to_encode):\n",
        "    dummies = pd.get_dummies(original_dataframe[[feature_to_encode]], prefix=[feature_to_encode])\n",
        "    res = pd.concat([original_dataframe, dummies], axis=1)\n",
        "    res = res.drop([feature_to_encode], axis=1)\n",
        "    return(res)"
      ],
      "metadata": {
        "execution": {
          "iopub.status.busy": "2022-12-06T18:03:50.317764Z",
          "iopub.execute_input": "2022-12-06T18:03:50.318153Z",
          "iopub.status.idle": "2022-12-06T18:03:50.331787Z",
          "shell.execute_reply.started": "2022-12-06T18:03:50.318106Z",
          "shell.execute_reply": "2022-12-06T18:03:50.330547Z"
        },
        "trusted": true,
        "id": "EQSLM6A0n2aw"
      },
      "execution_count": null,
      "outputs": []
    },
    {
      "cell_type": "markdown",
      "source": [
        "<a id=\"section-cleaning\"></a>\n",
        "# Cleaning and Preprocessing data\n",
        "\n",
        "- Handle nulls\n",
        "- Rename columns\n",
        "- Convert categorical to one-hot encoding\n",
        "- Handle outliers"
      ],
      "metadata": {
        "id": "vlAJort_n2aw"
      }
    },
    {
      "cell_type": "code",
      "source": [
        "df = df[~df['DevType'].fillna('none').str.contains(';')]\n",
        "df = df.dropna(subset=['DevType', 'ConvertedCompYearly'],axis=0)\n",
        "df.sample(5).T\n",
        "\n",
        "\n",
        "cols2drop = ['ResponseId', 'Currency', 'CompTotal', 'CompFreq', 'NEWSOSites', 'Trans', 'Sexuality', 'Ethnicity', 'Accessibility', 'MentalHealth', \n",
        "             'Knowledge_1', 'Knowledge_2', 'Knowledge_3', 'Knowledge_4', 'Knowledge_5', 'Knowledge_6', 'Knowledge_7', 'Frequency_1',\n",
        "             'Frequency_2', 'Frequency_3', 'TrueFalse_1', 'TrueFalse_2', 'TrueFalse_3', 'PurchaseInfluence', 'BuyNewTool', \n",
        "             'LanguageWantToWorkWith', 'DatabaseWantToWorkWith', 'PlatformWantToWorkWith', \n",
        "             'WebframeWantToWorkWith', 'MiscTechWantToWorkWith', 'ToolsTechWantToWorkWith',\n",
        "             'NEWCollabToolsWantToWorkWith', 'OpSysPersonal use', 'VersionControlSystem',\n",
        "             'VCInteraction', 'OfficeStackAsyncWantToWorkWith', 'OfficeStackSyncWantToWorkWith', 'Blockchain', \n",
        "             'SOVisitFreq', 'SOAccount', 'SOPartFreq', 'SOComm', 'TimeSearching', 'TimeAnswering', \n",
        "             'Onboarding', 'ProfessionalTech', 'SurveyLength', 'SurveyEase']\n",
        "df = df.drop(cols2drop, axis=1)\n",
        "print(df.shape)\n",
        "# Convert compensations into kUSD/year\n",
        "df['ConvertedCompYearly'] = round(df['ConvertedCompYearly']*1e-3,1)\n",
        "print(df.shape)\n",
        "# Exclude columns with non-unique values\n",
        "df = df[df.columns[df.nunique() > 1]]\n",
        "\n",
        "#df = df[df['DevType']=='Data scientist or machine learning specialist']\n",
        "df.reset_index(drop=True, inplace=True)\n",
        "\n",
        "# Preprocess MainBranch column\n",
        "mb_dict = {'I am a developer by profession': 'Developer', \n",
        "           'I am not primarily a developer, but I write code sometimes as part of my work': 'Other'\n",
        "          }\n",
        "df['MainBranch'] = df['MainBranch'].replace(mb_dict)\n",
        "\n",
        "# Preprocess Employment column\n",
        "empl_dict = {'Employed, full-time': 'Fulltime', \n",
        "             'Independent contractor, freelancer, or self-employed': 'Freelancer',\n",
        "             'Employed, part-time': 'Parttime',\n",
        "             'Retired': 'Retired'}\n",
        "ll = df['Employment'].str.split(';').to_list()\n",
        "ll = [' '.join([empl_dict[i] for i in item]) for item in ll]\n",
        "vectorizer = CountVectorizer(lowercase=False)\n",
        "vectorizer.fit(ll)\n",
        "voc = vectorizer.vocabulary_\n",
        "voc_inv = {v: 'Employment_'+k for k, v in voc.items()}\n",
        "vector = vectorizer.transform(ll)\n",
        "tt = pd.DataFrame(vector.toarray())\n",
        "tt = tt.rename(columns=voc_inv)\n",
        "df = pd.concat([df,tt], axis=1).drop(['Employment'], axis=1)\n",
        "\n",
        "# Preprocess RemoteWork column\n",
        "rw_dict = {'Fully remote': 'Remote', \n",
        "           'Hybrid (some remote, some in-person)': 'Hybrid',\n",
        "           'Full in-person': 'Office'\n",
        "          }\n",
        "df['RemoteWork'] = df['RemoteWork'].replace(rw_dict)\n",
        "\n",
        "# Preprocess CodingActivities column\n",
        "df['NoCodingOutsideWork'] = df['CodingActivities'].fillna('none').str.contains(\"code outside of work\").astype(int)\n",
        "df = df.drop(['CodingActivities'], axis=1)\n",
        "\n",
        "# Preprocess EdLevel column\n",
        "edlevel_dict = {\"Bachelor’s degree (B.A., B.S., B.Eng., etc.)\": \"BSc\", \n",
        "                \"Master’s degree (M.A., M.S., M.Eng., MBA, etc.)\": \"MSc\", \n",
        "                \"Other doctoral degree (Ph.D., Ed.D., etc.)\": \"Doctoral\",\n",
        "                \"Professional degree (JD, MD, etc.)\": \"Doctoral\"}\n",
        "ed_vc = df['EdLevel'].fillna('none').value_counts()\n",
        "for idx, val in zip(ed_vc.index, ed_vc.values):\n",
        "    if idx not in edlevel_dict:\n",
        "        edlevel_dict[idx] = \"Other\"\n",
        "df['EdLevel'] = df['EdLevel'].replace(edlevel_dict)\n",
        "\n",
        "# Preprocess LearnCode column\n",
        "lc_dict = {'School (i.e., University, College, etc)': 'School', \n",
        "             'Books / Physical media': 'Books',\n",
        "             'Other online resources (e.g., videos, blogs, forum)': 'OtherOnline',\n",
        "             'On the job training': 'JobTraining',\n",
        "             'Online Courses or Certification': 'OnlineCourses',\n",
        "             'Coding Bootcamp': 'Bootcamp',\n",
        "             'Colleague': 'Colleague',\n",
        "             'Other (please specify):': 'Other',\n",
        "             'Friend or family member': 'Friend',\n",
        "             'Hackathons (virtual or in-person)': 'Hackathons'}\n",
        "ll = df['LearnCode'].fillna('none').str.split(';').to_list()\n",
        "ll1 = []\n",
        "for item in ll:\n",
        "    if item != ['none']:\n",
        "        ttt = ' '.join([lc_dict[i] for i in item])\n",
        "    else:\n",
        "        ttt = 'none'\n",
        "    ll1.append(ttt)\n",
        "vectorizer = CountVectorizer(lowercase=False)\n",
        "vectorizer.fit(ll1)\n",
        "voc = vectorizer.vocabulary_\n",
        "voc_inv = {v: 'LearnCode_'+k for k, v in voc.items()}\n",
        "vector = vectorizer.transform(ll1)\n",
        "tt = pd.DataFrame(vector.toarray())\n",
        "tt = tt.rename(columns=voc_inv)\n",
        "df = pd.concat([df,tt], axis=1).drop(['LearnCode'], axis=1)\n",
        "\n",
        "# Preprocess LearnCodeOnline column\n",
        "lco_dict = {'Technical documentation': 'Documentation', \n",
        "             'Written Tutorials': 'Tutorials',\n",
        "             'Stack Overflow': 'StackOverflow',\n",
        "             'Online forum': 'OnlineForum',\n",
        "             'Online books': 'OnlineBooks',\n",
        "             'How-to videos': 'HowtoVideos',\n",
        "             'Video-based Online Courses': 'VideoOnlineCourses',\n",
        "             'Written-based Online Courses': 'WrittenOnlineCourses',\n",
        "             'Auditory material (e.g., podcasts)': 'Podcasts',\n",
        "             'Interactive tutorial': 'InteractiveTutorial',\n",
        "             'Coding sessions (live or recorded)': 'CodingSessions',\n",
        "             'Blogs': 'Blogs',\n",
        "             'Programming Games': 'ProgrammingGames',\n",
        "             'Online challenges (e.g., daily or weekly coding challenges)': 'CodingChallenges',\n",
        "             'Certification videos': 'CertificationVideos',\n",
        "             'Other (Please specify):': 'Other'}\n",
        "ll = df['LearnCodeOnline'].fillna('none').str.split(';').to_list()\n",
        "ll1 = []\n",
        "for item in ll:\n",
        "    if item != ['none']:\n",
        "        ttt = ' '.join([lco_dict[i] for i in item])\n",
        "    else:\n",
        "        ttt = 'none'\n",
        "    ll1.append(ttt)\n",
        "vectorizer = CountVectorizer(lowercase=False)\n",
        "vectorizer.fit(ll1)\n",
        "voc = vectorizer.vocabulary_\n",
        "voc_inv = {v: 'LearnCodeOnline_'+k for k, v in voc.items()}\n",
        "vector = vectorizer.transform(ll1)\n",
        "tt = pd.DataFrame(vector.toarray())\n",
        "tt = tt.rename(columns=voc_inv)\n",
        "df = pd.concat([df,tt], axis=1).drop(['LearnCodeOnline'], axis=1)\n",
        "\n",
        "# Preprocess LearnCodeCoursesCert column\n",
        "ll = df['LearnCodeCoursesCert'].fillna('none').str.split(';').to_list()\n",
        "ll1 = []\n",
        "for item in ll:\n",
        "    if item != ['none']:\n",
        "        ttt = ' '.join(item)\n",
        "    else:\n",
        "        ttt = 'none'\n",
        "    ll1.append(ttt)\n",
        "vectorizer = CountVectorizer(lowercase=False)\n",
        "vectorizer.fit(ll1)\n",
        "voc = vectorizer.vocabulary_\n",
        "voc_inv = {v: 'LearnCodeCoursesCert_'+k for k, v in voc.items()}\n",
        "vector = vectorizer.transform(ll1)\n",
        "tt = pd.DataFrame(vector.toarray())\n",
        "tt = tt.rename(columns=voc_inv)\n",
        "df = pd.concat([df,tt], axis=1).drop(['LearnCodeCoursesCert'], axis=1)\n",
        "\n",
        "# Preprocess YearsCode and YearsCodePro columns\n",
        "def yc_toint(s):\n",
        "    if s.isdigit():\n",
        "        return int(s)\n",
        "df['YearsCode'] = df['YearsCode'].fillna('-1').apply(yc_toint)\n",
        "df['YearsCodePro'] = df['YearsCodePro'].fillna('-1').apply(yc_toint)\n",
        "\n",
        "# Preprocess OrgSize column\n",
        "df['OrgSize'] = df['OrgSize'].fillna(\"None\").replace({\"10,000 or more employees\": \"VeryLarge\",\n",
        "                                      \"20 to 99 employees\": \"Small\",\n",
        "                                      \"100 to 499 employees\": \"Medium\",\n",
        "                                      \"1,000 to 4,999 employees\": \"Large\",\n",
        "                                      \"5,000 to 9,999 employees\": \"VeryLarge\",\n",
        "                                      \"2 to 9 employees\": \"VerySmall\",\n",
        "                                      \"10 to 19 employees\": \"VerySmall\",\n",
        "                                      \"500 to 999 employees\": \"Medium\",\n",
        "                                      \"Just me - I am a freelancer, sole proprietor, etc.\": \"VerySmall\",\n",
        "                                      \"I don’t know\": \"None\",\n",
        "                                      \"I prefer not to answer\": \"None\"})\n",
        "\n",
        "# Preprocess Country column\n",
        "df['Country'] = df['Country'].replace({'United States of America': 'USA',\n",
        "                                       'United Kingdom of Great Britain and Northern Ireland': 'UK'})\n",
        "\n",
        "def preprocess_col(df, col='PlatformHaveWorkedWith'):\n",
        "\n",
        "    ll = df[col].fillna('none').str.split(';').to_list()\n",
        "    ll1 = []\n",
        "    for item in ll:\n",
        "        if item != ['none']:\n",
        "            ttt = []\n",
        "            for i in item:\n",
        "                for c in ' #-./+():':\n",
        "                    i = i.replace(c, '_')\n",
        "                ttt.append(i)\n",
        "            ttt = ' '.join(ttt)\n",
        "        else:\n",
        "            ttt = 'none'\n",
        "        ll1.append(ttt)\n",
        "    vectorizer = CountVectorizer(lowercase=False)\n",
        "    vectorizer.fit(ll1)\n",
        "    voc = vectorizer.vocabulary_\n",
        "    voc_inv = {v: col+'_'+k for k, v in voc.items()}\n",
        "    vector = vectorizer.transform(ll1)\n",
        "    tt = pd.DataFrame(vector.toarray())\n",
        "    tt = tt.rename(columns=voc_inv)\n",
        "    df = pd.concat([df,tt], axis=1).drop([col], axis=1)\n",
        "    return df\n",
        "\n",
        "cols2process = ['PlatformHaveWorkedWith', \n",
        "                'LanguageHaveWorkedWith', \n",
        "                'DatabaseHaveWorkedWith', \n",
        "                'WebframeHaveWorkedWith', \n",
        "                'MiscTechHaveWorkedWith', \n",
        "                'ToolsTechHaveWorkedWith', \n",
        "                'NEWCollabToolsHaveWorkedWith', \n",
        "                'OfficeStackAsyncHaveWorkedWith', \n",
        "                'OfficeStackSyncHaveWorkedWith', \n",
        "                'OpSysProfessional use']\n",
        "\n",
        "for col in cols2process:\n",
        "    print(col)\n",
        "    df = preprocess_col(df, col)\n",
        "    print(df.shape)\n",
        "\n",
        "# Preprocess Gender column\n",
        "gender_dict = {\"Man\": \"Male\", \n",
        "                \"Woman\": \"Female\"}\n",
        "gender_vc = df['Gender'].fillna('none').value_counts()\n",
        "for idx, val in zip(gender_vc.index, gender_vc.values):\n",
        "    if idx not in gender_dict:\n",
        "        gender_dict[idx] = \"Other\"\n",
        "df['Gender'] = df['Gender'].replace(gender_dict)\n",
        "\n",
        "# Fill null values\n",
        "for col in ['RemoteWork', 'EdLevel', 'Age', 'Gender', 'TBranch', 'ICorPM']:\n",
        "    df[col] = df[col].fillna('None')\n",
        "for col in ['YearsCode', 'YearsCodePro', 'WorkExp']:\n",
        "    df[col] = df[col].fillna(df[col].median())\n",
        "assert df.isnull().sum().sum() == 0 # assert no nulls in final dataset\n",
        "\n",
        "# Select Developer Types with largest number of responders\n",
        "valc = df['DevType'].value_counts()\n",
        "dt_list = valc[valc >= 200].index.tolist()\n",
        "df = df[df['DevType'].isin(dt_list)]\n",
        "df['DevType'].value_counts()\n",
        "\n",
        "# Select countries with largest number of responders\n",
        "valc = df['Country'].value_counts()\n",
        "country_list = valc[valc >= 200].index.tolist()\n",
        "df = df[df['Country'].isin(country_list)]\n",
        "df['Country'].value_counts()\n",
        "\n",
        "# Exclude 5% of smallest and 5% of highest salaries\n",
        "P = np.percentile(df['ConvertedCompYearly'], [5, 95])\n",
        "df = df[(df['ConvertedCompYearly'] > P[0]) & (df['ConvertedCompYearly'] < P[1])]\n",
        "\n",
        "df.reset_index(drop=True, inplace=True)"
      ],
      "metadata": {
        "execution": {
          "iopub.status.busy": "2022-12-06T18:03:50.523567Z",
          "iopub.execute_input": "2022-12-06T18:03:50.524242Z",
          "iopub.status.idle": "2022-12-06T18:03:54.551434Z",
          "shell.execute_reply.started": "2022-12-06T18:03:50.524199Z",
          "shell.execute_reply": "2022-12-06T18:03:54.550313Z"
        },
        "trusted": true,
        "id": "NKB3N-eQn2aw",
        "outputId": "2e0d3395-0764-40a1-8f25-7e9d350f6e19"
      },
      "execution_count": null,
      "outputs": [
        {
          "name": "stdout",
          "text": "(15014, 31)\n(15014, 31)\nPlatformHaveWorkedWith\n(15014, 80)\nLanguageHaveWorkedWith\n(15014, 120)\nDatabaseHaveWorkedWith\n(15014, 137)\nWebframeHaveWorkedWith\n(15014, 162)\nMiscTechHaveWorkedWith\n(15014, 185)\nToolsTechHaveWorkedWith\n(15014, 198)\nNEWCollabToolsHaveWorkedWith\n(15014, 226)\nOfficeStackAsyncHaveWorkedWith\n(15014, 247)\nOfficeStackSyncHaveWorkedWith\n(15014, 260)\nOpSysProfessional use\n(15014, 266)\n",
          "output_type": "stream"
        }
      ]
    },
    {
      "cell_type": "code",
      "source": [
        "y = df['ConvertedCompYearly'].values.reshape(-1,)\n",
        "X = df.drop(['ConvertedCompYearly'], axis=1)"
      ],
      "metadata": {
        "execution": {
          "iopub.status.busy": "2022-12-06T18:04:06.107745Z",
          "iopub.execute_input": "2022-12-06T18:04:06.108197Z",
          "iopub.status.idle": "2022-12-06T18:04:06.122127Z",
          "shell.execute_reply.started": "2022-12-06T18:04:06.108158Z",
          "shell.execute_reply": "2022-12-06T18:04:06.120967Z"
        },
        "trusted": true,
        "id": "rHVCkjwln2ay"
      },
      "execution_count": null,
      "outputs": []
    },
    {
      "cell_type": "code",
      "source": [
        "# encoding all the features in X as one-hot encoding\n",
        "X_all_OH = X\n",
        "for col in X.select_dtypes(include=['object']):\n",
        "    X_all_OH = encode_and_bind(X_all_OH, col)"
      ],
      "metadata": {
        "execution": {
          "iopub.status.busy": "2022-12-06T18:04:08.170575Z",
          "iopub.execute_input": "2022-12-06T18:04:08.171014Z",
          "iopub.status.idle": "2022-12-06T18:04:08.337808Z",
          "shell.execute_reply.started": "2022-12-06T18:04:08.170976Z",
          "shell.execute_reply": "2022-12-06T18:04:08.336620Z"
        },
        "trusted": true,
        "id": "VJz1_0TUn2ay"
      },
      "execution_count": null,
      "outputs": []
    },
    {
      "cell_type": "markdown",
      "source": [
        "<a id=\"section-features\"></a>\n",
        "# Feature Engineering and Models"
      ],
      "metadata": {
        "id": "W0bAVV4ln2ay"
      }
    },
    {
      "cell_type": "markdown",
      "source": [
        "## Running Various Tree Regressors with categorical (all one-hot-encoded) features, No feature selection/engineering"
      ],
      "metadata": {
        "id": "Ba_WjEP0n2ay"
      }
    },
    {
      "cell_type": "code",
      "source": [
        "regressors = {'dummy means': DummyRegressor, 'Decision Trees' : DecisionTreeRegressor, 'Random Forest': RandomForestRegressor, 'Ada Boost': AdaBoostRegressor, 'Gradient Boost': GradientBoostingRegressor, 'Histogram Gradient Boost': HistGradientBoostingRegressor}"
      ],
      "metadata": {
        "execution": {
          "iopub.status.busy": "2022-11-13T07:51:26.212554Z",
          "iopub.execute_input": "2022-11-13T07:51:26.213131Z",
          "iopub.status.idle": "2022-11-13T07:51:26.217535Z",
          "shell.execute_reply.started": "2022-11-13T07:51:26.213102Z",
          "shell.execute_reply": "2022-11-13T07:51:26.216638Z"
        },
        "trusted": true,
        "id": "-EZ2Cj3Dn2ay"
      },
      "execution_count": null,
      "outputs": []
    },
    {
      "cell_type": "code",
      "source": [
        "for name, estimator in regressors.items():\n",
        "    train_err, test_err = train_test_eval(estimator(), X_all_OH, y, mean_squared_error, metric_args={'squared':False})\n",
        "    print(f'***\\n{name} train error: {train_err} kUSD/year, test error: {test_err} kUSD/year')"
      ],
      "metadata": {
        "execution": {
          "iopub.status.busy": "2022-11-13T07:51:28.448245Z",
          "iopub.execute_input": "2022-11-13T07:51:28.448832Z",
          "iopub.status.idle": "2022-11-13T07:51:43.853852Z",
          "shell.execute_reply.started": "2022-11-13T07:51:28.4488Z",
          "shell.execute_reply": "2022-11-13T07:51:43.853015Z"
        },
        "trusted": true,
        "id": "tD2Lka81n2ay"
      },
      "execution_count": null,
      "outputs": []
    },
    {
      "cell_type": "markdown",
      "source": [
        "## Recursive Feature Selection (using Cross Validation) to select best features"
      ],
      "metadata": {
        "id": "iUeITqEXn2ay"
      }
    },
    {
      "cell_type": "code",
      "source": [
        "selector = RFECV(DecisionTreeRegressor(), step=1, cv=3)\n",
        "selector = selector.fit(X_all_OH, y)"
      ],
      "metadata": {
        "execution": {
          "iopub.status.busy": "2022-12-03T16:38:07.958167Z",
          "iopub.execute_input": "2022-12-03T16:38:07.958563Z",
          "iopub.status.idle": "2022-12-03T16:42:03.751463Z",
          "shell.execute_reply.started": "2022-12-03T16:38:07.958531Z",
          "shell.execute_reply": "2022-12-03T16:42:03.750167Z"
        },
        "trusted": true,
        "id": "16dqGCKzn2ay"
      },
      "execution_count": null,
      "outputs": []
    },
    {
      "cell_type": "markdown",
      "source": [
        "### Plot model accuracy vs features selected for each split"
      ],
      "metadata": {
        "id": "nXBdLnPjn2az"
      }
    },
    {
      "cell_type": "code",
      "source": [
        "plt.ylabel('model accuracy')\n",
        "plt.xlabel('features selected')\n",
        "plt.plot(range(1, len(selector.grid_scores_)+1), selector.grid_scores_)\n",
        "plt.legend()\n",
        "plt.show() "
      ],
      "metadata": {
        "execution": {
          "iopub.status.busy": "2022-11-13T21:05:45.260377Z",
          "iopub.execute_input": "2022-11-13T21:05:45.260825Z",
          "iopub.status.idle": "2022-11-13T21:05:45.502634Z",
          "shell.execute_reply.started": "2022-11-13T21:05:45.260767Z",
          "shell.execute_reply": "2022-11-13T21:05:45.501475Z"
        },
        "trusted": true,
        "id": "76L8gtT9n2az"
      },
      "execution_count": null,
      "outputs": []
    },
    {
      "cell_type": "markdown",
      "source": [
        "We see that model accuracy can be approximated and easily peaked at less than half the features. These are explored below"
      ],
      "metadata": {
        "id": "e-Aum6Kmn2az"
      }
    },
    {
      "cell_type": "code",
      "source": [
        "# printing the top 10 binary categories predicting salary\n",
        "print(X_all_OH.columns[selector.ranking_ < 10])"
      ],
      "metadata": {
        "execution": {
          "iopub.status.busy": "2022-11-13T21:06:08.087806Z",
          "iopub.execute_input": "2022-11-13T21:06:08.08822Z",
          "iopub.status.idle": "2022-11-13T21:06:08.09537Z",
          "shell.execute_reply.started": "2022-11-13T21:06:08.088187Z",
          "shell.execute_reply": "2022-11-13T21:06:08.094113Z"
        },
        "trusted": true,
        "id": "_fef6hgpn2az"
      },
      "execution_count": null,
      "outputs": []
    },
    {
      "cell_type": "code",
      "source": [
        "X_top_10_OH = X_all_OH.loc[:, X_all_OH.columns[selector.ranking_ < 10]]\n",
        "X_top_10_OH.shape"
      ],
      "metadata": {
        "execution": {
          "iopub.status.busy": "2022-12-03T16:42:41.926634Z",
          "iopub.execute_input": "2022-12-03T16:42:41.927173Z",
          "iopub.status.idle": "2022-12-03T16:42:41.941685Z",
          "shell.execute_reply.started": "2022-12-03T16:42:41.927125Z",
          "shell.execute_reply": "2022-12-03T16:42:41.940407Z"
        },
        "trusted": true,
        "id": "8gdbBY4Fn2az"
      },
      "execution_count": null,
      "outputs": []
    },
    {
      "cell_type": "markdown",
      "source": [
        "## ADABoost Hyperparameter Tuning\n"
      ],
      "metadata": {
        "id": "-XvzZFkVn2az"
      }
    },
    {
      "cell_type": "code",
      "source": [
        "from sklearn.model_selection import RepeatedStratifiedKFold\n",
        "from sklearn.model_selection import GridSearchCV\n",
        "from sklearn.ensemble import AdaBoostRegressor\n",
        "from sklearn.model_selection import KFold\n",
        "\n",
        "crossvalidation=KFold(n_splits=10,shuffle=True,random_state=1)\n",
        "\n",
        "ada=AdaBoostRegressor()\n",
        "search_grid={'n_estimators':[500,1000,2000],'learning_rate':[.001,0.01,.1],'random_state':[1]}\n",
        "search=GridSearchCV(estimator=ada,param_grid=search_grid,scoring='neg_mean_squared_error',n_jobs=1,cv=crossvalidation)\n",
        "search.fit(X_all_OH, y)\n",
        "print (search.best_params_)\n",
        "print (search.best_score_)"
      ],
      "metadata": {
        "execution": {
          "iopub.status.busy": "2022-11-13T21:12:24.236447Z",
          "iopub.execute_input": "2022-11-13T21:12:24.236882Z",
          "iopub.status.idle": "2022-11-13T22:29:57.481771Z",
          "shell.execute_reply.started": "2022-11-13T21:12:24.236845Z",
          "shell.execute_reply": "2022-11-13T22:29:57.480798Z"
        },
        "trusted": true,
        "id": "BbRtMY5Nn2az"
      },
      "execution_count": null,
      "outputs": []
    },
    {
      "cell_type": "markdown",
      "source": [],
      "metadata": {
        "id": "szJKD_3in2az"
      }
    },
    {
      "cell_type": "code",
      "source": [
        " from sklearn.model_selection import cross_val_score\n",
        "\n",
        "ada2 = AdaBoostRegressor(learning_rate = 0.001, n_estimators = 500, random_state = 1)\n",
        "X_train, X_test, y_train, y_test = train_test_split(X_all_OH, y, test_size=0.3, random_state=0)\n",
        "score=np.mean(cross_val_score(ada2,X_all_OH,y,scoring='r2',cv=crossvalidation,n_jobs=1))"
      ],
      "metadata": {
        "trusted": true,
        "id": "SY62aDnvn2az"
      },
      "execution_count": null,
      "outputs": []
    },
    {
      "cell_type": "code",
      "source": [
        "score"
      ],
      "metadata": {
        "execution": {
          "iopub.status.busy": "2022-11-13T22:39:59.349871Z",
          "iopub.execute_input": "2022-11-13T22:39:59.351465Z",
          "iopub.status.idle": "2022-11-13T22:39:59.361163Z",
          "shell.execute_reply.started": "2022-11-13T22:39:59.351409Z",
          "shell.execute_reply": "2022-11-13T22:39:59.359947Z"
        },
        "trusted": true,
        "id": "FiJHBOY1n2az"
      },
      "execution_count": null,
      "outputs": []
    },
    {
      "cell_type": "code",
      "source": [
        "from sklearn.metrics import r2_score\n",
        "\n",
        "ada2.fit(X_train, y_train)\n",
        "y_train_pred = ada2.predict(X_train)\n",
        "y_test_pred = ada2.predict(X_test)\n",
        "r2_score_train = r2_score(y_train, y_train_pred)\n",
        "r2_score_test = r2_score(y_test, y_test_pred)"
      ],
      "metadata": {
        "execution": {
          "iopub.status.busy": "2022-11-13T22:42:20.938008Z",
          "iopub.execute_input": "2022-11-13T22:42:20.938407Z",
          "iopub.status.idle": "2022-11-13T22:42:53.26912Z",
          "shell.execute_reply.started": "2022-11-13T22:42:20.938377Z",
          "shell.execute_reply": "2022-11-13T22:42:53.26806Z"
        },
        "trusted": true,
        "id": "tiIW4DiEn2az"
      },
      "execution_count": null,
      "outputs": []
    },
    {
      "cell_type": "code",
      "source": [
        "print (r2_score_train, r2_score_test)"
      ],
      "metadata": {
        "execution": {
          "iopub.status.busy": "2022-11-13T22:43:08.066949Z",
          "iopub.execute_input": "2022-11-13T22:43:08.067621Z",
          "iopub.status.idle": "2022-11-13T22:43:08.072993Z",
          "shell.execute_reply.started": "2022-11-13T22:43:08.067585Z",
          "shell.execute_reply": "2022-11-13T22:43:08.071979Z"
        },
        "trusted": true,
        "id": "qpG3Q7Uhn2az"
      },
      "execution_count": null,
      "outputs": []
    },
    {
      "cell_type": "markdown",
      "source": [
        "## Random Forest Regression Hyperparameter Tuning\n"
      ],
      "metadata": {
        "id": "9H8jOkTWn2az"
      }
    },
    {
      "cell_type": "code",
      "source": [
        "from sklearn.model_selection import RandomizedSearchCV\n",
        "\n",
        "# Number of trees in random forest\n",
        "n_estimators = [int(x) for x in np.linspace(start = 200, stop = 2000, num = 10)]\n",
        "# Number of features to consider at every split\n",
        "max_features = ['auto', 'sqrt']\n",
        "# Maximum number of levels in tree\n",
        "max_depth = [int(x) for x in np.linspace(10, 110, num = 11)]\n",
        "max_depth.append(None)\n",
        "# Minimum number of samples required to split a node\n",
        "min_samples_split = [2, 5, 10]\n",
        "# Minimum number of samples required at each leaf node\n",
        "min_samples_leaf = [1, 2, 4]\n",
        "# Method of selecting samples for training each tree\n",
        "bootstrap = [True, False]\n",
        "# Create the random grid\n",
        "random_grid = {'n_estimators': n_estimators,\n",
        "               'max_features': max_features,\n",
        "               'max_depth': max_depth,\n",
        "               'min_samples_split': min_samples_split,\n",
        "               'min_samples_leaf': min_samples_leaf,\n",
        "               'bootstrap': bootstrap}\n",
        "print(random_grid)"
      ],
      "metadata": {
        "execution": {
          "iopub.status.busy": "2022-11-13T23:02:40.475291Z",
          "iopub.execute_input": "2022-11-13T23:02:40.475699Z",
          "iopub.status.idle": "2022-11-13T23:02:40.48688Z",
          "shell.execute_reply.started": "2022-11-13T23:02:40.475669Z",
          "shell.execute_reply": "2022-11-13T23:02:40.485546Z"
        },
        "trusted": true,
        "id": "E3kFMnaGn2a0"
      },
      "execution_count": null,
      "outputs": []
    },
    {
      "cell_type": "code",
      "source": [
        "from sklearn.ensemble import RandomForestRegressor\n",
        "\n",
        "# Use the random grid to search for best hyperparameters\n",
        "# First create the base model to tune\n",
        "rf = RandomForestRegressor()\n",
        "# Random search of parameters, using 3 fold cross validation, \n",
        "# search across 100 different combinations, and use all available cores\n",
        "rf_random = RandomizedSearchCV(estimator = rf, param_distributions = random_grid, n_iter = 100, cv = 3, verbose=2, random_state=42, n_jobs = -1)\n",
        "# Fit the random search model\n",
        "rf_random.fit(X_train, y_train)"
      ],
      "metadata": {
        "execution": {
          "iopub.status.busy": "2022-11-13T23:18:32.318116Z",
          "iopub.execute_input": "2022-11-13T23:18:32.31854Z",
          "iopub.status.idle": "2022-11-14T01:13:23.205828Z",
          "shell.execute_reply.started": "2022-11-13T23:18:32.318505Z",
          "shell.execute_reply": "2022-11-14T01:13:23.204558Z"
        },
        "trusted": true,
        "id": "wYYGT5_Xn2a0"
      },
      "execution_count": null,
      "outputs": []
    },
    {
      "cell_type": "code",
      "source": [
        "rf_random.best_params_"
      ],
      "metadata": {
        "execution": {
          "iopub.status.busy": "2022-11-14T01:29:10.81938Z",
          "iopub.execute_input": "2022-11-14T01:29:10.819793Z",
          "iopub.status.idle": "2022-11-14T01:29:10.828511Z",
          "shell.execute_reply.started": "2022-11-14T01:29:10.819758Z",
          "shell.execute_reply": "2022-11-14T01:29:10.82729Z"
        },
        "trusted": true,
        "id": "clbuzM3Un2a0"
      },
      "execution_count": null,
      "outputs": []
    },
    {
      "cell_type": "code",
      "source": [
        "from sklearn.model_selection import GridSearchCV\n",
        "# Create the parameter grid based on the results of random search \n",
        "param_grid = {\n",
        "    'bootstrap': [True],\n",
        "    'max_depth': [80, 100, 120],\n",
        "    'max_features': ['auto'],\n",
        "    'min_samples_leaf': [3, 4, 5],\n",
        "    'min_samples_split': [4,5,6],\n",
        "    'n_estimators': [1000, 800, 1200 ]\n",
        "}\n",
        "# Create a based model\n",
        "rf = RandomForestRegressor()\n",
        "# Instantiate the grid search model\n",
        "grid_search = GridSearchCV(estimator = rf, param_grid = param_grid, \n",
        "                          cv = 3, n_jobs = -1, verbose = 2)\n",
        "grid_search.fit(X_train, y_train)\n"
      ],
      "metadata": {
        "execution": {
          "iopub.status.busy": "2022-11-14T01:35:52.871942Z",
          "iopub.execute_input": "2022-11-14T01:35:52.873181Z",
          "iopub.status.idle": "2022-11-14T03:35:40.352753Z",
          "shell.execute_reply.started": "2022-11-14T01:35:52.87312Z",
          "shell.execute_reply": "2022-11-14T03:35:40.351517Z"
        },
        "trusted": true,
        "id": "D__xckO5n2a0"
      },
      "execution_count": null,
      "outputs": []
    },
    {
      "cell_type": "code",
      "source": [
        "grid_search.best_params_\n"
      ],
      "metadata": {
        "execution": {
          "iopub.status.busy": "2022-11-14T04:09:36.15117Z",
          "iopub.execute_input": "2022-11-14T04:09:36.151626Z",
          "iopub.status.idle": "2022-11-14T04:09:36.160316Z",
          "shell.execute_reply.started": "2022-11-14T04:09:36.151588Z",
          "shell.execute_reply": "2022-11-14T04:09:36.159045Z"
        },
        "trusted": true,
        "id": "rTuam7yTn2a0"
      },
      "execution_count": null,
      "outputs": []
    },
    {
      "cell_type": "code",
      "source": [
        "from sklearn.model_selection import cross_val_score\n",
        "\n",
        "rf2 = RandomForestRegressor (bootstrap = True, max_depth = 80, max_features = 'auto', min_samples_leaf = 4, min_samples_split = 4, n_estimators = 1000)\n",
        "X_train, X_test, y_train, y_test = train_test_split(X_all_OH, y, test_size=0.3, random_state=0)\n",
        "rf2.fit(X_train, y_train)\n",
        "y_train_pred = rf2.predict(X_train)\n",
        "y_test_pred = rf2.predict(X_test)\n",
        "r2_score_train = r2_score(y_train, y_train_pred)\n",
        "r2_score_test = r2_score(y_test, y_test_pred)\n",
        "print(f\"R2 score for train {round(r2_score_train,1)} kUSD/year, and for test {round(r2_score_test,1)} kUSD/year\")\n"
      ],
      "metadata": {
        "execution": {
          "iopub.status.busy": "2022-11-14T04:13:46.56429Z",
          "iopub.execute_input": "2022-11-14T04:13:46.564687Z",
          "iopub.status.idle": "2022-11-14T04:15:44.082203Z",
          "shell.execute_reply.started": "2022-11-14T04:13:46.564656Z",
          "shell.execute_reply": "2022-11-14T04:15:44.081003Z"
        },
        "trusted": true,
        "id": "CAsrRoyIn2a0"
      },
      "execution_count": null,
      "outputs": []
    },
    {
      "cell_type": "code",
      "source": [
        "for name, estimator in regressors.items():\n",
        "    train_err, test_err = train_test_eval(estimator(), X_top_10_OH, y, mean_squared_error, metric_args={'squared':False})\n",
        "    print(f'***\\n{name} train error: {train_err} kUSD/year, test error: {test_err} kUSD/year')"
      ],
      "metadata": {
        "execution": {
          "iopub.status.busy": "2022-11-13T07:54:43.820289Z",
          "iopub.execute_input": "2022-11-13T07:54:43.820566Z",
          "iopub.status.idle": "2022-11-13T07:54:45.840784Z",
          "shell.execute_reply.started": "2022-11-13T07:54:43.820541Z",
          "shell.execute_reply": "2022-11-13T07:54:45.84002Z"
        },
        "trusted": true,
        "id": "bI0XqYI9n2a0"
      },
      "execution_count": null,
      "outputs": []
    },
    {
      "cell_type": "markdown",
      "source": [
        "## Using PCA for dimensionality reduction"
      ],
      "metadata": {
        "id": "Xs4Ub8JXn2a0"
      }
    },
    {
      "cell_type": "code",
      "source": [
        "pca = PCA(n_components=0.99) # retain 99% variance\n",
        "X_pca = pca.fit(X_all_OH).transform(X_all_OH)\n",
        "print(f'{X_pca.shape[-1]} features retain 99% of variance from {X_all_OH.shape[-1]} features of X_all_OH')"
      ],
      "metadata": {
        "execution": {
          "iopub.status.busy": "2022-12-03T16:43:43.641612Z",
          "iopub.execute_input": "2022-12-03T16:43:43.642482Z",
          "iopub.status.idle": "2022-12-03T16:43:43.984388Z",
          "shell.execute_reply.started": "2022-12-03T16:43:43.642434Z",
          "shell.execute_reply": "2022-12-03T16:43:43.982874Z"
        },
        "trusted": true,
        "id": "Ku4C8KJUn2a0"
      },
      "execution_count": null,
      "outputs": []
    },
    {
      "cell_type": "code",
      "source": [
        "for name, estimator in regressors.items():\n",
        "    train_err, test_err = train_test_eval(estimator(), X_pca, y, mean_squared_error, metric_args={'squared':False})\n",
        "    print(f'***\\n{name} train error: {train_err} kUSD/year, test error: {test_err} kUSD/year')"
      ],
      "metadata": {
        "execution": {
          "iopub.status.busy": "2022-11-13T07:54:46.081779Z",
          "iopub.execute_input": "2022-11-13T07:54:46.082101Z",
          "iopub.status.idle": "2022-11-13T07:56:16.003175Z",
          "shell.execute_reply.started": "2022-11-13T07:54:46.08207Z",
          "shell.execute_reply": "2022-11-13T07:56:16.002489Z"
        },
        "trusted": true,
        "id": "LprVKqw-n2a0"
      },
      "execution_count": null,
      "outputs": []
    },
    {
      "cell_type": "markdown",
      "source": [
        "## Viz of PCA top-2 components"
      ],
      "metadata": {
        "id": "B9P5dJyJn2a0"
      }
    },
    {
      "cell_type": "code",
      "source": [
        "# Create a scatter plot of X_pca (2D). Colorbar shows the yearly compensation in k$.\n",
        "plt.figure(figsize=(8, 6), dpi=100)\n",
        "plt.scatter(X_pca[:, 0], X_pca[:, 1], c=np.clip(y, 0, 200), s=10, cmap='YlOrRd')\n",
        "plt.legend(loc=\"best\", shadow=False, scatterpoints=1)\n",
        "plt.title(\"PCA of Stackoverflow dataset\")\n",
        "plt.colorbar().set_label('k$/y', rotation=270, loc='center')"
      ],
      "metadata": {
        "execution": {
          "iopub.status.busy": "2022-11-13T07:56:16.004396Z",
          "iopub.execute_input": "2022-11-13T07:56:16.004842Z",
          "iopub.status.idle": "2022-11-13T07:56:16.368717Z",
          "shell.execute_reply.started": "2022-11-13T07:56:16.004814Z",
          "shell.execute_reply": "2022-11-13T07:56:16.368098Z"
        },
        "trusted": true,
        "id": "RndwvfzJn2a0"
      },
      "execution_count": null,
      "outputs": []
    },
    {
      "cell_type": "markdown",
      "source": [
        "## Viz of t-SNE top 2 components"
      ],
      "metadata": {
        "id": "iy6sP7Fhn2a0"
      }
    },
    {
      "cell_type": "code",
      "source": [
        "from sklearn.manifold import TSNE\n",
        "# TSNE applied to StackOverflow Developer Survey Dataset\n",
        "X_tsne = TSNE(n_components=2, learning_rate='auto', init='random', perplexity=3).fit_transform(X_all_OH)\n",
        "\n",
        "# Create a scatter plot of X_pca (2D). Colorbar shows the yearly compensation in k$.\n",
        "plt.figure(figsize=(8, 6), dpi=100)\n",
        "plt.scatter(X_tsne[:, 0], X_tsne[:, 1], c=np.clip(y, 0, 200), s=10, cmap='YlOrRd')\n",
        "plt.legend(loc=\"best\", shadow=False, scatterpoints=1)\n",
        "plt.title(\"t-SNE projection of Stackoverflow dataset\")\n",
        "plt.colorbar().set_label('k$/y', rotation=270, loc='center')"
      ],
      "metadata": {
        "execution": {
          "iopub.status.busy": "2022-11-13T07:56:16.369669Z",
          "iopub.execute_input": "2022-11-13T07:56:16.370356Z",
          "iopub.status.idle": "2022-11-13T07:56:45.304407Z",
          "shell.execute_reply.started": "2022-11-13T07:56:16.370329Z",
          "shell.execute_reply": "2022-11-13T07:56:45.303509Z"
        },
        "trusted": true,
        "id": "iahvgwjVn2a1"
      },
      "execution_count": null,
      "outputs": []
    },
    {
      "cell_type": "markdown",
      "source": [
        "## Using `CatBoostRegressor`"
      ],
      "metadata": {
        "id": "V4d4aaGbn2a1"
      }
    },
    {
      "cell_type": "code",
      "source": [
        "X_train, X_test, y_train, y_test = train_test_split(X_all_OH, y, test_size=0.4, random_state=0)\n",
        "# initialize Pool\n",
        "train_pool = Pool(X_train, \n",
        "                  y_train, \n",
        "                  cat_features=cat_cols_idx)\n",
        "test_pool = Pool(X_test,\n",
        "                 y_test,\n",
        "                 cat_features=cat_cols_idx)\n",
        "# specify the training parameters \n",
        "model = CatBoostRegressor(iterations=2000,\n",
        "                          depth=5, \n",
        "                          learning_rate=0.04,\n",
        "                          verbose=0,\n",
        "                          loss_function='RMSE')\n",
        "#train the model\n",
        "model.fit(train_pool)\n",
        "# make the prediction using the resulting model\n",
        "y_train_pred = model.predict(train_pool)\n",
        "y_test_pred = model.predict(test_pool)\n",
        "\n",
        "rmse_train = mean_squared_error(y_train, y_train_pred, squared=False)\n",
        "rmse_test = mean_squared_error(y_test, y_test_pred, squared=False)\n",
        "print(f\"RMSE score for train {round(rmse_train,1)} kUSD/year, and for test {round(rmse_test,1)} kUSD/year\")"
      ],
      "metadata": {
        "execution": {
          "iopub.status.busy": "2022-11-13T07:56:45.305635Z",
          "iopub.execute_input": "2022-11-13T07:56:45.305891Z",
          "iopub.status.idle": "2022-11-13T07:56:52.640556Z",
          "shell.execute_reply.started": "2022-11-13T07:56:45.305868Z",
          "shell.execute_reply": "2022-11-13T07:56:52.639301Z"
        },
        "trusted": true,
        "id": "OSXaE8v8n2a1"
      },
      "execution_count": null,
      "outputs": []
    },
    {
      "cell_type": "code",
      "source": [
        "# Baseline scores (assuming the same prediction for all data samples)\n",
        "rmse_bs_train = mean_squared_error(y_train, [np.mean(y_train)]*len(y_train), squared=False)\n",
        "rmse_bs_test = mean_squared_error(y_test, [np.mean(y_train)]*len(y_test), squared=False)\n",
        "print(f\"RMSE baseline score for train {round(rmse_bs_train,1)} kUSD/year, and for test {round(rmse_bs_test,1)} kUSD/year\")"
      ],
      "metadata": {
        "execution": {
          "iopub.status.busy": "2022-11-13T07:56:52.642263Z",
          "iopub.execute_input": "2022-11-13T07:56:52.64277Z",
          "iopub.status.idle": "2022-11-13T07:56:52.649608Z",
          "shell.execute_reply.started": "2022-11-13T07:56:52.642737Z",
          "shell.execute_reply": "2022-11-13T07:56:52.648725Z"
        },
        "trusted": true,
        "id": "XNtZJ4Epn2a1"
      },
      "execution_count": null,
      "outputs": []
    },
    {
      "cell_type": "markdown",
      "source": [
        "## NEURAL NETWORK MODEL\n"
      ],
      "metadata": {
        "id": "ldGEuZ3Rn2a1"
      }
    },
    {
      "cell_type": "code",
      "source": [
        "from sklearn.neural_network import MLPRegressor\n",
        "from sklearn.metrics import r2_score\n",
        "from sklearn.metrics import mean_absolute_error\n",
        "from sklearn.metrics import mean_poisson_deviance\n",
        "from sklearn.metrics import mean_gamma_deviance\n",
        "from sklearn.metrics import mean_tweedie_deviance\n",
        "from sklearn.metrics import d2_tweedie_score\n",
        "from sklearn.metrics import mean_squared_error\n",
        "\n",
        "#using all feature\n",
        "X_train, X_test, y_train, y_test = train_test_split(X_all_OH, y, test_size=0.3, random_state=0)\n",
        "mlp_reg = MLPRegressor(hidden_layer_sizes=(32,),activation=\"relu\" ,random_state=1, max_iter=1000).fit(X_train, y_train)\n",
        "y_train_pred = mlp_reg.predict(X_train)\n",
        "y_test_pred = mlp_reg.predict(X_test)\n",
        "\n",
        "r2_score_train = r2_score(y_train, y_train_pred)\n",
        "r2_score_test = r2_score(y_test, y_test_pred)\n",
        "print(f\"R squared score for train {round(r2_score_train,2)} kUSD/year, and for test {round(r2_score_test,2)} kUSD/year\")\n",
        "rmse_train = mean_squared_error(y_train, y_train_pred, squared=False)\n",
        "rmse_test = mean_squared_error(y_test, y_test_pred, squared=False)\n",
        "print(f\"RMSE score for train {round(rmse_train,2)} kUSD/year, and for test {round(rmse_test,2)} kUSD/year\")\n",
        "\n",
        "mse_train = mean_squared_error(y_train, y_train_pred, squared=True)\n",
        "mse_test = mean_squared_error(y_test, y_test_pred, squared=True)\n",
        "print(f\"MSE score for train {round(mse_train,2)} kUSD/year, and for test {round(mse_test,2)} kUSD/year\")\n",
        "\n",
        "adj_r2_train = 1 - (1-r2_score(y_train, y_train_pred)) * (len(y)-1)/(len(y)-X.shape[1]-1)\n",
        "adj_r2_test = 1 - (1-r2_score(y_test, y_test_pred)) * (len(y)-1)/(len(y)-X.shape[1]-1)\n",
        "print(f\"Adjusted R squared score for train {round(adj_r2_train,2)} kUSD/year, and for test {round(adj_r2_test,2)} kUSD/year\")\n",
        "\n",
        "mae_train = mean_absolute_error(y_train, y_train_pred)\n",
        "mae_test = mean_absolute_error(y_test, y_test_pred)\n",
        "print(f\"Mean Absolute Error score for train {round(mae_train,2)} kUSD/year, and for test {round(mae_test,2)} kUSD/year\")\n",
        "\n",
        "y_train_pred[y_train_pred <= 0] = 0.000001\n",
        "y_test_pred[y_test_pred <= 0] = 0.000001\n",
        "\n",
        "mpd_train = mean_poisson_deviance(y_train, y_train_pred)\n",
        "mpd_test = mean_poisson_deviance(y_test, y_test_pred)\n",
        "print(f\"Mean Poisson Deviance score for train {round(mpd_train,2)} kUSD/year, and for test {round(mpd_test,2)} kUSD/year\")\n",
        "\n",
        "\n",
        "mgd_train = mean_tweedie_deviance(y_train, y_train_pred, power = 2)\n",
        "mgd_test = mean_tweedie_deviance(y_test, y_test_pred, power = 2)\n",
        "print(f\"Mean Gamma Deviance score for train {round(mgd_train,1)} kUSD/year, and for test {round(mgd_test,1)} kUSD/year\")\n",
        "\n",
        "\n",
        "tweedie_train = d2_tweedie_score(y_train, y_train_pred)\n",
        "tweedie_test = d2_tweedie_score(y_test, y_test_pred)\n",
        "print(f\"Tweedie score for train {round(tweedie_train,1)} kUSD/year, and for test {round(tweedie_test,1)} kUSD/year\")\n"
      ],
      "metadata": {
        "execution": {
          "iopub.status.busy": "2022-12-03T16:34:58.882939Z",
          "iopub.execute_input": "2022-12-03T16:34:58.88416Z",
          "iopub.status.idle": "2022-12-03T16:36:09.375578Z",
          "shell.execute_reply.started": "2022-12-03T16:34:58.884116Z",
          "shell.execute_reply": "2022-12-03T16:36:09.374365Z"
        },
        "trusted": true,
        "id": "uuU7aB_8n2a1"
      },
      "execution_count": null,
      "outputs": []
    },
    {
      "cell_type": "code",
      "source": [
        "from sklearn.neural_network import MLPRegressor\n",
        "from sklearn.metrics import r2_score\n",
        "from sklearn.metrics import mean_absolute_error\n",
        "from sklearn.metrics import mean_poisson_deviance\n",
        "from sklearn.metrics import mean_gamma_deviance\n",
        "from sklearn.metrics import mean_tweedie_deviance\n",
        "from sklearn.metrics import d2_tweedie_score\n",
        "from sklearn.metrics import mean_squared_error\n",
        "\n",
        "#using all feature\n",
        "X_train, X_test, y_train, y_test = train_test_split(X_top_10_OH, y, test_size=0.3, random_state=0)\n",
        "mlp_reg = MLPRegressor(hidden_layer_sizes=(32,),activation=\"relu\" ,random_state=1, max_iter=1000).fit(X_train, y_train)\n",
        "y_train_pred = mlp_reg.predict(X_train)\n",
        "y_test_pred = mlp_reg.predict(X_test)\n",
        "\n",
        "r2_score_train = r2_score(y_train, y_train_pred)\n",
        "r2_score_test = r2_score(y_test, y_test_pred)\n",
        "print(f\"R squared score for train {round(r2_score_train,2)} kUSD/year, and for test {round(r2_score_test,2)} kUSD/year\")\n",
        "rmse_train = mean_squared_error(y_train, y_train_pred, squared=False)\n",
        "rmse_test = mean_squared_error(y_test, y_test_pred, squared=False)\n",
        "print(f\"RMSE score for train {round(rmse_train,2)} kUSD/year, and for test {round(rmse_test,2)} kUSD/year\")\n",
        "\n",
        "mse_train = mean_squared_error(y_train, y_train_pred, squared=True)\n",
        "mse_test = mean_squared_error(y_test, y_test_pred, squared=True)\n",
        "print(f\"MSE score for train {round(mse_train,2)} kUSD/year, and for test {round(mse_test,2)} kUSD/year\")\n",
        "\n",
        "adj_r2_train = 1 - (1-r2_score(y_train, y_train_pred)) * (len(y)-1)/(len(y)-X.shape[1]-1)\n",
        "adj_r2_test = 1 - (1-r2_score(y_test, y_test_pred)) * (len(y)-1)/(len(y)-X.shape[1]-1)\n",
        "print(f\"Adjusted R squared score for train {round(adj_r2_train,2)} kUSD/year, and for test {round(adj_r2_test,2)} kUSD/year\")\n",
        "\n",
        "mae_train = mean_absolute_error(y_train, y_train_pred)\n",
        "mae_test = mean_absolute_error(y_test, y_test_pred)\n",
        "print(f\"Mean Absolute Error score for train {round(mae_train,2)} kUSD/year, and for test {round(mae_test,2)} kUSD/year\")\n",
        "\n",
        "y_train_pred[y_train_pred <= 0] = 0.000001\n",
        "y_test_pred[y_test_pred <= 0] = 0.000001\n",
        "\n",
        "mpd_train = mean_poisson_deviance(y_train, y_train_pred)\n",
        "mpd_test = mean_poisson_deviance(y_test, y_test_pred)\n",
        "print(f\"Mean Poisson Deviance score for train {round(mpd_train,2)} kUSD/year, and for test {round(mpd_test,2)} kUSD/year\")\n",
        "\n",
        "\n",
        "mgd_train = mean_tweedie_deviance(y_train, y_train_pred, power = 2)\n",
        "mgd_test = mean_tweedie_deviance(y_test, y_test_pred, power = 2)\n",
        "print(f\"Mean Gamma Deviance score for train {round(mgd_train,1)} kUSD/year, and for test {round(mgd_test,1)} kUSD/year\")\n",
        "\n",
        "\n",
        "tweedie_train = d2_tweedie_score(y_train, y_train_pred)\n",
        "tweedie_test = d2_tweedie_score(y_test, y_test_pred)\n",
        "print(f\"Tweedie score for train {round(tweedie_train,1)} kUSD/year, and for test {round(tweedie_test,1)} kUSD/year\")\n"
      ],
      "metadata": {
        "execution": {
          "iopub.status.busy": "2022-12-03T16:43:08.610932Z",
          "iopub.execute_input": "2022-12-03T16:43:08.611383Z",
          "iopub.status.idle": "2022-12-03T16:43:11.886034Z",
          "shell.execute_reply.started": "2022-12-03T16:43:08.611351Z",
          "shell.execute_reply": "2022-12-03T16:43:11.883069Z"
        },
        "trusted": true,
        "id": "BJwzMqx0n2a1"
      },
      "execution_count": null,
      "outputs": []
    },
    {
      "cell_type": "code",
      "source": [
        "from sklearn.neural_network import MLPRegressor\n",
        "from sklearn.metrics import r2_score\n",
        "from sklearn.metrics import mean_absolute_error\n",
        "from sklearn.metrics import mean_poisson_deviance\n",
        "from sklearn.metrics import mean_gamma_deviance\n",
        "from sklearn.metrics import mean_tweedie_deviance\n",
        "from sklearn.metrics import d2_tweedie_score\n",
        "from sklearn.metrics import mean_squared_error\n",
        "\n",
        "#using all feature\n",
        "X_train, X_test, y_train, y_test = train_test_split(X_pca, y, test_size=0.3, random_state=0)\n",
        "mlp_reg = MLPRegressor(hidden_layer_sizes=(32,),activation=\"relu\" ,random_state=1, max_iter=1000).fit(X_train, y_train)\n",
        "y_train_pred = mlp_reg.predict(X_train)\n",
        "y_test_pred = mlp_reg.predict(X_test)\n",
        "\n",
        "r2_score_train = r2_score(y_train, y_train_pred)\n",
        "r2_score_test = r2_score(y_test, y_test_pred)\n",
        "print(f\"R squared score for train {round(r2_score_train,2)} kUSD/year, and for test {round(r2_score_test,2)} kUSD/year\")\n",
        "rmse_train = mean_squared_error(y_train, y_train_pred, squared=False)\n",
        "rmse_test = mean_squared_error(y_test, y_test_pred, squared=False)\n",
        "print(f\"RMSE score for train {round(rmse_train,2)} kUSD/year, and for test {round(rmse_test,2)} kUSD/year\")\n",
        "\n",
        "mse_train = mean_squared_error(y_train, y_train_pred, squared=True)\n",
        "mse_test = mean_squared_error(y_test, y_test_pred, squared=True)\n",
        "print(f\"MSE score for train {round(mse_train,2)} kUSD/year, and for test {round(mse_test,2)} kUSD/year\")\n",
        "\n",
        "adj_r2_train = 1 - (1-r2_score(y_train, y_train_pred)) * (len(y)-1)/(len(y)-X.shape[1]-1)\n",
        "adj_r2_test = 1 - (1-r2_score(y_test, y_test_pred)) * (len(y)-1)/(len(y)-X.shape[1]-1)\n",
        "print(f\"Adjusted R squared score for train {round(adj_r2_train,2)} kUSD/year, and for test {round(adj_r2_test,2)} kUSD/year\")\n",
        "\n",
        "mae_train = mean_absolute_error(y_train, y_train_pred)\n",
        "mae_test = mean_absolute_error(y_test, y_test_pred)\n",
        "print(f\"Mean Absolute Error score for train {round(mae_train,2)} kUSD/year, and for test {round(mae_test,2)} kUSD/year\")\n",
        "\n",
        "y_train_pred[y_train_pred <= 0] = 0.000001\n",
        "y_test_pred[y_test_pred <= 0] = 0.000001\n",
        "\n",
        "mpd_train = mean_poisson_deviance(y_train, y_train_pred)\n",
        "mpd_test = mean_poisson_deviance(y_test, y_test_pred)\n",
        "print(f\"Mean Poisson Deviance score for train {round(mpd_train,2)} kUSD/year, and for test {round(mpd_test,2)} kUSD/year\")\n",
        "\n",
        "\n",
        "mgd_train = mean_tweedie_deviance(y_train, y_train_pred, power = 2)\n",
        "mgd_test = mean_tweedie_deviance(y_test, y_test_pred, power = 2)\n",
        "print(f\"Mean Gamma Deviance score for train {round(mgd_train,1)} kUSD/year, and for test {round(mgd_test,1)} kUSD/year\")\n",
        "\n",
        "\n",
        "tweedie_train = d2_tweedie_score(y_train, y_train_pred)\n",
        "tweedie_test = d2_tweedie_score(y_test, y_test_pred)\n",
        "print(f\"Tweedie score for train {round(tweedie_train,1)} kUSD/year, and for test {round(tweedie_test,1)} kUSD/year\")\n"
      ],
      "metadata": {
        "execution": {
          "iopub.status.busy": "2022-12-03T16:44:12.196138Z",
          "iopub.execute_input": "2022-12-03T16:44:12.196554Z",
          "iopub.status.idle": "2022-12-03T16:44:44.233218Z",
          "shell.execute_reply.started": "2022-12-03T16:44:12.19652Z",
          "shell.execute_reply": "2022-12-03T16:44:44.23194Z"
        },
        "trusted": true,
        "id": "B6m9cjOtn2a1"
      },
      "execution_count": null,
      "outputs": []
    },
    {
      "cell_type": "markdown",
      "source": [
        "<a id=\"section-explain\"></a>\n",
        "# Explanations with Shapley values"
      ],
      "metadata": {
        "id": "5PHE1gaWn2a1"
      }
    },
    {
      "cell_type": "code",
      "source": [
        "shap.initjs()\n",
        "ex = shap.TreeExplainer(model)\n",
        "shap_values = ex.shap_values(X_test)\n",
        "shap.summary_plot(shap_values, X_test, max_display=30)"
      ],
      "metadata": {
        "execution": {
          "iopub.status.busy": "2022-11-13T07:56:52.651468Z",
          "iopub.execute_input": "2022-11-13T07:56:52.652518Z",
          "iopub.status.idle": "2022-11-13T07:56:54.84615Z",
          "shell.execute_reply.started": "2022-11-13T07:56:52.652482Z",
          "shell.execute_reply": "2022-11-13T07:56:54.845019Z"
        },
        "trusted": true,
        "id": "NgH3Enqen2a2"
      },
      "execution_count": null,
      "outputs": []
    },
    {
      "cell_type": "code",
      "source": [
        "expected_values = ex.expected_value\n",
        "print(f\"Average expected compensation is {round(expected_values,1)} kUSD/year\")\n",
        "print(f\"Average actual compensation is {round(np.mean(y_test),1)} kUSD/year\")"
      ],
      "metadata": {
        "execution": {
          "iopub.status.busy": "2022-11-13T07:56:54.847219Z",
          "iopub.execute_input": "2022-11-13T07:56:54.847488Z",
          "iopub.status.idle": "2022-11-13T07:56:54.852631Z",
          "shell.execute_reply.started": "2022-11-13T07:56:54.847463Z",
          "shell.execute_reply": "2022-11-13T07:56:54.851769Z"
        },
        "trusted": true,
        "id": "jpBeAD_wn2a2"
      },
      "execution_count": null,
      "outputs": []
    },
    {
      "cell_type": "code",
      "source": [
        "def show_shap(col):\n",
        "    df_infl = X_test.copy()\n",
        "    df_infl['shap_'] = shap_values[:,X_test.columns.tolist().index(col)]\n",
        "    gain = 0\n",
        "#    if df_infl.groupby(col).mean()['shap_'].sum() != 0:\n",
        "        #print(df_infl.groupby(col).mean()['shap_'].sort_values(ascending=False))\n",
        "    gain = df_infl.groupby(col).mean().loc[1, 'shap_']-df_infl.groupby(col).mean().loc[0, 'shap_']\n",
        "    gain_std = ((df_infl.groupby(col).std().loc[1, 'shap_'])**2+(df_infl.groupby(col).std().loc[0, 'shap_'])**2)**0.5\n",
        "#        print(round(gain, 2))\n",
        "#        shap.dependence_plot(col, shap_values, X_test, interaction_index=None)\n",
        "    return round(gain,3), round(gain_std,3)"
      ],
      "metadata": {
        "execution": {
          "iopub.status.busy": "2022-11-13T07:56:54.856289Z",
          "iopub.execute_input": "2022-11-13T07:56:54.856583Z",
          "iopub.status.idle": "2022-11-13T07:56:54.865347Z",
          "shell.execute_reply.started": "2022-11-13T07:56:54.856557Z",
          "shell.execute_reply": "2022-11-13T07:56:54.864329Z"
        },
        "trusted": true,
        "id": "7w9dWEmnn2a2"
      },
      "execution_count": null,
      "outputs": []
    },
    {
      "cell_type": "code",
      "source": [
        "\n",
        "def show_variants(start_str='PlatformHaveWorkedWith'):\n",
        "    col_list = []\n",
        "    gain_list = []\n",
        "    gain_std_list = []\n",
        "    for col in X_test.columns:\n",
        "        if col.startswith(start_str+'_'):\n",
        "            try:\n",
        "                gain, gain_std = show_shap(col)\n",
        "                col_list.append(col.replace(start_str+'_',''))\n",
        "                gain_list.append(gain)\n",
        "                gain_std_list.append(gain_std)\n",
        "            except:\n",
        "                pass\n",
        "    dd_dict = {'col': col_list, 'gain, kUSD/year': gain_list, 'gain_std': gain_std_list}\n",
        "    df_res = pd.DataFrame.from_dict(dd_dict).sort_values('gain, kUSD/year', ascending=False).set_index('col')\n",
        "    plt.figure(figsize=(9,6))\n",
        "    plt.errorbar(df_res.index, df_res['gain, kUSD/year'], yerr=df_res['gain_std'], fmt=\"o\", color=\"r\")\n",
        "    plt.bar(x=df_res.index, height=df_res['gain, kUSD/year'])\n",
        "    plt.title(f'SHAP values for {start_str}, yearly compensation')\n",
        "    plt.ylabel('kUSD/year')\n",
        "    plt.tick_params(axis=\"x\", rotation=90)\n",
        "    plt.show();\n",
        "    return df_res"
      ],
      "metadata": {
        "execution": {
          "iopub.status.busy": "2022-11-13T07:56:54.867011Z",
          "iopub.execute_input": "2022-11-13T07:56:54.867464Z",
          "iopub.status.idle": "2022-11-13T07:56:54.877654Z",
          "shell.execute_reply.started": "2022-11-13T07:56:54.867393Z",
          "shell.execute_reply": "2022-11-13T07:56:54.876545Z"
        },
        "trusted": true,
        "id": "3oNLxycqn2a2"
      },
      "execution_count": null,
      "outputs": []
    },
    {
      "cell_type": "code",
      "source": [
        "show_variants('LearnCode')"
      ],
      "metadata": {
        "execution": {
          "iopub.status.busy": "2022-11-13T07:56:54.878479Z",
          "iopub.execute_input": "2022-11-13T07:56:54.878724Z",
          "iopub.status.idle": "2022-11-13T07:56:55.858277Z",
          "shell.execute_reply.started": "2022-11-13T07:56:54.878701Z",
          "shell.execute_reply": "2022-11-13T07:56:55.857025Z"
        },
        "trusted": true,
        "id": "cd58zHNBn2a2"
      },
      "execution_count": null,
      "outputs": []
    },
    {
      "cell_type": "code",
      "source": [
        "show_variants('LearnCodeOnline')"
      ],
      "metadata": {
        "execution": {
          "iopub.status.busy": "2022-11-13T07:56:55.859495Z",
          "iopub.execute_input": "2022-11-13T07:56:55.859799Z",
          "iopub.status.idle": "2022-11-13T07:56:57.411569Z",
          "shell.execute_reply.started": "2022-11-13T07:56:55.859769Z",
          "shell.execute_reply": "2022-11-13T07:56:57.41096Z"
        },
        "trusted": true,
        "id": "cvUkVuaPn2a2"
      },
      "execution_count": null,
      "outputs": []
    },
    {
      "cell_type": "code",
      "source": [
        "show_variants('LearnCodeCoursesCert')"
      ],
      "metadata": {
        "execution": {
          "iopub.status.busy": "2022-11-13T07:56:57.412484Z",
          "iopub.execute_input": "2022-11-13T07:56:57.413168Z",
          "iopub.status.idle": "2022-11-13T07:56:58.194467Z",
          "shell.execute_reply.started": "2022-11-13T07:56:57.413143Z",
          "shell.execute_reply": "2022-11-13T07:56:58.193825Z"
        },
        "trusted": true,
        "id": "pbqqCNWkn2a2"
      },
      "execution_count": null,
      "outputs": []
    },
    {
      "cell_type": "code",
      "source": [
        "show_variants('PlatformHaveWorkedWith')"
      ],
      "metadata": {
        "execution": {
          "iopub.status.busy": "2022-11-13T07:56:58.195724Z",
          "iopub.execute_input": "2022-11-13T07:56:58.196273Z",
          "iopub.status.idle": "2022-11-13T07:56:59.462859Z",
          "shell.execute_reply.started": "2022-11-13T07:56:58.19624Z",
          "shell.execute_reply": "2022-11-13T07:56:59.462006Z"
        },
        "trusted": true,
        "id": "zePQIP6Mn2a2"
      },
      "execution_count": null,
      "outputs": []
    },
    {
      "cell_type": "code",
      "source": [
        "show_variants('LanguageHaveWorkedWith')"
      ],
      "metadata": {
        "execution": {
          "iopub.status.busy": "2022-11-13T07:56:59.464218Z",
          "iopub.execute_input": "2022-11-13T07:56:59.464732Z",
          "iopub.status.idle": "2022-11-13T07:57:02.77651Z",
          "shell.execute_reply.started": "2022-11-13T07:56:59.464699Z",
          "shell.execute_reply": "2022-11-13T07:57:02.775652Z"
        },
        "trusted": true,
        "id": "r_OlJL7vn2a2"
      },
      "execution_count": null,
      "outputs": []
    },
    {
      "cell_type": "code",
      "source": [
        "show_variants('DatabaseHaveWorkedWith')"
      ],
      "metadata": {
        "execution": {
          "iopub.status.busy": "2022-11-13T07:57:02.777809Z",
          "iopub.execute_input": "2022-11-13T07:57:02.778081Z",
          "iopub.status.idle": "2022-11-13T07:57:04.372966Z",
          "shell.execute_reply.started": "2022-11-13T07:57:02.778057Z",
          "shell.execute_reply": "2022-11-13T07:57:04.372131Z"
        },
        "trusted": true,
        "id": "MlGsGP6On2a2"
      },
      "execution_count": null,
      "outputs": []
    },
    {
      "cell_type": "code",
      "source": [
        "show_variants('WebframeHaveWorkedWith')"
      ],
      "metadata": {
        "execution": {
          "iopub.status.busy": "2022-11-13T07:57:04.373936Z",
          "iopub.execute_input": "2022-11-13T07:57:04.374213Z",
          "iopub.status.idle": "2022-11-13T07:57:06.461043Z",
          "shell.execute_reply.started": "2022-11-13T07:57:04.374189Z",
          "shell.execute_reply": "2022-11-13T07:57:06.460069Z"
        },
        "trusted": true,
        "id": "kpKTdld-n2a2"
      },
      "execution_count": null,
      "outputs": []
    },
    {
      "cell_type": "code",
      "source": [
        "show_variants('MiscTechHaveWorkedWith')"
      ],
      "metadata": {
        "execution": {
          "iopub.status.busy": "2022-11-13T07:57:06.463733Z",
          "iopub.execute_input": "2022-11-13T07:57:06.464022Z",
          "iopub.status.idle": "2022-11-13T07:57:08.485118Z",
          "shell.execute_reply.started": "2022-11-13T07:57:06.463998Z",
          "shell.execute_reply": "2022-11-13T07:57:08.484386Z"
        },
        "trusted": true,
        "id": "lFVrzt49n2a2"
      },
      "execution_count": null,
      "outputs": []
    },
    {
      "cell_type": "code",
      "source": [
        "show_variants('ToolsTechHaveWorkedWith')"
      ],
      "metadata": {
        "execution": {
          "iopub.status.busy": "2022-11-13T07:57:08.486292Z",
          "iopub.execute_input": "2022-11-13T07:57:08.4869Z",
          "iopub.status.idle": "2022-11-13T07:57:09.643837Z",
          "shell.execute_reply.started": "2022-11-13T07:57:08.486867Z",
          "shell.execute_reply": "2022-11-13T07:57:09.642987Z"
        },
        "trusted": true,
        "id": "bA2-GETIn2a2"
      },
      "execution_count": null,
      "outputs": []
    },
    {
      "cell_type": "code",
      "source": [
        "show_variants('NEWCollabToolsHaveWorkedWith')"
      ],
      "metadata": {
        "execution": {
          "iopub.status.busy": "2022-11-13T07:57:09.645195Z",
          "iopub.execute_input": "2022-11-13T07:57:09.645709Z",
          "iopub.status.idle": "2022-11-13T07:57:12.082415Z",
          "shell.execute_reply.started": "2022-11-13T07:57:09.645676Z",
          "shell.execute_reply": "2022-11-13T07:57:12.081452Z"
        },
        "trusted": true,
        "id": "nNcoyjfRn2a2"
      },
      "execution_count": null,
      "outputs": []
    },
    {
      "cell_type": "code",
      "source": [
        "show_variants('OfficeStackAsyncHaveWorkedWith')"
      ],
      "metadata": {
        "execution": {
          "iopub.status.busy": "2022-11-13T07:57:12.083485Z",
          "iopub.execute_input": "2022-11-13T07:57:12.083788Z",
          "iopub.status.idle": "2022-11-13T07:57:13.644527Z",
          "shell.execute_reply.started": "2022-11-13T07:57:12.083757Z",
          "shell.execute_reply": "2022-11-13T07:57:13.643718Z"
        },
        "trusted": true,
        "id": "cZwRZjYDn2a2"
      },
      "execution_count": null,
      "outputs": []
    },
    {
      "cell_type": "code",
      "source": [
        "show_variants('OfficeStackSyncHaveWorkedWith')"
      ],
      "metadata": {
        "execution": {
          "iopub.status.busy": "2022-11-13T07:57:13.645753Z",
          "iopub.execute_input": "2022-11-13T07:57:13.64603Z",
          "iopub.status.idle": "2022-11-13T07:57:14.742118Z",
          "shell.execute_reply.started": "2022-11-13T07:57:13.646006Z",
          "shell.execute_reply": "2022-11-13T07:57:14.741288Z"
        },
        "trusted": true,
        "id": "8L3Da_vCn2a3"
      },
      "execution_count": null,
      "outputs": []
    },
    {
      "cell_type": "code",
      "source": [
        "show_variants('OpSysProfessional use')"
      ],
      "metadata": {
        "execution": {
          "iopub.status.busy": "2022-11-13T07:57:14.743456Z",
          "iopub.execute_input": "2022-11-13T07:57:14.743969Z",
          "iopub.status.idle": "2022-11-13T07:57:15.553281Z",
          "shell.execute_reply.started": "2022-11-13T07:57:14.743919Z",
          "shell.execute_reply": "2022-11-13T07:57:15.552024Z"
        },
        "trusted": true,
        "id": "V_8Lu4T0n2a3"
      },
      "execution_count": null,
      "outputs": []
    },
    {
      "cell_type": "markdown",
      "source": [
        "from yellowbrick.cluster import KElbowVisualizer\n",
        "from sklearn.cluster import KMeans\n",
        "model = KMeans()\n",
        "visualizer = KElbowVisualizer(model, k=(1,12)).fit(X_all_OH[['YearsCode', 'WorkExp']])\n",
        "visualizer.show()"
      ],
      "metadata": {
        "id": "WzITFoCSn2a3"
      }
    },
    {
      "cell_type": "code",
      "source": [
        "from yellowbrick.cluster import KElbowVisualizer\n",
        "from sklearn.cluster import KMeans\n",
        "model = KMeans()\n",
        "visualizer = KElbowVisualizer(model, k=(1,12)).fit(X_all_OH[['YearsCode', 'WorkExp']])\n",
        "visualizer.show()"
      ],
      "metadata": {
        "execution": {
          "iopub.status.busy": "2022-12-06T18:02:58.708114Z",
          "iopub.execute_input": "2022-12-06T18:02:58.708547Z",
          "iopub.status.idle": "2022-12-06T18:03:07.893756Z",
          "shell.execute_reply.started": "2022-12-06T18:02:58.708511Z",
          "shell.execute_reply": "2022-12-06T18:03:07.892785Z"
        },
        "trusted": true,
        "id": "ArEL74mHn2a3",
        "outputId": "d97ed2a9-5a2c-449d-b866-483d85afcf39"
      },
      "execution_count": null,
      "outputs": [
        {
          "output_type": "display_data",
          "data": {
            "text/plain": "<Figure size 576x396 with 2 Axes>",
            "image/png": "[encoded data removed]"
          },
          "metadata": {}
        },
        {
          "execution_count": 9,
          "output_type": "execute_result",
          "data": {
            "text/plain": "<AxesSubplot:title={'center':'Distortion Score Elbow for KMeans Clustering'}, xlabel='k', ylabel='distortion score'>"
          },
          "metadata": {}
        }
      ]
    },
    {
      "cell_type": "code",
      "source": [
        "from sklearn.cluster import KMeans\n",
        "kmeans = KMeans(n_clusters=3, init='k-means++', random_state=0).fit(X_all_OH[['YearsCode', 'WorkExp']])\n",
        "y_kmeans = kmeans.predict(X_all_OH[['YearsCode', 'WorkExp']])\n",
        "import seaborn as sns\n",
        "import matplotlib.pyplot as plt\n",
        "sns.scatterplot(data=X_all_OH, x=\"YearsCode\", y=\"WorkExp\", hue=kmeans.labels_)\n",
        "#plt.scatter(X_all_OH.iloc[:, 0], X_all_OH.iloc[:, 1], c=kmeans.labels_, s=50, cmap='viridis')\n",
        "plt.scatter(kmeans.cluster_centers_[:,0], kmeans.cluster_centers_[:,1], \n",
        "            marker=\"X\", c=\"r\", s=80, label=\"centroids\")\n",
        "plt.legend()\n",
        "plt.show()"
      ],
      "metadata": {
        "execution": {
          "iopub.status.busy": "2022-12-06T18:04:30.302461Z",
          "iopub.execute_input": "2022-12-06T18:04:30.303245Z",
          "iopub.status.idle": "2022-12-06T18:04:32.363449Z",
          "shell.execute_reply.started": "2022-12-06T18:04:30.303168Z",
          "shell.execute_reply": "2022-12-06T18:04:32.362126Z"
        },
        "trusted": true,
        "id": "zgaGofqKn2a3",
        "outputId": "79389ca7-de42-4656-b710-616567b1a5a5"
      },
      "execution_count": null,
      "outputs": [
        {
          "output_type": "display_data",
          "data": {
            "text/plain": "<Figure size 432x288 with 1 Axes>",
            "image/png": "[encoded data removed]"
          },
          "metadata": {
            "needs_background": "light"
          }
        }
      ]
    },
    {
      "cell_type": "code",
      "source": [
        "from sklearn import metrics\n",
        "labels = kmeans.labels_\n",
        "metrics.silhouette_score(X_all_OH[['YearsCode', 'WorkExp']], labels, metric='euclidean')"
      ],
      "metadata": {
        "execution": {
          "iopub.status.busy": "2022-12-06T18:04:36.005881Z",
          "iopub.execute_input": "2022-12-06T18:04:36.006439Z"
        },
        "trusted": true,
        "id": "FQYBLbSFn2a3"
      },
      "execution_count": null,
      "outputs": []
    }
  ]
}